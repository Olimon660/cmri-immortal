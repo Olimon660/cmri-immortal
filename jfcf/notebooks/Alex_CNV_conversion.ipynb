{
 "cells": [
  {
   "cell_type": "code",
   "execution_count": 1,
   "metadata": {
    "ExecuteTime": {
     "end_time": "2020-02-27T05:49:05.419109Z",
     "start_time": "2020-02-27T05:48:57.481352Z"
    }
   },
   "outputs": [],
   "source": [
    "import pandas as pd"
   ]
  },
  {
   "cell_type": "markdown",
   "metadata": {},
   "source": [
    "# convert to GISTIC format"
   ]
  },
  {
   "cell_type": "markdown",
   "metadata": {},
   "source": [
    "## ALT"
   ]
  },
  {
   "cell_type": "code",
   "execution_count": 58,
   "metadata": {
    "ExecuteTime": {
     "end_time": "2020-03-03T06:15:03.248644Z",
     "start_time": "2020-03-03T06:15:01.796502Z"
    }
   },
   "outputs": [],
   "source": [
    "pannet_alt = pd.read_csv(\"../data/Alex/copy_number_somatic_mutation_CCpos.tsv\",\n",
    "                         sep='\\t')\n",
    "pannet_alt['num_probes'] = pannet_alt.apply(\n",
    "    lambda row: (row['end_probe_id'] - row['start_probe_id'] + 1), axis=1)\n",
    "\n",
    "pannet_alt['chromosome'] = pannet_alt['chromosome'].map(\n",
    "    lambda x: int(x) if x not in ['X', 'Y'] else 23 if x == 'X' else 24)"
   ]
  },
  {
   "cell_type": "code",
   "execution_count": 59,
   "metadata": {
    "ExecuteTime": {
     "end_time": "2020-03-03T06:15:03.278660Z",
     "start_time": "2020-03-03T06:15:03.251353Z"
    }
   },
   "outputs": [],
   "source": [
    "pannet_alt = pannet_alt[[\n",
    "    'icgc_donor_id', 'chromosome', 'chromosome_start', 'chromosome_end','num_probes', 'segment_median'\n",
    "]].sort_values(by=['icgc_donor_id', 'chromosome','chromosome_start','chromosome_end'])"
   ]
  },
  {
   "cell_type": "code",
   "execution_count": 60,
   "metadata": {
    "ExecuteTime": {
     "end_time": "2020-03-03T06:15:03.519828Z",
     "start_time": "2020-03-03T06:15:03.508259Z"
    }
   },
   "outputs": [
    {
     "data": {
      "text/html": [
       "<div>\n",
       "<style scoped>\n",
       "    .dataframe tbody tr th:only-of-type {\n",
       "        vertical-align: middle;\n",
       "    }\n",
       "\n",
       "    .dataframe tbody tr th {\n",
       "        vertical-align: top;\n",
       "    }\n",
       "\n",
       "    .dataframe thead th {\n",
       "        text-align: right;\n",
       "    }\n",
       "</style>\n",
       "<table border=\"1\" class=\"dataframe\">\n",
       "  <thead>\n",
       "    <tr style=\"text-align: right;\">\n",
       "      <th></th>\n",
       "      <th>icgc_donor_id</th>\n",
       "      <th>chromosome</th>\n",
       "      <th>chromosome_start</th>\n",
       "      <th>chromosome_end</th>\n",
       "      <th>num_probes</th>\n",
       "      <th>segment_median</th>\n",
       "    </tr>\n",
       "  </thead>\n",
       "  <tbody>\n",
       "    <tr>\n",
       "      <th>9669</th>\n",
       "      <td>DO46751</td>\n",
       "      <td>1</td>\n",
       "      <td>565374</td>\n",
       "      <td>9361576</td>\n",
       "      <td>6903</td>\n",
       "      <td>-0.1768</td>\n",
       "    </tr>\n",
       "    <tr>\n",
       "      <th>10105</th>\n",
       "      <td>DO46751</td>\n",
       "      <td>1</td>\n",
       "      <td>9362006</td>\n",
       "      <td>9421359</td>\n",
       "      <td>75</td>\n",
       "      <td>-0.1951</td>\n",
       "    </tr>\n",
       "    <tr>\n",
       "      <th>9999</th>\n",
       "      <td>DO46751</td>\n",
       "      <td>1</td>\n",
       "      <td>9421535</td>\n",
       "      <td>13817281</td>\n",
       "      <td>2485</td>\n",
       "      <td>-0.1861</td>\n",
       "    </tr>\n",
       "    <tr>\n",
       "      <th>9735</th>\n",
       "      <td>DO46751</td>\n",
       "      <td>1</td>\n",
       "      <td>13818618</td>\n",
       "      <td>14761482</td>\n",
       "      <td>998</td>\n",
       "      <td>-0.1203</td>\n",
       "    </tr>\n",
       "    <tr>\n",
       "      <th>9800</th>\n",
       "      <td>DO46751</td>\n",
       "      <td>1</td>\n",
       "      <td>14761504</td>\n",
       "      <td>20797185</td>\n",
       "      <td>5228</td>\n",
       "      <td>-0.1904</td>\n",
       "    </tr>\n",
       "  </tbody>\n",
       "</table>\n",
       "</div>"
      ],
      "text/plain": [
       "      icgc_donor_id  chromosome  chromosome_start  chromosome_end  num_probes  \\\n",
       "9669        DO46751           1            565374         9361576        6903   \n",
       "10105       DO46751           1           9362006         9421359          75   \n",
       "9999        DO46751           1           9421535        13817281        2485   \n",
       "9735        DO46751           1          13818618        14761482         998   \n",
       "9800        DO46751           1          14761504        20797185        5228   \n",
       "\n",
       "       segment_median  \n",
       "9669          -0.1768  \n",
       "10105         -0.1951  \n",
       "9999          -0.1861  \n",
       "9735          -0.1203  \n",
       "9800          -0.1904  "
      ]
     },
     "execution_count": 60,
     "metadata": {},
     "output_type": "execute_result"
    }
   ],
   "source": [
    "pannet_alt.head()"
   ]
  },
  {
   "cell_type": "code",
   "execution_count": 61,
   "metadata": {
    "ExecuteTime": {
     "end_time": "2020-03-03T06:15:04.972790Z",
     "start_time": "2020-03-03T06:15:04.130664Z"
    }
   },
   "outputs": [],
   "source": [
    "df = pannet_alt\n",
    "to_del = []\n",
    "for i in range(1, df.shape[0]):\n",
    "    if int(df.iloc[i, 2]) < int(df.iloc[i - 1, 3]) and df.iloc[\n",
    "            i, 0] == df.iloc[i - 1, 0] and df.iloc[i, 1] == df.iloc[i - 1, 1]:\n",
    "        to_del.append(i - 1)\n",
    "pannet_alt = df.drop(to_del)"
   ]
  },
  {
   "cell_type": "code",
   "execution_count": 53,
   "metadata": {
    "ExecuteTime": {
     "end_time": "2020-02-28T05:18:09.082781Z",
     "start_time": "2020-02-28T05:18:08.885136Z"
    }
   },
   "outputs": [],
   "source": [
    "pannet_alt.to_csv(\"../data/Alex/cnv_gistic_pannet_ALT.txt\", sep='\\t', index=False, header=False)"
   ]
  },
  {
   "cell_type": "markdown",
   "metadata": {},
   "source": [
    "# TEL"
   ]
  },
  {
   "cell_type": "code",
   "execution_count": 63,
   "metadata": {
    "ExecuteTime": {
     "end_time": "2020-03-03T06:15:26.181535Z",
     "start_time": "2020-03-03T06:15:23.658424Z"
    }
   },
   "outputs": [],
   "source": [
    "pannet_tel = pd.read_csv(\"../data/Alex/copy_number_somatic_mutation_CCneg.tsv\",\n",
    "                         sep='\\t')\n",
    "pannet_tel['num_probes'] = pannet_tel.apply(\n",
    "    lambda row: (row['end_probe_id'] - row['start_probe_id'] + 1), axis=1)\n",
    "\n",
    "pannet_tel['chromosome'] = pannet_tel['chromosome'].map(\n",
    "    lambda x: int(x) if x not in ['X', 'Y'] else 23 if x == 'X' else 24)"
   ]
  },
  {
   "cell_type": "code",
   "execution_count": 64,
   "metadata": {
    "ExecuteTime": {
     "end_time": "2020-03-03T06:15:26.235948Z",
     "start_time": "2020-03-03T06:15:26.184225Z"
    }
   },
   "outputs": [],
   "source": [
    "pannet_tel = pannet_tel[[\n",
    "    'icgc_donor_id', 'chromosome', 'chromosome_start', 'chromosome_end','num_probes', 'segment_median'\n",
    "]].sort_values(by=['icgc_donor_id', 'chromosome','chromosome_start','chromosome_end'])"
   ]
  },
  {
   "cell_type": "code",
   "execution_count": 65,
   "metadata": {
    "ExecuteTime": {
     "end_time": "2020-03-03T06:15:26.251198Z",
     "start_time": "2020-03-03T06:15:26.239091Z"
    }
   },
   "outputs": [
    {
     "data": {
      "text/html": [
       "<div>\n",
       "<style scoped>\n",
       "    .dataframe tbody tr th:only-of-type {\n",
       "        vertical-align: middle;\n",
       "    }\n",
       "\n",
       "    .dataframe tbody tr th {\n",
       "        vertical-align: top;\n",
       "    }\n",
       "\n",
       "    .dataframe thead th {\n",
       "        text-align: right;\n",
       "    }\n",
       "</style>\n",
       "<table border=\"1\" class=\"dataframe\">\n",
       "  <thead>\n",
       "    <tr style=\"text-align: right;\">\n",
       "      <th></th>\n",
       "      <th>icgc_donor_id</th>\n",
       "      <th>chromosome</th>\n",
       "      <th>chromosome_start</th>\n",
       "      <th>chromosome_end</th>\n",
       "      <th>num_probes</th>\n",
       "      <th>segment_median</th>\n",
       "    </tr>\n",
       "  </thead>\n",
       "  <tbody>\n",
       "    <tr>\n",
       "      <th>22452</th>\n",
       "      <td>DO46744</td>\n",
       "      <td>1</td>\n",
       "      <td>1585642</td>\n",
       "      <td>1907739</td>\n",
       "      <td>146</td>\n",
       "      <td>-0.0216</td>\n",
       "    </tr>\n",
       "    <tr>\n",
       "      <th>22286</th>\n",
       "      <td>DO46744</td>\n",
       "      <td>1</td>\n",
       "      <td>3406302</td>\n",
       "      <td>3526711</td>\n",
       "      <td>89</td>\n",
       "      <td>-0.0362</td>\n",
       "    </tr>\n",
       "    <tr>\n",
       "      <th>22089</th>\n",
       "      <td>DO46744</td>\n",
       "      <td>1</td>\n",
       "      <td>3529946</td>\n",
       "      <td>3558228</td>\n",
       "      <td>33</td>\n",
       "      <td>0.0998</td>\n",
       "    </tr>\n",
       "    <tr>\n",
       "      <th>22867</th>\n",
       "      <td>DO46744</td>\n",
       "      <td>1</td>\n",
       "      <td>3558564</td>\n",
       "      <td>3565373</td>\n",
       "      <td>7</td>\n",
       "      <td>0.3237</td>\n",
       "    </tr>\n",
       "    <tr>\n",
       "      <th>22876</th>\n",
       "      <td>DO46744</td>\n",
       "      <td>1</td>\n",
       "      <td>8274569</td>\n",
       "      <td>8284645</td>\n",
       "      <td>17</td>\n",
       "      <td>0.2002</td>\n",
       "    </tr>\n",
       "  </tbody>\n",
       "</table>\n",
       "</div>"
      ],
      "text/plain": [
       "      icgc_donor_id  chromosome  chromosome_start  chromosome_end  num_probes  \\\n",
       "22452       DO46744           1           1585642         1907739         146   \n",
       "22286       DO46744           1           3406302         3526711          89   \n",
       "22089       DO46744           1           3529946         3558228          33   \n",
       "22867       DO46744           1           3558564         3565373           7   \n",
       "22876       DO46744           1           8274569         8284645          17   \n",
       "\n",
       "       segment_median  \n",
       "22452         -0.0216  \n",
       "22286         -0.0362  \n",
       "22089          0.0998  \n",
       "22867          0.3237  \n",
       "22876          0.2002  "
      ]
     },
     "execution_count": 65,
     "metadata": {},
     "output_type": "execute_result"
    }
   ],
   "source": [
    "pannet_tel.head()"
   ]
  },
  {
   "cell_type": "code",
   "execution_count": 66,
   "metadata": {
    "ExecuteTime": {
     "end_time": "2020-03-03T06:15:27.803786Z",
     "start_time": "2020-03-03T06:15:26.253465Z"
    }
   },
   "outputs": [],
   "source": [
    "df = pannet_tel\n",
    "to_del = []\n",
    "\n",
    "for i in range(1, df.shape[0]):\n",
    "    if int(df.iloc[i, 2]) < int(df.iloc[i - 1, 3]) and df.iloc[\n",
    "            i, 0] == df.iloc[i - 1, 0] and df.iloc[i, 1] == df.iloc[i - 1, 1]:\n",
    "        to_del.append(i - 1)\n",
    "# pannet_tel = df.drop(to_del)"
   ]
  },
  {
   "cell_type": "code",
   "execution_count": 55,
   "metadata": {
    "ExecuteTime": {
     "end_time": "2020-02-28T05:18:20.159485Z",
     "start_time": "2020-02-28T05:18:19.800876Z"
    }
   },
   "outputs": [],
   "source": [
    "pannet_tel.to_csv(\"../data/Alex/cnv_gistic_pannet_TEL.txt\", sep='\\t', index=False, header=False)"
   ]
  },
  {
   "cell_type": "code",
   "execution_count": null,
   "metadata": {},
   "outputs": [],
   "source": []
  }
 ],
 "metadata": {
  "kernelspec": {
   "display_name": "Python 3",
   "language": "python",
   "name": "python3"
  },
  "language_info": {
   "codemirror_mode": {
    "name": "ipython",
    "version": 3
   },
   "file_extension": ".py",
   "mimetype": "text/x-python",
   "name": "python",
   "nbconvert_exporter": "python",
   "pygments_lexer": "ipython3",
   "version": "3.6.9"
  },
  "toc": {
   "base_numbering": 1,
   "nav_menu": {},
   "number_sections": true,
   "sideBar": true,
   "skip_h1_title": false,
   "title_cell": "Table of Contents",
   "title_sidebar": "Contents",
   "toc_cell": false,
   "toc_position": {},
   "toc_section_display": true,
   "toc_window_display": false
  }
 },
 "nbformat": 4,
 "nbformat_minor": 2
}
