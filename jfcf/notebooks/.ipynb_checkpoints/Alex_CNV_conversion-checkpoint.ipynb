{
 "cells": [
  {
   "cell_type": "code",
   "execution_count": 1,
   "metadata": {
    "ExecuteTime": {
     "end_time": "2020-03-06T00:02:19.965152Z",
     "start_time": "2020-03-06T00:02:19.145439Z"
    }
   },
   "outputs": [],
   "source": [
    "import pandas as pd"
   ]
  },
  {
   "cell_type": "markdown",
   "metadata": {},
   "source": [
    "# convert to GISTIC format"
   ]
  },
  {
   "cell_type": "markdown",
   "metadata": {},
   "source": [
    "## ALT"
   ]
  },
  {
   "cell_type": "code",
   "execution_count": 9,
   "metadata": {
    "ExecuteTime": {
     "end_time": "2020-03-06T00:02:50.640460Z",
     "start_time": "2020-03-06T00:02:49.906630Z"
    }
   },
   "outputs": [],
   "source": [
    "pannet_alt = pd.read_csv(\"../data/Alex/copy_number_somatic_mutation_CCpos.tsv\",\n",
    "                         sep='\\t')\n",
    "pannet_alt['num_probes'] = pannet_alt.apply(\n",
    "    lambda row: (row['end_probe_id'] - row['start_probe_id'] + 1), axis=1)\n",
    "\n",
    "pannet_alt['chromosome'] = pannet_alt['chromosome'].map(\n",
    "    lambda x: int(x) if x not in ['X', 'Y'] else 23 if x == 'X' else 24)"
   ]
  },
  {
   "cell_type": "code",
   "execution_count": 10,
   "metadata": {
    "ExecuteTime": {
     "end_time": "2020-03-06T00:02:50.669741Z",
     "start_time": "2020-03-06T00:02:50.642653Z"
    }
   },
   "outputs": [],
   "source": [
    "pannet_alt = pannet_alt[[\n",
    "    'icgc_donor_id', 'chromosome', 'chromosome_start', 'chromosome_end','num_probes', 'segment_median'\n",
    "]].sort_values(by=['icgc_donor_id', 'chromosome','chromosome_start','chromosome_end'])"
   ]
  },
  {
   "cell_type": "code",
   "execution_count": 11,
   "metadata": {
    "ExecuteTime": {
     "end_time": "2020-03-06T00:02:50.678765Z",
     "start_time": "2020-03-06T00:02:50.672173Z"
    }
   },
   "outputs": [],
   "source": [
    "pannet_alt = pannet_alt[pannet_alt['num_probes'] > 1]\n",
    "pannet_alt = pannet_alt[\n",
    "    pannet_alt['chromosome_start'] != pannet_alt['chromosome_end']]"
   ]
  },
  {
   "cell_type": "code",
   "execution_count": 12,
   "metadata": {
    "ExecuteTime": {
     "end_time": "2020-03-06T00:02:50.689671Z",
     "start_time": "2020-03-06T00:02:50.680869Z"
    }
   },
   "outputs": [
    {
     "data": {
      "text/html": [
       "<div>\n",
       "<style scoped>\n",
       "    .dataframe tbody tr th:only-of-type {\n",
       "        vertical-align: middle;\n",
       "    }\n",
       "\n",
       "    .dataframe tbody tr th {\n",
       "        vertical-align: top;\n",
       "    }\n",
       "\n",
       "    .dataframe thead th {\n",
       "        text-align: right;\n",
       "    }\n",
       "</style>\n",
       "<table border=\"1\" class=\"dataframe\">\n",
       "  <thead>\n",
       "    <tr style=\"text-align: right;\">\n",
       "      <th></th>\n",
       "      <th>icgc_donor_id</th>\n",
       "      <th>chromosome</th>\n",
       "      <th>chromosome_start</th>\n",
       "      <th>chromosome_end</th>\n",
       "      <th>num_probes</th>\n",
       "      <th>segment_median</th>\n",
       "    </tr>\n",
       "  </thead>\n",
       "  <tbody>\n",
       "    <tr>\n",
       "      <th>9669</th>\n",
       "      <td>DO46751</td>\n",
       "      <td>1</td>\n",
       "      <td>565374</td>\n",
       "      <td>9361576</td>\n",
       "      <td>6903</td>\n",
       "      <td>-0.1768</td>\n",
       "    </tr>\n",
       "    <tr>\n",
       "      <th>10105</th>\n",
       "      <td>DO46751</td>\n",
       "      <td>1</td>\n",
       "      <td>9362006</td>\n",
       "      <td>9421359</td>\n",
       "      <td>75</td>\n",
       "      <td>-0.1951</td>\n",
       "    </tr>\n",
       "    <tr>\n",
       "      <th>9999</th>\n",
       "      <td>DO46751</td>\n",
       "      <td>1</td>\n",
       "      <td>9421535</td>\n",
       "      <td>13817281</td>\n",
       "      <td>2485</td>\n",
       "      <td>-0.1861</td>\n",
       "    </tr>\n",
       "    <tr>\n",
       "      <th>9735</th>\n",
       "      <td>DO46751</td>\n",
       "      <td>1</td>\n",
       "      <td>13818618</td>\n",
       "      <td>14761482</td>\n",
       "      <td>998</td>\n",
       "      <td>-0.1203</td>\n",
       "    </tr>\n",
       "    <tr>\n",
       "      <th>9800</th>\n",
       "      <td>DO46751</td>\n",
       "      <td>1</td>\n",
       "      <td>14761504</td>\n",
       "      <td>20797185</td>\n",
       "      <td>5228</td>\n",
       "      <td>-0.1904</td>\n",
       "    </tr>\n",
       "  </tbody>\n",
       "</table>\n",
       "</div>"
      ],
      "text/plain": [
       "      icgc_donor_id  chromosome  chromosome_start  chromosome_end  num_probes  \\\n",
       "9669        DO46751           1            565374         9361576        6903   \n",
       "10105       DO46751           1           9362006         9421359          75   \n",
       "9999        DO46751           1           9421535        13817281        2485   \n",
       "9735        DO46751           1          13818618        14761482         998   \n",
       "9800        DO46751           1          14761504        20797185        5228   \n",
       "\n",
       "       segment_median  \n",
       "9669          -0.1768  \n",
       "10105         -0.1951  \n",
       "9999          -0.1861  \n",
       "9735          -0.1203  \n",
       "9800          -0.1904  "
      ]
     },
     "execution_count": 12,
     "metadata": {},
     "output_type": "execute_result"
    }
   ],
   "source": [
    "pannet_alt.head()"
   ]
  },
  {
   "cell_type": "code",
   "execution_count": 13,
   "metadata": {
    "ExecuteTime": {
     "end_time": "2020-03-06T00:02:51.820521Z",
     "start_time": "2020-03-06T00:02:51.416509Z"
    }
   },
   "outputs": [],
   "source": [
    "pannet_alt = pannet_alt.reset_index(drop=True)\n",
    "to_del = []\n",
    "for i in range(1, pannet_alt.shape[0]):\n",
    "    if int(pannet_alt.iloc[i, 2]) < int(\n",
    "            pannet_alt.iloc[i - 1, 3]\n",
    "    ) and pannet_alt.iloc[i, 0] == pannet_alt.iloc[\n",
    "            i - 1, 0] and pannet_alt.iloc[i, 1] == pannet_alt.iloc[i - 1, 1]:\n",
    "        to_del.append(i)\n",
    "        print(i)\n",
    "pannet_alt = pannet_alt.drop(to_del)"
   ]
  },
  {
   "cell_type": "code",
   "execution_count": 15,
   "metadata": {
    "ExecuteTime": {
     "end_time": "2020-03-06T00:03:09.906505Z",
     "start_time": "2020-03-06T00:03:07.817661Z"
    }
   },
   "outputs": [],
   "source": [
    "to_fill = []\n",
    "for i in range(1, pannet_alt.shape[0]):\n",
    "    if int(pannet_alt.iloc[i, 2]) > (\n",
    "            int(pannet_alt.iloc[i - 1, 3]) +\n",
    "            20) and pannet_alt.iloc[i, 0] == pannet_alt.iloc[\n",
    "                i - 1, 0] and pannet_alt.iloc[i, 1] == pannet_alt.iloc[i -\n",
    "                                                                       1, 1]:\n",
    "        to_fill.append({\n",
    "            'icgc_donor_id': pannet_alt.iloc[i, 0],\n",
    "            'chromosome': pannet_alt.iloc[i, 1],\n",
    "            'chromosome_start': int(pannet_alt.iloc[i-1, 3]+1),\n",
    "            'chromosome_end': int(pannet_alt.iloc[i, 2]-1),\n",
    "            'num_probes': 50,\n",
    "            'segment_median': 0.0\n",
    "        })"
   ]
  },
  {
   "cell_type": "code",
   "execution_count": 18,
   "metadata": {
    "ExecuteTime": {
     "end_time": "2020-03-06T00:03:50.398395Z",
     "start_time": "2020-03-06T00:03:50.307083Z"
    }
   },
   "outputs": [
    {
     "name": "stderr",
     "output_type": "stream",
     "text": [
      "/Users/scai/anaconda3/lib/python3.7/site-packages/ipykernel_launcher.py:1: FutureWarning: Sorting because non-concatenation axis is not aligned. A future version\n",
      "of pandas will change to not sort by default.\n",
      "\n",
      "To accept the future behavior, pass 'sort=False'.\n",
      "\n",
      "To retain the current behavior and silence the warning, pass 'sort=True'.\n",
      "\n",
      "  \"\"\"Entry point for launching an IPython kernel.\n"
     ]
    }
   ],
   "source": [
    "pannet_alt = pd.concat([pannet_alt, pd.DataFrame(to_fill)]).sort_values(\n",
    "    by=['icgc_donor_id', 'chromosome', 'chromosome_start', 'chromosome_end'])"
   ]
  },
  {
   "cell_type": "code",
   "execution_count": 19,
   "metadata": {
    "ExecuteTime": {
     "end_time": "2020-03-06T00:03:53.051897Z",
     "start_time": "2020-03-06T00:03:52.714961Z"
    }
   },
   "outputs": [],
   "source": [
    "pannet_alt.to_csv(\"../data/Alex/cnv_gistic_pannet_ALT.txt\", sep='\\t', index=False, header=False)"
   ]
  },
  {
   "cell_type": "markdown",
   "metadata": {},
   "source": [
    "# TEL"
   ]
  },
  {
   "cell_type": "code",
   "execution_count": 20,
   "metadata": {
    "ExecuteTime": {
     "end_time": "2020-03-06T00:04:25.633419Z",
     "start_time": "2020-03-06T00:04:24.311041Z"
    }
   },
   "outputs": [],
   "source": [
    "pannet_tel = pd.read_csv(\"../data/Alex/copy_number_somatic_mutation_CCneg.tsv\",\n",
    "                         sep='\\t',low_memory=False)\n",
    "pannet_tel['num_probes'] = pannet_tel.apply(\n",
    "    lambda row: (row['end_probe_id'] - row['start_probe_id'] + 1), axis=1)\n",
    "\n",
    "pannet_tel['chromosome'] = pannet_tel['chromosome'].map(\n",
    "    lambda x: int(x) if x not in ['X', 'Y'] else 23 if x == 'X' else 24)"
   ]
  },
  {
   "cell_type": "code",
   "execution_count": 21,
   "metadata": {
    "ExecuteTime": {
     "end_time": "2020-03-06T00:04:25.681374Z",
     "start_time": "2020-03-06T00:04:25.635651Z"
    }
   },
   "outputs": [],
   "source": [
    "pannet_tel = pannet_tel[[\n",
    "    'icgc_donor_id', 'chromosome', 'chromosome_start', 'chromosome_end',\n",
    "    'num_probes', 'segment_median'\n",
    "]].sort_values(\n",
    "    by=['icgc_donor_id', 'chromosome', 'chromosome_start', 'chromosome_end'])"
   ]
  },
  {
   "cell_type": "code",
   "execution_count": 22,
   "metadata": {
    "ExecuteTime": {
     "end_time": "2020-03-06T00:04:25.919197Z",
     "start_time": "2020-03-06T00:04:25.910644Z"
    }
   },
   "outputs": [],
   "source": [
    "pannet_tel = pannet_tel[pannet_tel['num_probes'] > 1]\n",
    "pannet_tel = pannet_tel[\n",
    "    pannet_tel['chromosome_start'] != pannet_tel['chromosome_end']]"
   ]
  },
  {
   "cell_type": "code",
   "execution_count": 23,
   "metadata": {
    "ExecuteTime": {
     "end_time": "2020-03-06T00:04:26.181237Z",
     "start_time": "2020-03-06T00:04:26.172857Z"
    }
   },
   "outputs": [
    {
     "data": {
      "text/html": [
       "<div>\n",
       "<style scoped>\n",
       "    .dataframe tbody tr th:only-of-type {\n",
       "        vertical-align: middle;\n",
       "    }\n",
       "\n",
       "    .dataframe tbody tr th {\n",
       "        vertical-align: top;\n",
       "    }\n",
       "\n",
       "    .dataframe thead th {\n",
       "        text-align: right;\n",
       "    }\n",
       "</style>\n",
       "<table border=\"1\" class=\"dataframe\">\n",
       "  <thead>\n",
       "    <tr style=\"text-align: right;\">\n",
       "      <th></th>\n",
       "      <th>icgc_donor_id</th>\n",
       "      <th>chromosome</th>\n",
       "      <th>chromosome_start</th>\n",
       "      <th>chromosome_end</th>\n",
       "      <th>num_probes</th>\n",
       "      <th>segment_median</th>\n",
       "    </tr>\n",
       "  </thead>\n",
       "  <tbody>\n",
       "    <tr>\n",
       "      <th>22452</th>\n",
       "      <td>DO46744</td>\n",
       "      <td>1</td>\n",
       "      <td>1585642</td>\n",
       "      <td>1907739</td>\n",
       "      <td>146</td>\n",
       "      <td>-0.0216</td>\n",
       "    </tr>\n",
       "    <tr>\n",
       "      <th>22286</th>\n",
       "      <td>DO46744</td>\n",
       "      <td>1</td>\n",
       "      <td>3406302</td>\n",
       "      <td>3526711</td>\n",
       "      <td>89</td>\n",
       "      <td>-0.0362</td>\n",
       "    </tr>\n",
       "    <tr>\n",
       "      <th>22089</th>\n",
       "      <td>DO46744</td>\n",
       "      <td>1</td>\n",
       "      <td>3529946</td>\n",
       "      <td>3558228</td>\n",
       "      <td>33</td>\n",
       "      <td>0.0998</td>\n",
       "    </tr>\n",
       "    <tr>\n",
       "      <th>22867</th>\n",
       "      <td>DO46744</td>\n",
       "      <td>1</td>\n",
       "      <td>3558564</td>\n",
       "      <td>3565373</td>\n",
       "      <td>7</td>\n",
       "      <td>0.3237</td>\n",
       "    </tr>\n",
       "    <tr>\n",
       "      <th>22876</th>\n",
       "      <td>DO46744</td>\n",
       "      <td>1</td>\n",
       "      <td>8274569</td>\n",
       "      <td>8284645</td>\n",
       "      <td>17</td>\n",
       "      <td>0.2002</td>\n",
       "    </tr>\n",
       "  </tbody>\n",
       "</table>\n",
       "</div>"
      ],
      "text/plain": [
       "      icgc_donor_id  chromosome  chromosome_start  chromosome_end  num_probes  \\\n",
       "22452       DO46744           1           1585642         1907739         146   \n",
       "22286       DO46744           1           3406302         3526711          89   \n",
       "22089       DO46744           1           3529946         3558228          33   \n",
       "22867       DO46744           1           3558564         3565373           7   \n",
       "22876       DO46744           1           8274569         8284645          17   \n",
       "\n",
       "       segment_median  \n",
       "22452         -0.0216  \n",
       "22286         -0.0362  \n",
       "22089          0.0998  \n",
       "22867          0.3237  \n",
       "22876          0.2002  "
      ]
     },
     "execution_count": 23,
     "metadata": {},
     "output_type": "execute_result"
    }
   ],
   "source": [
    "pannet_tel.head()"
   ]
  },
  {
   "cell_type": "code",
   "execution_count": 24,
   "metadata": {
    "ExecuteTime": {
     "end_time": "2020-03-06T00:04:38.686061Z",
     "start_time": "2020-03-06T00:04:26.695110Z"
    }
   },
   "outputs": [],
   "source": [
    "shape_i = pannet_tel.shape[0]\n",
    "while True:\n",
    "    to_del = []\n",
    "    pannet_tel = pannet_tel.reset_index(drop=True)\n",
    "    for i in range(1, pannet_tel.shape[0]):\n",
    "        if int(pannet_tel.iloc[i, 2]) < int(\n",
    "                pannet_tel.iloc[i - 1, 3]\n",
    "        ) and pannet_tel.iloc[i, 0] == pannet_tel.iloc[\n",
    "                i - 1, 0] and pannet_tel.iloc[i, 1] == pannet_tel.iloc[i - 1, 1]:\n",
    "            to_del.append(i)\n",
    "    pannet_tel = pannet_tel.drop(to_del)\n",
    "    if shape_i == pannet_tel.shape[0]:\n",
    "        break\n",
    "    shape_i = pannet_tel.shape[0]\n",
    "    "
   ]
  },
  {
   "cell_type": "code",
   "execution_count": 25,
   "metadata": {
    "ExecuteTime": {
     "end_time": "2020-03-06T00:04:42.077827Z",
     "start_time": "2020-03-06T00:04:38.688341Z"
    }
   },
   "outputs": [],
   "source": [
    "to_fill = []\n",
    "for i in range(1, pannet_tel.shape[0]):\n",
    "    if int(pannet_tel.iloc[i, 2]) > (\n",
    "            int(pannet_tel.iloc[i - 1, 3]) +\n",
    "            20) and pannet_tel.iloc[i, 0] == pannet_tel.iloc[\n",
    "                i - 1, 0] and pannet_tel.iloc[i, 1] == pannet_tel.iloc[i -\n",
    "                                                                       1, 1]:\n",
    "        to_fill.append({\n",
    "            'icgc_donor_id': pannet_tel.iloc[i, 0],\n",
    "            'chromosome': pannet_tel.iloc[i, 1],\n",
    "            'chromosome_start': int(pannet_tel.iloc[i-1, 3]+1),\n",
    "            'chromosome_end': int(pannet_tel.iloc[i, 2]-1),\n",
    "            'num_probes': 50,\n",
    "            'segment_median': 0.0\n",
    "        })"
   ]
  },
  {
   "cell_type": "code",
   "execution_count": 26,
   "metadata": {
    "ExecuteTime": {
     "end_time": "2020-03-06T00:04:44.219374Z",
     "start_time": "2020-03-06T00:04:44.065153Z"
    }
   },
   "outputs": [
    {
     "name": "stderr",
     "output_type": "stream",
     "text": [
      "/Users/scai/anaconda3/lib/python3.7/site-packages/ipykernel_launcher.py:1: FutureWarning: Sorting because non-concatenation axis is not aligned. A future version\n",
      "of pandas will change to not sort by default.\n",
      "\n",
      "To accept the future behavior, pass 'sort=False'.\n",
      "\n",
      "To retain the current behavior and silence the warning, pass 'sort=True'.\n",
      "\n",
      "  \"\"\"Entry point for launching an IPython kernel.\n"
     ]
    }
   ],
   "source": [
    "pannet_tel = pd.concat([pannet_tel, pd.DataFrame(to_fill)]).sort_values(\n",
    "    by=['icgc_donor_id', 'chromosome', 'chromosome_start', 'chromosome_end'])"
   ]
  },
  {
   "cell_type": "code",
   "execution_count": 27,
   "metadata": {
    "ExecuteTime": {
     "end_time": "2020-03-06T00:04:46.978616Z",
     "start_time": "2020-03-06T00:04:46.504477Z"
    }
   },
   "outputs": [],
   "source": [
    "pannet_tel.to_csv(\"../data/Alex/cnv_gistic_pannet_TEL.txt\", sep='\\t', index=False, header=False)"
   ]
  },
  {
   "cell_type": "code",
   "execution_count": 128,
   "metadata": {
    "ExecuteTime": {
     "end_time": "2020-03-02T02:09:52.131263Z",
     "start_time": "2020-03-02T02:09:52.054709Z"
    }
   },
   "outputs": [
    {
     "data": {
      "text/plain": [
       "icgc_donor_id\n",
       "DO46744     985\n",
       "DO46749     295\n",
       "DO46753    1440\n",
       "DO46755    1860\n",
       "DO46759    1056\n",
       "DO46765     859\n",
       "DO46767     994\n",
       "DO46769     994\n",
       "DO46771    2191\n",
       "DO46773     887\n",
       "DO46777     729\n",
       "DO46783    2546\n",
       "DO46785     998\n",
       "DO48520    1896\n",
       "DO48539    1162\n",
       "DO48545     795\n",
       "DO48553     642\n",
       "DO48554    1434\n",
       "DO48574     480\n",
       "DO51169     657\n",
       "DO51172     467\n",
       "DO51173     418\n",
       "DO51174     782\n",
       "DO51175     611\n",
       "DO51177    1230\n",
       "DO51179     688\n",
       "DO51181    1713\n",
       "DO51185    1968\n",
       "DO52120    1500\n",
       "DO52125     491\n",
       "DO52126     737\n",
       "DO52128     540\n",
       "DO52131    1731\n",
       "DO52136     742\n",
       "DO52137     432\n",
       "DO52139     540\n",
       "DO52141    1804\n",
       "DO52146     802\n",
       "DO52147     590\n",
       "DO52148     435\n",
       "DO52152    1568\n",
       "DO52154     645\n",
       "DO52155     849\n",
       "DO52161    1953\n",
       "DO52162     976\n",
       "dtype: int64"
      ]
     },
     "execution_count": 128,
     "metadata": {},
     "output_type": "execute_result"
    }
   ],
   "source": [
    "pannet_tel.groupby(['icgc_donor_id']).size()"
   ]
  },
  {
   "cell_type": "code",
   "execution_count": null,
   "metadata": {},
   "outputs": [],
   "source": []
  }
 ],
 "metadata": {
  "kernelspec": {
   "display_name": "Python 3",
   "language": "python",
   "name": "python3"
  },
  "language_info": {
   "codemirror_mode": {
    "name": "ipython",
    "version": 3
   },
   "file_extension": ".py",
   "mimetype": "text/x-python",
   "name": "python",
   "nbconvert_exporter": "python",
   "pygments_lexer": "ipython3",
   "version": "3.7.3"
  },
  "toc": {
   "base_numbering": 1,
   "nav_menu": {},
   "number_sections": true,
   "sideBar": true,
   "skip_h1_title": false,
   "title_cell": "Table of Contents",
   "title_sidebar": "Contents",
   "toc_cell": false,
   "toc_position": {},
   "toc_section_display": true,
   "toc_window_display": false
  }
 },
 "nbformat": 4,
 "nbformat_minor": 2
}
