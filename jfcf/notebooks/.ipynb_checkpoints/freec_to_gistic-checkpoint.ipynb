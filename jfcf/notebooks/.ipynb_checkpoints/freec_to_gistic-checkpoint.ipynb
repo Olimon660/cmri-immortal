{
 "cells": [
  {
   "cell_type": "code",
   "execution_count": 21,
   "metadata": {
    "ExecuteTime": {
     "end_time": "2020-02-14T06:37:47.751923Z",
     "start_time": "2020-02-14T06:37:47.749396Z"
    }
   },
   "outputs": [],
   "source": [
    "import pandas as pd\n",
    "import glob\n",
    "import re\n",
    "import numpy as np"
   ]
  },
  {
   "cell_type": "code",
   "execution_count": 22,
   "metadata": {
    "ExecuteTime": {
     "end_time": "2020-02-14T06:37:47.905615Z",
     "start_time": "2020-02-14T06:37:47.903310Z"
    }
   },
   "outputs": [],
   "source": [
    "path = '/Users/scai/CMRI/tmm/tel_vs_alt/data/freec/somatic/*bam_ratio.txt'"
   ]
  },
  {
   "cell_type": "code",
   "execution_count": 23,
   "metadata": {
    "ExecuteTime": {
     "end_time": "2020-02-14T06:37:48.069016Z",
     "start_time": "2020-02-14T06:37:48.061149Z"
    }
   },
   "outputs": [],
   "source": [
    "samples = pd.read_csv(\"../data/samples/SAMPLES_Excel_JFCF.tsv\", sep='\\t')\n",
    "samples_ALT = samples[samples['TMM'] == 'ALT']['Immortal']\n",
    "samples_TEL = samples[samples['TMM'] == 'TEL']['Immortal']"
   ]
  },
  {
   "cell_type": "code",
   "execution_count": 24,
   "metadata": {
    "ExecuteTime": {
     "end_time": "2020-02-14T06:37:48.221183Z",
     "start_time": "2020-02-14T06:37:48.218774Z"
    }
   },
   "outputs": [],
   "source": [
    "files = {}"
   ]
  },
  {
   "cell_type": "code",
   "execution_count": 25,
   "metadata": {
    "ExecuteTime": {
     "end_time": "2020-02-14T06:37:48.385090Z",
     "start_time": "2020-02-14T06:37:48.378995Z"
    }
   },
   "outputs": [
    {
     "name": "stdout",
     "output_type": "stream",
     "text": [
      "JFCF_6_T_1_G\n",
      "JFCF_6_T_1J_11E\n",
      "JFCF_6_T_1_C\n",
      "JFCF_6_T_1_R\n",
      "JFCF_6_T_1_D\n",
      "JFCF_6_T_5K\n",
      "JFCF_6_T_2H\n",
      "JFCF_6_T_1_L\n",
      "JFCF_6_T_1_H\n",
      "JFCF_6_T_1_P_ALT\n",
      "JFCF_6_T_1_M\n",
      "JFCF_6_T_1_P_TEL\n",
      "JFCF_6_T_1_Q\n",
      "JFCF_6_T_1_F\n"
     ]
    }
   ],
   "source": [
    "for fp in glob.glob(path):\n",
    "    name = re.search('.*(JFCF.*)\\.bam.*', fp).group(1).replace('-','_')\n",
    "    if name == \"JFCF_6_T_1_P\":\n",
    "        name = \"JFCF_6_T_1_P_TEL\"\n",
    "    if name == \"JFCF_6_T_1_PALT\":\n",
    "        name = \"JFCF_6_T_1_P_ALT\"\n",
    "    if name == \"JFCF6_T_1J_1_3C\":\n",
    "        name = \"JFCF_6_T_1J_1_3C\"\n",
    "    if name == \"JFCF6_T_1J_6B\":\n",
    "        name = \"JFCF_6_T_1J_6B\"\n",
    "    if name == \"JFCF_61M\":\n",
    "        name = \"JFCF_6_T_1_M\"\n",
    "    if name == \"JFCF_61Q\":\n",
    "        name = \"JFCF_6_T_1_Q\"\n",
    "    if name == \"JFCF_6_p15_marked\":\n",
    "        name = \"JFCF_6_p15\"\n",
    "    print(name)\n",
    "    files[name] = fp"
   ]
  },
  {
   "cell_type": "code",
   "execution_count": 26,
   "metadata": {
    "ExecuteTime": {
     "end_time": "2020-02-14T06:37:48.541913Z",
     "start_time": "2020-02-14T06:37:48.534286Z"
    }
   },
   "outputs": [],
   "source": [
    "df_all = []"
   ]
  },
  {
   "cell_type": "code",
   "execution_count": 27,
   "metadata": {
    "ExecuteTime": {
     "end_time": "2020-02-14T06:37:49.493726Z",
     "start_time": "2020-02-14T06:37:48.692913Z"
    }
   },
   "outputs": [],
   "source": [
    "for key, value in files.items():\n",
    "    df = pd.read_csv(value, sep='\\t')\n",
    "    df['sample'] = key\n",
    "    df_all.append(df)\n",
    "df_all = pd.concat(df_all)"
   ]
  },
  {
   "cell_type": "code",
   "execution_count": 28,
   "metadata": {
    "ExecuteTime": {
     "end_time": "2020-02-14T06:38:07.951393Z",
     "start_time": "2020-02-14T06:37:49.495867Z"
    }
   },
   "outputs": [],
   "source": [
    "df_all['logR'] = df_all.apply(\n",
    "    lambda row: 0 if row['MedianRatio'] < 0 else np.log2(row['MedianRatio'])\n",
    "    if row['Chromosome'] not in\n",
    "#     ('X', 'Y') else np.log2(row['MedianRatio']) + 1,\n",
    "    ('X', 'Y') else np.log2(row['MedianRatio']),\n",
    "    axis=1)"
   ]
  },
  {
   "cell_type": "code",
   "execution_count": 29,
   "metadata": {
    "ExecuteTime": {
     "end_time": "2020-02-14T06:38:08.875154Z",
     "start_time": "2020-02-14T06:38:07.954480Z"
    }
   },
   "outputs": [],
   "source": [
    "df_all['Chromosome'] = df_all['Chromosome'].str.replace('X', '23')\n",
    "df_all['Chromosome'] = df_all['Chromosome'].str.replace('Y', '24')\n",
    "\n",
    "df_all = df_all[df_all['Chromosome'].isin([str(x) for x in range(1, 25)])]\n",
    "\n",
    "df_all = df_all.astype({'Chromosome': int})\n",
    "\n",
    "df_all['Chromosome'].unique()\n",
    "\n",
    "df_all = df_all[['sample', 'Chromosome', 'Start',\n",
    "                 'logR']].sort_values(by=['sample', 'Chromosome', 'Start'])"
   ]
  },
  {
   "cell_type": "code",
   "execution_count": 30,
   "metadata": {
    "ExecuteTime": {
     "end_time": "2020-02-14T06:38:12.542426Z",
     "start_time": "2020-02-14T06:38:08.877394Z"
    }
   },
   "outputs": [],
   "source": [
    "df_tel = df_all[df_all['sample'].isin(samples_TEL) | (df_all['sample']=='JFCF_6_p15')]\n",
    "df_tel.to_csv('../data/freec_tel_somatic.csv', index=False)\n",
    "\n",
    "df_alt = df_all[(df_all['sample'].isin(samples_ALT)) | (df_all['sample']=='JFCF_6_p15')]\n",
    "df_alt.to_csv('../data/freec_alt_somatic.csv', index=False)\n"
   ]
  },
  {
   "cell_type": "code",
   "execution_count": null,
   "metadata": {},
   "outputs": [],
   "source": [
    "\n",
    "df_mortal = df_all[df_all['sample']=='JFCF_6_p15']\n",
    "df_mortal.to_csv('../data/freec_mortal.csv', index=False)"
   ]
  }
 ],
 "metadata": {
  "kernelspec": {
   "display_name": "Python 3",
   "language": "python",
   "name": "python3"
  },
  "language_info": {
   "codemirror_mode": {
    "name": "ipython",
    "version": 3
   },
   "file_extension": ".py",
   "mimetype": "text/x-python",
   "name": "python",
   "nbconvert_exporter": "python",
   "pygments_lexer": "ipython3",
   "version": "3.7.3"
  },
  "toc": {
   "base_numbering": 1,
   "nav_menu": {},
   "number_sections": true,
   "sideBar": true,
   "skip_h1_title": false,
   "title_cell": "Table of Contents",
   "title_sidebar": "Contents",
   "toc_cell": false,
   "toc_position": {},
   "toc_section_display": true,
   "toc_window_display": false
  }
 },
 "nbformat": 4,
 "nbformat_minor": 2
}
