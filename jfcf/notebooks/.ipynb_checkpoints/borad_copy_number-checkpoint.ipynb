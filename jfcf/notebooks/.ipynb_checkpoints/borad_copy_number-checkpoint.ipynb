{
 "cells": [
  {
   "cell_type": "code",
   "execution_count": 25,
   "metadata": {
    "ExecuteTime": {
     "end_time": "2020-01-06T02:09:32.697377Z",
     "start_time": "2020-01-06T02:09:32.694638Z"
    }
   },
   "outputs": [],
   "source": [
    "import pandas as pd\n",
    "from tqdm import tqdm_notebook\n",
    "import numpy as np\n",
    "import matplotlib.pyplot as plt\n",
    "from matplotlib import collections as mc\n"
   ]
  },
  {
   "cell_type": "code",
   "execution_count": 2,
   "metadata": {
    "ExecuteTime": {
     "end_time": "2020-01-06T01:44:56.628457Z",
     "start_time": "2020-01-06T01:44:23.670889Z"
    }
   },
   "outputs": [],
   "source": [
    "df = pd.read_excel('../data/broad/CCLE_ABSOLUTE_combined_20181227.xlsx',\n",
    "                   sheet_name='ABSOLUTE_combined.segtab')"
   ]
  },
  {
   "cell_type": "code",
   "execution_count": 3,
   "metadata": {
    "ExecuteTime": {
     "end_time": "2020-01-06T01:44:56.643850Z",
     "start_time": "2020-01-06T01:44:56.638582Z"
    }
   },
   "outputs": [],
   "source": [
    "broad_alt = pd.read_csv(\"../data/broad/BroadALTCellLines_20200106.csv\")"
   ]
  },
  {
   "cell_type": "code",
   "execution_count": 4,
   "metadata": {
    "ExecuteTime": {
     "end_time": "2020-01-06T01:44:56.669780Z",
     "start_time": "2020-01-06T01:44:56.645682Z"
    }
   },
   "outputs": [
    {
     "data": {
      "text/html": [
       "<div>\n",
       "<style scoped>\n",
       "    .dataframe tbody tr th:only-of-type {\n",
       "        vertical-align: middle;\n",
       "    }\n",
       "\n",
       "    .dataframe tbody tr th {\n",
       "        vertical-align: top;\n",
       "    }\n",
       "\n",
       "    .dataframe thead th {\n",
       "        text-align: right;\n",
       "    }\n",
       "</style>\n",
       "<table border=\"1\" class=\"dataframe\">\n",
       "  <thead>\n",
       "    <tr style=\"text-align: right;\">\n",
       "      <th></th>\n",
       "      <th>sample</th>\n",
       "      <th>Chromosome</th>\n",
       "      <th>Start</th>\n",
       "      <th>End</th>\n",
       "      <th>Num_Probes</th>\n",
       "      <th>Length</th>\n",
       "      <th>Modal_HSCN_1</th>\n",
       "      <th>Modal_HSCN_2</th>\n",
       "      <th>Modal_Total_CN</th>\n",
       "      <th>Subclonal_HSCN_a1</th>\n",
       "      <th>Subclonal_HSCN_a2</th>\n",
       "      <th>Cancer_cell_frac_a1</th>\n",
       "      <th>Ccf_ci95_low_a1</th>\n",
       "      <th>Ccf_ci95_high_a1</th>\n",
       "      <th>Cancer_cell_frac_a2</th>\n",
       "      <th>Ccf_ci95_low_a2</th>\n",
       "      <th>Ccf_ci95_high_a2</th>\n",
       "      <th>LOH</th>\n",
       "      <th>Homozygous_deletion</th>\n",
       "      <th>depMapID</th>\n",
       "    </tr>\n",
       "  </thead>\n",
       "  <tbody>\n",
       "    <tr>\n",
       "      <th>0</th>\n",
       "      <td>22RV1_PROSTATE</td>\n",
       "      <td>1</td>\n",
       "      <td>564621</td>\n",
       "      <td>111374093</td>\n",
       "      <td>32625</td>\n",
       "      <td>110809472</td>\n",
       "      <td>1</td>\n",
       "      <td>1</td>\n",
       "      <td>2</td>\n",
       "      <td>0</td>\n",
       "      <td>0</td>\n",
       "      <td>0.02</td>\n",
       "      <td>0.00000</td>\n",
       "      <td>0.03451</td>\n",
       "      <td>0.02</td>\n",
       "      <td>0.00000</td>\n",
       "      <td>0.03451</td>\n",
       "      <td>0</td>\n",
       "      <td>0</td>\n",
       "      <td>ACH-000956</td>\n",
       "    </tr>\n",
       "    <tr>\n",
       "      <th>1</th>\n",
       "      <td>22RV1_PROSTATE</td>\n",
       "      <td>1</td>\n",
       "      <td>111392067</td>\n",
       "      <td>112688311</td>\n",
       "      <td>630</td>\n",
       "      <td>1296244</td>\n",
       "      <td>1</td>\n",
       "      <td>1</td>\n",
       "      <td>2</td>\n",
       "      <td>0</td>\n",
       "      <td>0</td>\n",
       "      <td>0.09</td>\n",
       "      <td>0.04703</td>\n",
       "      <td>0.11475</td>\n",
       "      <td>0.03</td>\n",
       "      <td>0.00000</td>\n",
       "      <td>0.05880</td>\n",
       "      <td>0</td>\n",
       "      <td>0</td>\n",
       "      <td>ACH-000956</td>\n",
       "    </tr>\n",
       "    <tr>\n",
       "      <th>2</th>\n",
       "      <td>22RV1_PROSTATE</td>\n",
       "      <td>1</td>\n",
       "      <td>112706062</td>\n",
       "      <td>121291080</td>\n",
       "      <td>2495</td>\n",
       "      <td>8585018</td>\n",
       "      <td>1</td>\n",
       "      <td>1</td>\n",
       "      <td>2</td>\n",
       "      <td>0</td>\n",
       "      <td>0</td>\n",
       "      <td>0.01</td>\n",
       "      <td>0.00000</td>\n",
       "      <td>0.03025</td>\n",
       "      <td>0.01</td>\n",
       "      <td>0.00000</td>\n",
       "      <td>0.03572</td>\n",
       "      <td>0</td>\n",
       "      <td>0</td>\n",
       "      <td>ACH-000956</td>\n",
       "    </tr>\n",
       "    <tr>\n",
       "      <th>3</th>\n",
       "      <td>22RV1_PROSTATE</td>\n",
       "      <td>1</td>\n",
       "      <td>144549929</td>\n",
       "      <td>155527013</td>\n",
       "      <td>1757</td>\n",
       "      <td>10977084</td>\n",
       "      <td>1</td>\n",
       "      <td>2</td>\n",
       "      <td>3</td>\n",
       "      <td>0</td>\n",
       "      <td>0</td>\n",
       "      <td>0.01</td>\n",
       "      <td>0.00000</td>\n",
       "      <td>0.03774</td>\n",
       "      <td>0.01</td>\n",
       "      <td>0.00000</td>\n",
       "      <td>0.03890</td>\n",
       "      <td>0</td>\n",
       "      <td>0</td>\n",
       "      <td>ACH-000956</td>\n",
       "    </tr>\n",
       "    <tr>\n",
       "      <th>4</th>\n",
       "      <td>22RV1_PROSTATE</td>\n",
       "      <td>1</td>\n",
       "      <td>155563152</td>\n",
       "      <td>155667102</td>\n",
       "      <td>12</td>\n",
       "      <td>103950</td>\n",
       "      <td>0</td>\n",
       "      <td>1</td>\n",
       "      <td>1</td>\n",
       "      <td>0</td>\n",
       "      <td>0</td>\n",
       "      <td>1.00</td>\n",
       "      <td>0.64248</td>\n",
       "      <td>1.00000</td>\n",
       "      <td>0.12</td>\n",
       "      <td>0.00025</td>\n",
       "      <td>0.44607</td>\n",
       "      <td>1</td>\n",
       "      <td>0</td>\n",
       "      <td>ACH-000956</td>\n",
       "    </tr>\n",
       "  </tbody>\n",
       "</table>\n",
       "</div>"
      ],
      "text/plain": [
       "           sample  Chromosome      Start        End  Num_Probes     Length  \\\n",
       "0  22RV1_PROSTATE           1     564621  111374093       32625  110809472   \n",
       "1  22RV1_PROSTATE           1  111392067  112688311         630    1296244   \n",
       "2  22RV1_PROSTATE           1  112706062  121291080        2495    8585018   \n",
       "3  22RV1_PROSTATE           1  144549929  155527013        1757   10977084   \n",
       "4  22RV1_PROSTATE           1  155563152  155667102          12     103950   \n",
       "\n",
       "   Modal_HSCN_1  Modal_HSCN_2  Modal_Total_CN  Subclonal_HSCN_a1  \\\n",
       "0             1             1               2                  0   \n",
       "1             1             1               2                  0   \n",
       "2             1             1               2                  0   \n",
       "3             1             2               3                  0   \n",
       "4             0             1               1                  0   \n",
       "\n",
       "   Subclonal_HSCN_a2  Cancer_cell_frac_a1  Ccf_ci95_low_a1  Ccf_ci95_high_a1  \\\n",
       "0                  0                 0.02          0.00000           0.03451   \n",
       "1                  0                 0.09          0.04703           0.11475   \n",
       "2                  0                 0.01          0.00000           0.03025   \n",
       "3                  0                 0.01          0.00000           0.03774   \n",
       "4                  0                 1.00          0.64248           1.00000   \n",
       "\n",
       "   Cancer_cell_frac_a2  Ccf_ci95_low_a2  Ccf_ci95_high_a2  LOH  \\\n",
       "0                 0.02          0.00000           0.03451    0   \n",
       "1                 0.03          0.00000           0.05880    0   \n",
       "2                 0.01          0.00000           0.03572    0   \n",
       "3                 0.01          0.00000           0.03890    0   \n",
       "4                 0.12          0.00025           0.44607    1   \n",
       "\n",
       "   Homozygous_deletion    depMapID  \n",
       "0                    0  ACH-000956  \n",
       "1                    0  ACH-000956  \n",
       "2                    0  ACH-000956  \n",
       "3                    0  ACH-000956  \n",
       "4                    0  ACH-000956  "
      ]
     },
     "execution_count": 4,
     "metadata": {},
     "output_type": "execute_result"
    }
   ],
   "source": [
    "df.head()"
   ]
  },
  {
   "cell_type": "code",
   "execution_count": 12,
   "metadata": {
    "ExecuteTime": {
     "end_time": "2020-01-06T01:48:23.818754Z",
     "start_time": "2020-01-06T01:47:51.533643Z"
    }
   },
   "outputs": [
    {
     "data": {
      "application/vnd.jupyter.widget-view+json": {
       "model_id": "f7a1583355d64203939eafcc7a3b4d10",
       "version_major": 2,
       "version_minor": 0
      },
      "text/plain": [
       "HBox(children=(IntProgress(value=0, max=998), HTML(value='')))"
      ]
     },
     "metadata": {},
     "output_type": "display_data"
    },
    {
     "name": "stdout",
     "output_type": "stream",
     "text": [
      "\n"
     ]
    }
   ],
   "source": [
    "ploidies = {}\n",
    "\n",
    "for sample in tqdm_notebook(sorted(df['sample'].unique())):\n",
    "    total_len = 0\n",
    "    total_ploidy = 0\n",
    "    df_current = df[df['sample'] == sample].reset_index(drop=True)\n",
    "\n",
    "    for index, row in df_current.iterrows():\n",
    "        total_ploidy += row['Modal_Total_CN'] * (row['End']-row['Start'])\n",
    "        total_len += (row['End']-row['Start'])\n",
    "#     print(f\"{sample} avg ploidy: {total_ploidy/total_len:.4f}\")\n",
    "    ploidies[sample] = round(total_ploidy/total_len)"
   ]
  },
  {
   "cell_type": "code",
   "execution_count": 13,
   "metadata": {
    "ExecuteTime": {
     "end_time": "2020-01-06T01:48:42.901466Z",
     "start_time": "2020-01-06T01:48:42.892729Z"
    }
   },
   "outputs": [],
   "source": [
    "df_alt = df[df['sample'].isin(broad_alt['Broad_cellline'].values)]"
   ]
  },
  {
   "cell_type": "code",
   "execution_count": 17,
   "metadata": {
    "ExecuteTime": {
     "end_time": "2020-01-06T01:50:49.711192Z",
     "start_time": "2020-01-06T01:50:49.565057Z"
    }
   },
   "outputs": [
    {
     "name": "stderr",
     "output_type": "stream",
     "text": [
      "/Users/scai/anaconda3/lib/python3.7/site-packages/ipykernel_launcher.py:1: SettingWithCopyWarning: \n",
      "A value is trying to be set on a copy of a slice from a DataFrame.\n",
      "Try using .loc[row_indexer,col_indexer] = value instead\n",
      "\n",
      "See the caveats in the documentation: http://pandas.pydata.org/pandas-docs/stable/indexing.html#indexing-view-versus-copy\n",
      "  \"\"\"Entry point for launching an IPython kernel.\n",
      "/Users/scai/anaconda3/lib/python3.7/site-packages/ipykernel_launcher.py:3: SettingWithCopyWarning: \n",
      "A value is trying to be set on a copy of a slice from a DataFrame.\n",
      "Try using .loc[row_indexer,col_indexer] = value instead\n",
      "\n",
      "See the caveats in the documentation: http://pandas.pydata.org/pandas-docs/stable/indexing.html#indexing-view-versus-copy\n",
      "  This is separate from the ipykernel package so we can avoid doing imports until\n"
     ]
    }
   ],
   "source": [
    "df_alt['Modal_Total_CN'] = df_alt['Modal_Total_CN'].map(lambda x:0.0001 if x == 0 else x)\n",
    "\n",
    "df_alt['logR'] = df_alt.apply(lambda row:np.log2(row['Modal_Total_CN']/ploidies[row['sample']]), axis=1)\n",
    "\n",
    "df_alt_gistic = df_alt[['sample', 'Chromosome', 'Start', 'End', 'Num_Probes', 'logR']].reset_index(drop=True)\n",
    "\n",
    "df_alt_gistic.to_csv('../gistic/gistic_segs/cnv_gistic_broad_ALT.txt', sep='\\t', index=False, header=False)"
   ]
  },
  {
   "cell_type": "code",
   "execution_count": 21,
   "metadata": {
    "ExecuteTime": {
     "end_time": "2020-01-06T02:07:25.143788Z",
     "start_time": "2020-01-06T02:07:25.140506Z"
    }
   },
   "outputs": [],
   "source": [
    "df_alt_7 = df_alt[df_alt['Chromosome']==7]"
   ]
  },
  {
   "cell_type": "code",
   "execution_count": 27,
   "metadata": {
    "ExecuteTime": {
     "end_time": "2020-01-06T02:12:55.761894Z",
     "start_time": "2020-01-06T02:12:54.391919Z"
    }
   },
   "outputs": [
    {
     "data": {
      "image/png": "[encoded data removed]",
      "text/plain": [
       "<Figure size 1080x2880 with 8 Axes>"
      ]
     },
     "metadata": {
      "needs_background": "light"
     },
     "output_type": "display_data"
    }
   ],
   "source": [
    "fig, ax = plt.subplots(df_alt_7['sample'].unique().size,\n",
    "                       1,\n",
    "                       figsize=(15,\n",
    "                                5 * df_alt_7['sample'].unique().size))\n",
    "counter = 0\n",
    "for sample in sorted(df_alt_7['sample'].unique()):\n",
    "    df_current = df_alt_7[df_alt_7['sample'] == sample].reset_index(\n",
    "        drop=True)\n",
    "    lines = []\n",
    "    colors = []\n",
    "\n",
    "    for index, row in df_current.iterrows():\n",
    "        color = 'blue' if row['Modal_Total_CN'] == ploidies[\n",
    "            sample] else 'green' if row['Modal_Total_CN'] < ploidies[sample] else 'red'\n",
    "        lines.append([(row['Start'], row['Modal_Total_CN']),\n",
    "                      (row['End'], row['Modal_Total_CN'])])\n",
    "        colors.append(color)\n",
    "    lc = mc.LineCollection(lines, colors=colors, linewidths=2)\n",
    "    #     fig, ax = plt.subplots(figsize=(15,3))\n",
    "    ax[counter].add_collection(lc)\n",
    "    ax[counter].set_title(f\"{sample} Chr7\")\n",
    "    ax[counter].autoscale()\n",
    "    ax[counter].xaxis.set_visible(False)\n",
    "    counter += 1\n",
    "\n",
    "plt.savefig('../plots/ALT_Broad_Chr7_ploidy_norm_whole_genome.pdf',\n",
    "            orientation='portrait',\n",
    "            bbox_inches='tight')\n",
    "plt.show()"
   ]
  },
  {
   "cell_type": "code",
   "execution_count": null,
   "metadata": {},
   "outputs": [],
   "source": []
  }
 ],
 "metadata": {
  "kernelspec": {
   "display_name": "Python 3",
   "language": "python",
   "name": "python3"
  },
  "language_info": {
   "codemirror_mode": {
    "name": "ipython",
    "version": 3
   },
   "file_extension": ".py",
   "mimetype": "text/x-python",
   "name": "python",
   "nbconvert_exporter": "python",
   "pygments_lexer": "ipython3",
   "version": "3.7.3"
  },
  "toc": {
   "base_numbering": 1,
   "nav_menu": {},
   "number_sections": true,
   "sideBar": true,
   "skip_h1_title": false,
   "title_cell": "Table of Contents",
   "title_sidebar": "Contents",
   "toc_cell": false,
   "toc_position": {},
   "toc_section_display": true,
   "toc_window_display": false
  }
 },
 "nbformat": 4,
 "nbformat_minor": 2
}
