{
 "cells": [
  {
   "cell_type": "code",
   "execution_count": 1,
   "metadata": {
    "ExecuteTime": {
     "end_time": "2020-08-28T01:00:55.592456Z",
     "start_time": "2020-08-28T01:00:54.965792Z"
    }
   },
   "outputs": [],
   "source": [
    "import pandas as pd"
   ]
  },
  {
   "cell_type": "markdown",
   "metadata": {},
   "source": [
    "# preprocessing"
   ]
  },
  {
   "cell_type": "code",
   "execution_count": 2,
   "metadata": {
    "ExecuteTime": {
     "end_time": "2020-08-28T01:01:10.277739Z",
     "start_time": "2020-08-28T01:01:10.265204Z"
    }
   },
   "outputs": [],
   "source": [
    "samples = pd.read_csv(\"../data/samples/SAMPLES_Excel.tsv\", sep=\"\\t\")\n",
    "samples['label'] = samples.apply(lambda x: 0 if x['TMM'] == 'TEL' else 1\n",
    "                                 if (x['WestATRX'] == \"Neg\" or x['WestDAXX'] == \"Neg\") else \"AP\",\n",
    "                                 axis=1)\n",
    "mapping = dict(zip(samples['Immortal'].values, samples['label'].values))"
   ]
  },
  {
   "cell_type": "code",
   "execution_count": 3,
   "metadata": {
    "ExecuteTime": {
     "end_time": "2020-08-28T01:01:10.602733Z",
     "start_time": "2020-08-28T01:01:10.592325Z"
    }
   },
   "outputs": [],
   "source": [
    "tmp = samples[samples['Immortal'].str.contains(\"JF\")\n",
    "              & (samples['Immortal'] != \"JFCF_6_P_pLKO_5\")][[\n",
    "                  'Immortal', 'TMM'\n",
    "              ]].rename(columns={'Immortal': 'sample'})\n",
    "tmp['isALT'] = tmp['TMM'].map(lambda x: 1 if x == \"ALT\" else 0)\n",
    "tmp[['sample','isALT']].to_csv(\"../data/multiomic/sample_TMM.csv\", index=False)"
   ]
  },
  {
   "cell_type": "code",
   "execution_count": 4,
   "metadata": {
    "ExecuteTime": {
     "end_time": "2020-08-28T01:01:10.863947Z",
     "start_time": "2020-08-28T01:01:10.809597Z"
    }
   },
   "outputs": [],
   "source": [
    "cnv = pd.read_csv(\"../data/multiomic/CNV_JFCF-6_20200730.csv\")"
   ]
  },
  {
   "cell_type": "code",
   "execution_count": 5,
   "metadata": {
    "ExecuteTime": {
     "end_time": "2020-08-28T01:01:11.152659Z",
     "start_time": "2020-08-28T01:01:11.040543Z"
    }
   },
   "outputs": [],
   "source": [
    "protein_sample = pd.read_csv(\n",
    "    \"../data/multiomic/Protein_JFCF-6_20200730.csv\").set_index(['Gene']).T\n",
    "rna_sample = pd.read_csv(\n",
    "    \"../data/multiomic/RNA_JFCF-6_20200730.csv\").set_index(['gene']).T\n",
    "cnv_sample = pd.read_csv(\"../data/multiomic/CNV_JFCF-6_20200730.csv\").drop(\n",
    "    ['Gene ID', 'Cytoband'], axis=1).set_index(['Gene Symbol']).T"
   ]
  },
  {
   "cell_type": "code",
   "execution_count": 6,
   "metadata": {
    "ExecuteTime": {
     "end_time": "2020-08-28T01:01:11.618959Z",
     "start_time": "2020-08-28T01:01:11.612335Z"
    }
   },
   "outputs": [],
   "source": [
    "rna_sample.index.name = 'sample'\n",
    "rna_sample = rna_sample.reset_index()"
   ]
  },
  {
   "cell_type": "code",
   "execution_count": 7,
   "metadata": {
    "ExecuteTime": {
     "end_time": "2020-08-28T01:01:12.139238Z",
     "start_time": "2020-08-28T01:01:12.133122Z"
    }
   },
   "outputs": [],
   "source": [
    "rna_sample['sample'] = rna_sample['sample'].map(\n",
    "    lambda x: x.replace('-', '_').replace('.', '_').replace('/', '_'))\n",
    "rna_sample['sample'] = rna_sample['sample'].map(\n",
    "    lambda x: x.replace('JFCF_6_T_1_P(ALT)', 'JFCF_6_T_1_P_ALT').replace(\n",
    "        'JFCF_6_T_1_P(TEL)', '_JFCF_6_T_1_P_TEL'))\n",
    "rna_sample.loc[rna_sample['sample'] == 'JFCF_6_T_1_P',\n",
    "                  'sample'] = 'JFCF_6_T_1_P_TEL'"
   ]
  },
  {
   "cell_type": "code",
   "execution_count": 10,
   "metadata": {
    "ExecuteTime": {
     "end_time": "2020-08-27T14:25:01.874376Z",
     "start_time": "2020-08-27T14:25:01.502555Z"
    }
   },
   "outputs": [],
   "source": [
    "rna_sample.to_csv(\"../data/multiomic/RNA_JFCF-6_20200730_processed.csv\",index=False)"
   ]
  },
  {
   "cell_type": "code",
   "execution_count": 8,
   "metadata": {
    "ExecuteTime": {
     "end_time": "2020-08-28T01:01:15.066199Z",
     "start_time": "2020-08-28T01:01:15.062245Z"
    }
   },
   "outputs": [],
   "source": [
    "protein_sample.index.name = 'sample'\n",
    "protein_sample = protein_sample.reset_index()"
   ]
  },
  {
   "cell_type": "code",
   "execution_count": 9,
   "metadata": {
    "ExecuteTime": {
     "end_time": "2020-08-28T01:01:15.207295Z",
     "start_time": "2020-08-28T01:01:15.202337Z"
    }
   },
   "outputs": [],
   "source": [
    "protein_sample['sample'] = protein_sample['sample'].map(\n",
    "    lambda x: x.replace('-', '_').replace('.', '_').replace('/', '_'))\n",
    "protein_sample['sample'] = protein_sample['sample'].map(\n",
    "    lambda x: x.replace('JFCF_6_T_1_P(ALT)', 'JFCF_6_T_1_P_ALT').replace(\n",
    "        'JFCF_6_T_1_P(TEL)', '_JFCF_6_T_1_P_TEL'))\n",
    "protein_sample.loc[protein_sample['sample'] == 'JFCF_6_T_1_P',\n",
    "                  'sample'] = 'JFCF_6_T_1_P_TEL'"
   ]
  },
  {
   "cell_type": "code",
   "execution_count": 27,
   "metadata": {
    "ExecuteTime": {
     "end_time": "2020-08-28T00:54:06.151620Z",
     "start_time": "2020-08-28T00:54:05.995752Z"
    }
   },
   "outputs": [],
   "source": [
    "protein_sample.to_csv(\"../data/multiomic/Protein_JFCF-6_20200730_processed.csv\",index=False)"
   ]
  },
  {
   "cell_type": "markdown",
   "metadata": {},
   "source": [
    "## protein filtering"
   ]
  },
  {
   "cell_type": "code",
   "execution_count": null,
   "metadata": {},
   "outputs": [],
   "source": []
  }
 ],
 "metadata": {
  "kernelspec": {
   "display_name": "Python 3",
   "language": "python",
   "name": "python3"
  },
  "language_info": {
   "codemirror_mode": {
    "name": "ipython",
    "version": 3
   },
   "file_extension": ".py",
   "mimetype": "text/x-python",
   "name": "python",
   "nbconvert_exporter": "python",
   "pygments_lexer": "ipython3",
   "version": "3.8.5"
  },
  "toc": {
   "base_numbering": 1,
   "nav_menu": {},
   "number_sections": true,
   "sideBar": true,
   "skip_h1_title": false,
   "title_cell": "Table of Contents",
   "title_sidebar": "Contents",
   "toc_cell": false,
   "toc_position": {},
   "toc_section_display": true,
   "toc_window_display": false
  }
 },
 "nbformat": 4,
 "nbformat_minor": 4
}
