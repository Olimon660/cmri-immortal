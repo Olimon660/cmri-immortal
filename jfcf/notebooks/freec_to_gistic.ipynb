{
 "cells": [
  {
   "cell_type": "code",
   "execution_count": 31,
   "metadata": {
    "ExecuteTime": {
     "end_time": "2020-02-14T06:48:55.859368Z",
     "start_time": "2020-02-14T06:48:55.856974Z"
    }
   },
   "outputs": [],
   "source": [
    "import pandas as pd\n",
    "import glob\n",
    "import re\n",
    "import numpy as np"
   ]
  },
  {
   "cell_type": "code",
   "execution_count": 32,
   "metadata": {
    "ExecuteTime": {
     "end_time": "2020-02-14T06:48:55.990675Z",
     "start_time": "2020-02-14T06:48:55.988278Z"
    }
   },
   "outputs": [],
   "source": [
    "path = '/Users/scai/CMRI/tmm/tel_vs_alt/data/freec/somatic/*bam_ratio.txt'"
   ]
  },
  {
   "cell_type": "code",
   "execution_count": 33,
   "metadata": {
    "ExecuteTime": {
     "end_time": "2020-02-14T06:48:56.195532Z",
     "start_time": "2020-02-14T06:48:56.187249Z"
    }
   },
   "outputs": [],
   "source": [
    "samples = pd.read_csv(\"../data/samples/SAMPLES_Excel_JFCF.tsv\", sep='\\t')\n",
    "samples_ALT = samples[samples['TMM'] == 'ALT']['Immortal']\n",
    "samples_TEL = samples[samples['TMM'] == 'TEL']['Immortal']"
   ]
  },
  {
   "cell_type": "code",
   "execution_count": 34,
   "metadata": {
    "ExecuteTime": {
     "end_time": "2020-02-14T06:48:56.306284Z",
     "start_time": "2020-02-14T06:48:56.303982Z"
    }
   },
   "outputs": [],
   "source": [
    "files = {}"
   ]
  },
  {
   "cell_type": "code",
   "execution_count": 35,
   "metadata": {
    "ExecuteTime": {
     "end_time": "2020-02-14T06:48:56.469224Z",
     "start_time": "2020-02-14T06:48:56.462928Z"
    }
   },
   "outputs": [
    {
     "name": "stdout",
     "output_type": "stream",
     "text": [
      "JFCF_6_T_1_G\n",
      "JFCF_6_T_1J_11E\n",
      "JFCF_6_T_1_C\n",
      "JFCF_6_T_1_R\n",
      "JFCF_6_T_1_D\n",
      "JFCF_6_T_5K\n",
      "JFCF_6_T_2H\n",
      "JFCF_6_T_1_L\n",
      "JFCF_6_T_1_H\n",
      "JFCF_6_T_1_P_ALT\n",
      "JFCF_6_T_1_M\n",
      "JFCF_6_T_1_P_TEL\n",
      "JFCF_6_T_1_Q\n",
      "JFCF_6_T_1_F\n"
     ]
    }
   ],
   "source": [
    "for fp in glob.glob(path):\n",
    "    name = re.search('.*(JFCF.*)\\.bam.*', fp).group(1).replace('-','_')\n",
    "    if name == \"JFCF_6_T_1_P\":\n",
    "        name = \"JFCF_6_T_1_P_TEL\"\n",
    "    if name == \"JFCF_6_T_1_PALT\":\n",
    "        name = \"JFCF_6_T_1_P_ALT\"\n",
    "    if name == \"JFCF6_T_1J_1_3C\":\n",
    "        name = \"JFCF_6_T_1J_1_3C\"\n",
    "    if name == \"JFCF6_T_1J_6B\":\n",
    "        name = \"JFCF_6_T_1J_6B\"\n",
    "    if name == \"JFCF_61M\":\n",
    "        name = \"JFCF_6_T_1_M\"\n",
    "    if name == \"JFCF_61Q\":\n",
    "        name = \"JFCF_6_T_1_Q\"\n",
    "    if name == \"JFCF_6_p15_marked\":\n",
    "        name = \"JFCF_6_p15\"\n",
    "    print(name)\n",
    "    files[name] = fp"
   ]
  },
  {
   "cell_type": "code",
   "execution_count": 36,
   "metadata": {
    "ExecuteTime": {
     "end_time": "2020-02-14T06:48:56.628501Z",
     "start_time": "2020-02-14T06:48:56.620635Z"
    }
   },
   "outputs": [],
   "source": [
    "df_all = []"
   ]
  },
  {
   "cell_type": "code",
   "execution_count": 37,
   "metadata": {
    "ExecuteTime": {
     "end_time": "2020-02-14T06:48:57.590002Z",
     "start_time": "2020-02-14T06:48:56.803487Z"
    }
   },
   "outputs": [],
   "source": [
    "for key, value in files.items():\n",
    "    df = pd.read_csv(value, sep='\\t')\n",
    "    df['sample'] = key\n",
    "    df_all.append(df)\n",
    "df_all = pd.concat(df_all)"
   ]
  },
  {
   "cell_type": "code",
   "execution_count": 38,
   "metadata": {
    "ExecuteTime": {
     "end_time": "2020-02-14T06:49:16.958334Z",
     "start_time": "2020-02-14T06:48:57.592342Z"
    }
   },
   "outputs": [],
   "source": [
    "df_all['logR'] = df_all.apply(\n",
    "    lambda row: 0 if row['MedianRatio'] < 0 else np.log2(row['MedianRatio'])\n",
    "    if row['Chromosome'] not in\n",
    "#     ('X', 'Y') else np.log2(row['MedianRatio']) + 1,\n",
    "    ('X', 'Y') else np.log2(row['MedianRatio']),\n",
    "    axis=1)"
   ]
  },
  {
   "cell_type": "code",
   "execution_count": 39,
   "metadata": {
    "ExecuteTime": {
     "end_time": "2020-02-14T06:49:18.078449Z",
     "start_time": "2020-02-14T06:49:16.961276Z"
    }
   },
   "outputs": [],
   "source": [
    "df_all['Chromosome'] = df_all['Chromosome'].str.replace('X', '23')\n",
    "df_all['Chromosome'] = df_all['Chromosome'].str.replace('Y', '24')\n",
    "\n",
    "df_all = df_all[df_all['Chromosome'].isin([str(x) for x in range(1, 25)])]\n",
    "\n",
    "df_all = df_all.astype({'Chromosome': int})\n",
    "\n",
    "df_all['Chromosome'].unique()\n",
    "\n",
    "df_all = df_all[['sample', 'Chromosome', 'Start',\n",
    "                 'logR']].sort_values(by=['sample', 'Chromosome', 'Start'])"
   ]
  },
  {
   "cell_type": "code",
   "execution_count": 40,
   "metadata": {
    "ExecuteTime": {
     "end_time": "2020-02-14T06:49:21.973088Z",
     "start_time": "2020-02-14T06:49:18.080512Z"
    }
   },
   "outputs": [],
   "source": [
    "df_tel = df_all[df_all['sample'].isin(samples_TEL) | (df_all['sample']=='JFCF_6_p15')]\n",
    "df_tel.to_csv('../data/freec_tel_somatic.csv', index=False)\n",
    "\n",
    "df_alt = df_all[(df_all['sample'].isin(samples_ALT)) | (df_all['sample']=='JFCF_6_p15')]\n",
    "df_alt.to_csv('../data/freec_alt_somatic.csv', index=False)\n"
   ]
  },
  {
   "cell_type": "code",
   "execution_count": null,
   "metadata": {},
   "outputs": [],
   "source": [
    "\n",
    "df_mortal = df_all[df_all['sample']=='JFCF_6_p15']\n",
    "df_mortal.to_csv('../data/freec_mortal.csv', index=False)"
   ]
  }
 ],
 "metadata": {
  "kernelspec": {
   "display_name": "Python 3",
   "language": "python",
   "name": "python3"
  },
  "language_info": {
   "codemirror_mode": {
    "name": "ipython",
    "version": 3
   },
   "file_extension": ".py",
   "mimetype": "text/x-python",
   "name": "python",
   "nbconvert_exporter": "python",
   "pygments_lexer": "ipython3",
   "version": "3.7.3"
  },
  "toc": {
   "base_numbering": 1,
   "nav_menu": {},
   "number_sections": true,
   "sideBar": true,
   "skip_h1_title": false,
   "title_cell": "Table of Contents",
   "title_sidebar": "Contents",
   "toc_cell": false,
   "toc_position": {},
   "toc_section_display": true,
   "toc_window_display": false
  }
 },
 "nbformat": 4,
 "nbformat_minor": 2
}
