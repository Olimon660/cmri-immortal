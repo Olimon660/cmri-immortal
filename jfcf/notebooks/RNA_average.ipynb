{
 "cells": [
  {
   "cell_type": "code",
   "execution_count": 1,
   "metadata": {
    "ExecuteTime": {
     "end_time": "2019-12-05T11:26:04.512519Z",
     "start_time": "2019-12-05T11:26:04.029587Z"
    }
   },
   "outputs": [],
   "source": [
    "import pandas as pd\n",
    "import numpy as np\n",
    "import re"
   ]
  },
  {
   "cell_type": "code",
   "execution_count": 16,
   "metadata": {
    "ExecuteTime": {
     "end_time": "2019-12-05T11:29:34.844631Z",
     "start_time": "2019-12-05T11:29:34.838528Z"
    }
   },
   "outputs": [],
   "source": [
    "def f7(seq):\n",
    "    seen = set()\n",
    "    seen_add = seen.add\n",
    "    return [x for x in seq if not (x in seen or seen_add(x))]\n",
    "\n",
    "def average_replicates(df):\n",
    "    bio_reps = []\n",
    "    df_new = pd.DataFrame()\n",
    "    for c in df.columns.values:\n",
    "        s = re.search('(.*)_[0-9]$', c)\n",
    "        if s:\n",
    "            bio_reps.append(s.group(1))\n",
    "    bio_reps = f7(bio_reps)\n",
    "    for bio_rep in bio_reps:\n",
    "        cols = [c for c in df.columns.values if c.startswith(bio_rep)]\n",
    "        df_new[bio_rep] = np.nanmean(df[cols], axis=1)\n",
    "        \n",
    "    df_new.index = df.index\n",
    "    return df_new"
   ]
  },
  {
   "cell_type": "code",
   "execution_count": 19,
   "metadata": {
    "ExecuteTime": {
     "end_time": "2019-12-05T11:30:39.996542Z",
     "start_time": "2019-12-05T11:30:39.257092Z"
    }
   },
   "outputs": [],
   "source": [
    "df = pd.read_csv(\"../results/ruv_counts.tsv\", sep=\"\\t\")\n",
    "df = df.set_index('Gene')\n",
    "\n",
    "df = df.rename(\n",
    "    columns={\n",
    "        '18_JFCF_6_T_1J_1_3C_1': '17_JFCF_6_T_1J_1_3C_4',\n",
    "        '18_JFCF_6_T_1J_1_3C_2': '17_JFCF_6_T_1J_1_3C_5',\n",
    "        '18_JFCF_6_T_1J_1_3C_3': '17_JFCF_6_T_1J_1_3C_6'\n",
    "    })\n",
    "\n",
    "df_avg = average_replicates(df)\n",
    "\n",
    "df_avg.to_csv(\"../results/ruv_counts_avg.tsv\", sep='\\t')"
   ]
  },
  {
   "cell_type": "code",
   "execution_count": null,
   "metadata": {},
   "outputs": [],
   "source": []
  },
  {
   "cell_type": "code",
   "execution_count": 20,
   "metadata": {
    "ExecuteTime": {
     "end_time": "2019-12-05T11:30:42.058227Z",
     "start_time": "2019-12-05T11:30:41.225832Z"
    }
   },
   "outputs": [],
   "source": [
    "df = pd.read_csv(\"../results/raw_counts.tsv\", sep=\"\\t\")\n",
    "df = df.set_index('Gene')\n",
    "\n",
    "df = df.rename(\n",
    "    columns={\n",
    "        '18_JFCF_6_T_1J_1_3C_1': '17_JFCF_6_T_1J_1_3C_4',\n",
    "        '18_JFCF_6_T_1J_1_3C_2': '17_JFCF_6_T_1J_1_3C_5',\n",
    "        '18_JFCF_6_T_1J_1_3C_3': '17_JFCF_6_T_1J_1_3C_6'\n",
    "    })\n",
    "\n",
    "df_avg = average_replicates(df)\n",
    "\n",
    "df_avg.to_csv(\"../results/raw_counts_avg.tsv\", sep='\\t')"
   ]
  },
  {
   "cell_type": "code",
   "execution_count": null,
   "metadata": {},
   "outputs": [],
   "source": []
  }
 ],
 "metadata": {
  "kernelspec": {
   "display_name": "Python 3",
   "language": "python",
   "name": "python3"
  },
  "language_info": {
   "codemirror_mode": {
    "name": "ipython",
    "version": 3
   },
   "file_extension": ".py",
   "mimetype": "text/x-python",
   "name": "python",
   "nbconvert_exporter": "python",
   "pygments_lexer": "ipython3",
   "version": "3.7.3"
  },
  "toc": {
   "base_numbering": 1,
   "nav_menu": {},
   "number_sections": true,
   "sideBar": true,
   "skip_h1_title": false,
   "title_cell": "Table of Contents",
   "title_sidebar": "Contents",
   "toc_cell": false,
   "toc_position": {},
   "toc_section_display": true,
   "toc_window_display": false
  }
 },
 "nbformat": 4,
 "nbformat_minor": 2
}
