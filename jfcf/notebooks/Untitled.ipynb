{
 "cells": [
  {
   "cell_type": "markdown",
   "metadata": {
    "code_folding": []
   },
   "source": [
    "# Input data and gene lists"
   ]
  },
  {
   "cell_type": "code",
   "execution_count": 2,
   "metadata": {
    "ExecuteTime": {
     "end_time": "2020-06-19T06:02:46.850381Z",
     "start_time": "2020-06-19T06:02:46.842512Z"
    }
   },
   "outputs": [],
   "source": [
    "import pandas as pd\n",
    "import numpy as np\n",
    "import seaborn as sns\n",
    "import matplotlib.pyplot as plt\n",
    "from IPython.display import display\n",
    "pd.options.display.max_columns = None\n",
    "%matplotlib inline\n",
    "pd.options.display.max_rows = None\n",
    "from venn import venn\n",
    "from scipy.stats import fisher_exact"
   ]
  },
  {
   "cell_type": "code",
   "execution_count": 3,
   "metadata": {
    "ExecuteTime": {
     "end_time": "2020-06-19T06:10:52.168648Z",
     "start_time": "2020-06-19T06:10:52.082092Z"
    }
   },
   "outputs": [],
   "source": [
    "tel_genes_list = pd.read_csv (\"../immortal_simon/annovar/TelNet_2093GeneList.csv\")\n",
    "#Telnet telomere related gene list\n",
    "epi_genes_list = pd.read_csv (\"../immortal_simon/annovar/TelNet_2093GeneList.csv\")\n",
    "# 912 CRs and HP gene list\n",
    "cancer_genes_list = pd.read_csv (\"../immortal_simon/annovar/Cancer Census genes_Census_allWed Jun 10 09 31 19 2020.csv\")"
   ]
  },
  {
   "cell_type": "code",
   "execution_count": 4,
   "metadata": {
    "ExecuteTime": {
     "end_time": "2020-06-19T06:11:07.287027Z",
     "start_time": "2020-06-19T06:11:07.283537Z"
    }
   },
   "outputs": [],
   "source": [
    "alt_list = ['JFCF_6_T_1_M','JFCF_6_T_1_Q','JFCF_6_T_1_D','JFCF_6_T_1J_11E','JFCF_6_T_1J_1_3C','JFCF_6_T_1_L',\n",
    "            'JFCF_6_T_1_P_ALT','JFCF_6_T_1_R','JFCF_6_T_5K']"
   ]
  },
  {
   "cell_type": "code",
   "execution_count": 6,
   "metadata": {
    "ExecuteTime": {
     "end_time": "2020-06-19T06:11:19.285578Z",
     "start_time": "2020-06-19T06:11:19.282120Z"
    }
   },
   "outputs": [],
   "source": [
    "tel_list = ['JFCF_6_T_1_C','JFCF_6_T_1_F','JFCF_6_T_1_G','JFCF_6_T_1_H','JFCF_6_T_1J_11C','JFCF_6_T_1J_6B',\n",
    "           'JFCF_6_T_1_P_TEL','JFCF_6_T_2H']"
   ]
  },
  {
   "cell_type": "code",
   "execution_count": 7,
   "metadata": {
    "ExecuteTime": {
     "end_time": "2020-06-19T06:13:36.675533Z",
     "start_time": "2020-06-19T06:13:36.109057Z"
    }
   },
   "outputs": [
    {
     "name": "stderr",
     "output_type": "stream",
     "text": [
      "/home/scai/anaconda3/envs/py36/lib/python3.6/site-packages/IPython/core/interactiveshell.py:3058: DtypeWarning: Columns (3,23,24,25,26,27,28,29,30,31,32,33,34,35,36,37,38,39,40,41,42,43,44,45,46,47,48,49,50,51,52,53,54,55,56,57,58,59,60,61,62,63,64,65,66,67,68,69) have mixed types. Specify dtype option on import or set low_memory=False.\n",
      "  interactivity=interactivity, compiler=compiler, result=result)\n"
     ]
    }
   ],
   "source": [
    "mg_exc_df = pd.read_csv(\"../immortal_simon/annovar/annovar_mutect_gridss_coding_split.tsv\", sep=\"\\t\")\n",
    "# this data cantains somatic short mutations and SVs, as well as the germline coding exonic SVs \n",
    "# Just SVs in this data is filtered with Bedtool to focus on coding exonic data; all feature_fusion SVs were droped.\n",
    "# this data still contains all types of somatic short mutations, including 5/3 UTR, down/up-stream...\n",
    "# exonic in ANNOVAR just means the coding region of a exon (excluding UTR5/3)\n",
    "# ncRNA_exonic in ANNOVAR indicates the \"coding\" region of a ncRNA exon (excluding UTR5/3)\n",
    "# it is notable that this data contains both proteins and ncRNAs' exonic short mutations and coding exonic SVs"
   ]
  },
  {
   "cell_type": "code",
   "execution_count": 8,
   "metadata": {
    "ExecuteTime": {
     "end_time": "2020-06-19T06:14:16.256632Z",
     "start_time": "2020-06-19T06:14:16.250151Z"
    }
   },
   "outputs": [
    {
     "data": {
      "text/plain": [
       "(24274, 70)"
      ]
     },
     "execution_count": 8,
     "metadata": {},
     "output_type": "execute_result"
    }
   ],
   "source": [
    "mg_exc_df.shape"
   ]
  },
  {
   "cell_type": "code",
   "execution_count": 9,
   "metadata": {
    "ExecuteTime": {
     "end_time": "2020-06-19T06:15:31.758608Z",
     "start_time": "2020-06-19T06:15:31.450070Z"
    }
   },
   "outputs": [
    {
     "ename": "NameError",
     "evalue": "name 'head' is not defined",
     "output_type": "error",
     "traceback": [
      "\u001b[0;31m---------------------------------------------------------------------------\u001b[0m",
      "\u001b[0;31mNameError\u001b[0m                                 Traceback (most recent call last)",
      "\u001b[0;32m<ipython-input-9-48ddf94f1e54>\u001b[0m in \u001b[0;36m<module>\u001b[0;34m\u001b[0m\n\u001b[0;32m----> 1\u001b[0;31m \u001b[0mhead\u001b[0m\u001b[0;34m(\u001b[0m\u001b[0mmg_exc_df\u001b[0m\u001b[0;34m.\u001b[0m\u001b[0mshape\u001b[0m\u001b[0;34m)\u001b[0m\u001b[0;34m\u001b[0m\u001b[0;34m\u001b[0m\u001b[0m\n\u001b[0m",
      "\u001b[0;31mNameError\u001b[0m: name 'head' is not defined"
     ]
    }
   ],
   "source": [
    "head(mg_exc_df.shape)"
   ]
  }
 ],
 "metadata": {
  "kernelspec": {
   "display_name": "Python 3",
   "language": "python",
   "name": "python3"
  },
  "language_info": {
   "codemirror_mode": {
    "name": "ipython",
    "version": 3
   },
   "file_extension": ".py",
   "mimetype": "text/x-python",
   "name": "python",
   "nbconvert_exporter": "python",
   "pygments_lexer": "ipython3",
   "version": "3.6.9"
  },
  "toc": {
   "base_numbering": 1,
   "nav_menu": {},
   "number_sections": true,
   "sideBar": true,
   "skip_h1_title": false,
   "title_cell": "Table of Contents",
   "title_sidebar": "Contents",
   "toc_cell": false,
   "toc_position": {},
   "toc_section_display": true,
   "toc_window_display": false
  }
 },
 "nbformat": 4,
 "nbformat_minor": 2
}
