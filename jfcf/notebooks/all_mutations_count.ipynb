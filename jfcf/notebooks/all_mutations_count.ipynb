{
 "cells": [
  {
   "cell_type": "code",
   "execution_count": 155,
   "metadata": {
    "ExecuteTime": {
     "end_time": "2020-08-28T10:31:09.209049Z",
     "start_time": "2020-08-28T10:31:09.203695Z"
    }
   },
   "outputs": [],
   "source": [
    "import pandas as pd\n",
    "import qgrid\n",
    "import matplotlib.pyplot as plt\n",
    "from matplotlib_venn import venn2, venn2_circles, venn3, venn3_circles\n",
    "from tqdm.notebook import tqdm, trange\n",
    "from joblib import Parallel, delayed"
   ]
  },
  {
   "cell_type": "code",
   "execution_count": 98,
   "metadata": {
    "ExecuteTime": {
     "end_time": "2020-08-27T10:07:37.211384Z",
     "start_time": "2020-08-27T10:07:37.205684Z"
    }
   },
   "outputs": [],
   "source": [
    "sample = pd.read_csv(\"../data/samples/SAMPLES_Excel.tsv\",sep='\\t')"
   ]
  },
  {
   "cell_type": "code",
   "execution_count": 99,
   "metadata": {
    "ExecuteTime": {
     "end_time": "2020-08-27T10:07:37.487824Z",
     "start_time": "2020-08-27T10:07:37.483148Z"
    }
   },
   "outputs": [],
   "source": [
    "jfcf_alt = sample[(sample['Immortal'].str.contains(\"JF\"))\n",
    "                  & (sample['TMM'] == 'ALT')]['Immortal'].values\n",
    "jfcf_tel = sample[(sample['Immortal'].str.contains(\"JF\"))\n",
    "                  & (sample['TMM'] == 'TEL')]['Immortal'].values"
   ]
  },
  {
   "cell_type": "code",
   "execution_count": 100,
   "metadata": {
    "ExecuteTime": {
     "end_time": "2020-08-27T10:07:37.737549Z",
     "start_time": "2020-08-27T10:07:37.734255Z"
    }
   },
   "outputs": [],
   "source": [
    "def split_gene(df, index, sep='&'):\n",
    "    tmp = pd.DataFrame(columns=df.columns)\n",
    "    row= df.iloc[index,:]\n",
    "    genes = row['Gene.refGene']\n",
    "    for gene in genes.split(sep):\n",
    "        if gene == 'NONE':\n",
    "            continue\n",
    "        row['Gene.refGene'] = gene\n",
    "        tmp = tmp.append(row)\n",
    "    return tmp"
   ]
  },
  {
   "cell_type": "code",
   "execution_count": null,
   "metadata": {},
   "outputs": [],
   "source": []
  },
  {
   "cell_type": "markdown",
   "metadata": {
    "heading_collapsed": true
   },
   "source": [
    "# all"
   ]
  },
  {
   "cell_type": "code",
   "execution_count": 113,
   "metadata": {
    "ExecuteTime": {
     "end_time": "2020-08-27T10:08:51.704079Z",
     "start_time": "2020-08-27T10:08:50.755690Z"
    },
    "hidden": true
   },
   "outputs": [],
   "source": [
    "annovar_df = pd.read_csv(\"../data/annovar/combined_somatic.tsv\", sep='\\t')"
   ]
  },
  {
   "cell_type": "code",
   "execution_count": 114,
   "metadata": {
    "ExecuteTime": {
     "end_time": "2020-08-27T10:08:58.103852Z",
     "start_time": "2020-08-27T10:08:52.366840Z"
    },
    "hidden": true
   },
   "outputs": [],
   "source": [
    "gridss_df = pd.read_csv(\"../data/gridss/DATA_GRIDSS.tsv\",sep='\\t')\n",
    "\n",
    "gridss_df = gridss_df[gridss_df['Key'].str.contains('Somatic')].reset_index(drop=True)"
   ]
  },
  {
   "cell_type": "code",
   "execution_count": 115,
   "metadata": {
    "ExecuteTime": {
     "end_time": "2020-08-27T10:08:58.728151Z",
     "start_time": "2020-08-27T10:08:58.718406Z"
    },
    "hidden": true
   },
   "outputs": [],
   "source": [
    "sv_df = pd.merge(gridss_df.groupby(\n",
    "    ['Name']).size().reset_index(name='SV_by_mutation'),\n",
    "                 gridss_df.drop_duplicates(['Gene', 'Name']).groupby(\n",
    "                     ['Name']).size().reset_index(name='SV_by_gene'),\n",
    "                 on=['Name'])"
   ]
  },
  {
   "cell_type": "code",
   "execution_count": 116,
   "metadata": {
    "ExecuteTime": {
     "end_time": "2020-08-27T10:08:59.370101Z",
     "start_time": "2020-08-27T10:08:59.201713Z"
    },
    "hidden": true
   },
   "outputs": [],
   "source": [
    "annovar_df_with_semi_colon = annovar_df[annovar_df['Gene.refGene'].str.contains(\";\")].reset_index(drop=True)"
   ]
  },
  {
   "cell_type": "code",
   "execution_count": 117,
   "metadata": {
    "ExecuteTime": {
     "end_time": "2020-08-27T10:44:44.054666Z",
     "start_time": "2020-08-27T10:08:59.866924Z"
    },
    "hidden": true
   },
   "outputs": [
    {
     "data": {
      "application/vnd.jupyter.widget-view+json": {
       "model_id": "7eb248139e524607a20ce4e17056f866",
       "version_major": 2,
       "version_minor": 0
      },
      "text/plain": [
       "HBox(children=(FloatProgress(value=0.0, max=84257.0), HTML(value='')))"
      ]
     },
     "metadata": {},
     "output_type": "display_data"
    },
    {
     "name": "stderr",
     "output_type": "stream",
     "text": [
      "<ipython-input-100-2bc57eaa1b7f>:8: SettingWithCopyWarning: \n",
      "A value is trying to be set on a copy of a slice from a DataFrame\n",
      "\n",
      "See the caveats in the documentation: https://pandas.pydata.org/pandas-docs/stable/user_guide/indexing.html#returning-a-view-versus-a-copy\n",
      "  row['Gene.refGene'] = gene\n"
     ]
    },
    {
     "name": "stdout",
     "output_type": "stream",
     "text": [
      "\n"
     ]
    }
   ],
   "source": [
    "annovar_df_with_semi_colon_split = Parallel(n_jobs=14, prefer=\"threads\")(\n",
    "    delayed(split_gene)(annovar_df_with_semi_colon, i, sep=';')\n",
    "    for i in trange(annovar_df_with_semi_colon.shape[0]))\n",
    "annovar_df_with_semi_colon_split = pd.concat(annovar_df_with_semi_colon_split)"
   ]
  },
  {
   "cell_type": "code",
   "execution_count": 119,
   "metadata": {
    "ExecuteTime": {
     "end_time": "2020-08-27T10:46:29.332915Z",
     "start_time": "2020-08-27T10:46:28.729436Z"
    },
    "hidden": true
   },
   "outputs": [],
   "source": [
    "annovar_df = pd.concat([\n",
    "    annovar_df[~((annovar_df['Gene.refGene'].str.contains(\";\")) |\n",
    "               (annovar_df['Gene.refGene'].str.contains(\"&\")))],\n",
    "    annovar_df_with_semi_colon_split\n",
    "])"
   ]
  },
  {
   "cell_type": "code",
   "execution_count": 120,
   "metadata": {
    "ExecuteTime": {
     "end_time": "2020-08-27T10:46:36.323499Z",
     "start_time": "2020-08-27T10:46:30.417674Z"
    },
    "hidden": true
   },
   "outputs": [],
   "source": [
    "annovar_df.to_csv(\"../data/annovar/combined_somatic_split.tsv.gz\", index=False, sep='\\t')"
   ]
  },
  {
   "cell_type": "code",
   "execution_count": 38,
   "metadata": {
    "ExecuteTime": {
     "end_time": "2020-08-27T07:11:35.087357Z",
     "start_time": "2020-08-27T07:11:33.304304Z"
    },
    "hidden": true
   },
   "outputs": [],
   "source": [
    "annovar_df = pd.read_csv(\"../data/annovar/combined_somatic_split.tsv.gz\", sep='\\t')"
   ]
  },
  {
   "cell_type": "code",
   "execution_count": 123,
   "metadata": {
    "ExecuteTime": {
     "end_time": "2020-08-27T10:47:04.970962Z",
     "start_time": "2020-08-27T10:46:59.970627Z"
    },
    "hidden": true
   },
   "outputs": [],
   "source": [
    "annovar_df['Key'] = annovar_df.apply(\n",
    "    lambda row:\n",
    "    f\"{row['Chr']}_{row['Start']}_{row['End']}_{row['Ref']}_{row['Alt']}_{row['Gene.refGene']}\",axis=1)"
   ]
  },
  {
   "cell_type": "code",
   "execution_count": 124,
   "metadata": {
    "ExecuteTime": {
     "end_time": "2020-08-27T10:47:24.970982Z",
     "start_time": "2020-08-27T10:47:22.590303Z"
    },
    "hidden": true
   },
   "outputs": [],
   "source": [
    "annovar_df['Type'] = annovar_df.apply(\n",
    "    lambda row:'SNP' if len(row['Ref']) == len(row['Alt']) else 'INDEL',axis=1)"
   ]
  },
  {
   "cell_type": "code",
   "execution_count": 125,
   "metadata": {
    "ExecuteTime": {
     "end_time": "2020-08-27T10:47:26.284684Z",
     "start_time": "2020-08-27T10:47:25.895304Z"
    },
    "hidden": true
   },
   "outputs": [],
   "source": [
    "annovar_df['sample'] = annovar_df['sample'].map(\n",
    "    lambda x: x.replace('-', '_').replace('JFCF6', 'JFCF_6').replace(\n",
    "        'JFCF_61M', 'JFCF_6_T_1_M').replace('JFCF_61Q', 'JFCF_6_T_1_Q').replace('PALT','P_ALT'))\n",
    "annovar_df.loc[annovar_df['sample'] == 'JFCF_6_T_1_P', 'sample'] = 'JFCF_6_T_1_P_TEL'"
   ]
  },
  {
   "cell_type": "code",
   "execution_count": 126,
   "metadata": {
    "ExecuteTime": {
     "end_time": "2020-08-27T10:47:27.191074Z",
     "start_time": "2020-08-27T10:47:26.867456Z"
    },
    "hidden": true
   },
   "outputs": [],
   "source": [
    "annovar_df_snp = annovar_df[annovar_df['Type']=='SNP'].reset_index(drop=True)\n",
    "annovar_df_indel = annovar_df[annovar_df['Type']=='INDEL'].reset_index(drop=True)"
   ]
  },
  {
   "cell_type": "code",
   "execution_count": 127,
   "metadata": {
    "ExecuteTime": {
     "end_time": "2020-08-27T10:47:28.092398Z",
     "start_time": "2020-08-27T10:47:27.661033Z"
    },
    "hidden": true
   },
   "outputs": [],
   "source": [
    "snp_df = pd.merge(\n",
    "    annovar_df_snp.drop_duplicates(['Gene.refGene', 'sample', 'Key']).groupby(['sample'\n",
    "                            ]).size().reset_index(name='SNP_by_mutation'),\n",
    "    annovar_df_snp.drop_duplicates(['Gene.refGene', 'sample']).groupby(\n",
    "        ['sample']).size().reset_index(name='SNP_by_gene'))\n",
    "snp_df = snp_df.rename(columns={'sample':'Name'})"
   ]
  },
  {
   "cell_type": "code",
   "execution_count": 128,
   "metadata": {
    "ExecuteTime": {
     "end_time": "2020-08-27T10:47:28.208257Z",
     "start_time": "2020-08-27T10:47:28.111838Z"
    },
    "hidden": true
   },
   "outputs": [],
   "source": [
    "indel_df = pd.merge(\n",
    "    annovar_df_indel.drop_duplicates(['Gene.refGene', 'sample', 'Key']).groupby(['sample'\n",
    "                            ]).size().reset_index(name='INDEL_by_mutation'),\n",
    "    annovar_df_indel.drop_duplicates(['Gene.refGene', 'sample']).groupby(\n",
    "        ['sample']).size().reset_index(name='INDEL_by_gene'))\n",
    "indel_df = indel_df.rename(columns={'sample':'Name'})"
   ]
  },
  {
   "cell_type": "code",
   "execution_count": 129,
   "metadata": {
    "ExecuteTime": {
     "end_time": "2020-08-27T10:47:28.850066Z",
     "start_time": "2020-08-27T10:47:28.842862Z"
    },
    "hidden": true
   },
   "outputs": [],
   "source": [
    "all_mutations_count = pd.merge(pd.merge(snp_df, indel_df),sv_df)"
   ]
  },
  {
   "cell_type": "code",
   "execution_count": 130,
   "metadata": {
    "ExecuteTime": {
     "end_time": "2020-08-27T10:47:29.872137Z",
     "start_time": "2020-08-27T10:47:29.862268Z"
    },
    "hidden": true
   },
   "outputs": [
    {
     "data": {
      "text/html": [
       "<div>\n",
       "<style scoped>\n",
       "    .dataframe tbody tr th:only-of-type {\n",
       "        vertical-align: middle;\n",
       "    }\n",
       "\n",
       "    .dataframe tbody tr th {\n",
       "        vertical-align: top;\n",
       "    }\n",
       "\n",
       "    .dataframe thead th {\n",
       "        text-align: right;\n",
       "    }\n",
       "</style>\n",
       "<table border=\"1\" class=\"dataframe\">\n",
       "  <thead>\n",
       "    <tr style=\"text-align: right;\">\n",
       "      <th></th>\n",
       "      <th>Name</th>\n",
       "      <th>SNP_by_mutation</th>\n",
       "      <th>SNP_by_gene</th>\n",
       "      <th>INDEL_by_mutation</th>\n",
       "      <th>INDEL_by_gene</th>\n",
       "      <th>SV_by_mutation</th>\n",
       "      <th>SV_by_gene</th>\n",
       "    </tr>\n",
       "  </thead>\n",
       "  <tbody>\n",
       "    <tr>\n",
       "      <th>0</th>\n",
       "      <td>JFCF_6_T_1J_11C</td>\n",
       "      <td>12785</td>\n",
       "      <td>5909</td>\n",
       "      <td>1048</td>\n",
       "      <td>938</td>\n",
       "      <td>120</td>\n",
       "      <td>59</td>\n",
       "    </tr>\n",
       "    <tr>\n",
       "      <th>1</th>\n",
       "      <td>JFCF_6_T_1J_11E</td>\n",
       "      <td>12452</td>\n",
       "      <td>6232</td>\n",
       "      <td>1280</td>\n",
       "      <td>1141</td>\n",
       "      <td>107</td>\n",
       "      <td>60</td>\n",
       "    </tr>\n",
       "    <tr>\n",
       "      <th>2</th>\n",
       "      <td>JFCF_6_T_1J_1_3C</td>\n",
       "      <td>19643</td>\n",
       "      <td>8527</td>\n",
       "      <td>6417</td>\n",
       "      <td>4821</td>\n",
       "      <td>166</td>\n",
       "      <td>85</td>\n",
       "    </tr>\n",
       "    <tr>\n",
       "      <th>3</th>\n",
       "      <td>JFCF_6_T_1J_6B</td>\n",
       "      <td>20012</td>\n",
       "      <td>8566</td>\n",
       "      <td>6535</td>\n",
       "      <td>4782</td>\n",
       "      <td>193</td>\n",
       "      <td>91</td>\n",
       "    </tr>\n",
       "    <tr>\n",
       "      <th>4</th>\n",
       "      <td>JFCF_6_T_1_C</td>\n",
       "      <td>9693</td>\n",
       "      <td>5042</td>\n",
       "      <td>671</td>\n",
       "      <td>614</td>\n",
       "      <td>91</td>\n",
       "      <td>38</td>\n",
       "    </tr>\n",
       "    <tr>\n",
       "      <th>5</th>\n",
       "      <td>JFCF_6_T_1_D</td>\n",
       "      <td>9107</td>\n",
       "      <td>4788</td>\n",
       "      <td>526</td>\n",
       "      <td>487</td>\n",
       "      <td>72</td>\n",
       "      <td>47</td>\n",
       "    </tr>\n",
       "    <tr>\n",
       "      <th>6</th>\n",
       "      <td>JFCF_6_T_1_F</td>\n",
       "      <td>8046</td>\n",
       "      <td>4561</td>\n",
       "      <td>768</td>\n",
       "      <td>713</td>\n",
       "      <td>200</td>\n",
       "      <td>90</td>\n",
       "    </tr>\n",
       "    <tr>\n",
       "      <th>7</th>\n",
       "      <td>JFCF_6_T_1_G</td>\n",
       "      <td>8082</td>\n",
       "      <td>4464</td>\n",
       "      <td>568</td>\n",
       "      <td>522</td>\n",
       "      <td>198</td>\n",
       "      <td>86</td>\n",
       "    </tr>\n",
       "    <tr>\n",
       "      <th>8</th>\n",
       "      <td>JFCF_6_T_1_H</td>\n",
       "      <td>9550</td>\n",
       "      <td>4879</td>\n",
       "      <td>730</td>\n",
       "      <td>658</td>\n",
       "      <td>118</td>\n",
       "      <td>57</td>\n",
       "    </tr>\n",
       "    <tr>\n",
       "      <th>9</th>\n",
       "      <td>JFCF_6_T_1_L</td>\n",
       "      <td>9717</td>\n",
       "      <td>5067</td>\n",
       "      <td>625</td>\n",
       "      <td>577</td>\n",
       "      <td>70</td>\n",
       "      <td>41</td>\n",
       "    </tr>\n",
       "    <tr>\n",
       "      <th>10</th>\n",
       "      <td>JFCF_6_T_1_M</td>\n",
       "      <td>12672</td>\n",
       "      <td>6140</td>\n",
       "      <td>1974</td>\n",
       "      <td>1664</td>\n",
       "      <td>64</td>\n",
       "      <td>25</td>\n",
       "    </tr>\n",
       "    <tr>\n",
       "      <th>11</th>\n",
       "      <td>JFCF_6_T_1_P_ALT</td>\n",
       "      <td>9083</td>\n",
       "      <td>4983</td>\n",
       "      <td>660</td>\n",
       "      <td>610</td>\n",
       "      <td>59</td>\n",
       "      <td>30</td>\n",
       "    </tr>\n",
       "    <tr>\n",
       "      <th>12</th>\n",
       "      <td>JFCF_6_T_1_P_TEL</td>\n",
       "      <td>8864</td>\n",
       "      <td>4735</td>\n",
       "      <td>768</td>\n",
       "      <td>703</td>\n",
       "      <td>93</td>\n",
       "      <td>43</td>\n",
       "    </tr>\n",
       "    <tr>\n",
       "      <th>13</th>\n",
       "      <td>JFCF_6_T_1_Q</td>\n",
       "      <td>15699</td>\n",
       "      <td>7297</td>\n",
       "      <td>3124</td>\n",
       "      <td>2529</td>\n",
       "      <td>92</td>\n",
       "      <td>48</td>\n",
       "    </tr>\n",
       "    <tr>\n",
       "      <th>14</th>\n",
       "      <td>JFCF_6_T_1_R</td>\n",
       "      <td>11181</td>\n",
       "      <td>5592</td>\n",
       "      <td>811</td>\n",
       "      <td>747</td>\n",
       "      <td>167</td>\n",
       "      <td>73</td>\n",
       "    </tr>\n",
       "    <tr>\n",
       "      <th>15</th>\n",
       "      <td>JFCF_6_T_2H</td>\n",
       "      <td>7978</td>\n",
       "      <td>4396</td>\n",
       "      <td>435</td>\n",
       "      <td>402</td>\n",
       "      <td>29</td>\n",
       "      <td>15</td>\n",
       "    </tr>\n",
       "    <tr>\n",
       "      <th>16</th>\n",
       "      <td>JFCF_6_T_5K</td>\n",
       "      <td>10144</td>\n",
       "      <td>5338</td>\n",
       "      <td>651</td>\n",
       "      <td>610</td>\n",
       "      <td>124</td>\n",
       "      <td>53</td>\n",
       "    </tr>\n",
       "  </tbody>\n",
       "</table>\n",
       "</div>"
      ],
      "text/plain": [
       "                Name  SNP_by_mutation  SNP_by_gene  INDEL_by_mutation  \\\n",
       "0    JFCF_6_T_1J_11C            12785         5909               1048   \n",
       "1    JFCF_6_T_1J_11E            12452         6232               1280   \n",
       "2   JFCF_6_T_1J_1_3C            19643         8527               6417   \n",
       "3     JFCF_6_T_1J_6B            20012         8566               6535   \n",
       "4       JFCF_6_T_1_C             9693         5042                671   \n",
       "5       JFCF_6_T_1_D             9107         4788                526   \n",
       "6       JFCF_6_T_1_F             8046         4561                768   \n",
       "7       JFCF_6_T_1_G             8082         4464                568   \n",
       "8       JFCF_6_T_1_H             9550         4879                730   \n",
       "9       JFCF_6_T_1_L             9717         5067                625   \n",
       "10      JFCF_6_T_1_M            12672         6140               1974   \n",
       "11  JFCF_6_T_1_P_ALT             9083         4983                660   \n",
       "12  JFCF_6_T_1_P_TEL             8864         4735                768   \n",
       "13      JFCF_6_T_1_Q            15699         7297               3124   \n",
       "14      JFCF_6_T_1_R            11181         5592                811   \n",
       "15       JFCF_6_T_2H             7978         4396                435   \n",
       "16       JFCF_6_T_5K            10144         5338                651   \n",
       "\n",
       "    INDEL_by_gene  SV_by_mutation  SV_by_gene  \n",
       "0             938             120          59  \n",
       "1            1141             107          60  \n",
       "2            4821             166          85  \n",
       "3            4782             193          91  \n",
       "4             614              91          38  \n",
       "5             487              72          47  \n",
       "6             713             200          90  \n",
       "7             522             198          86  \n",
       "8             658             118          57  \n",
       "9             577              70          41  \n",
       "10           1664              64          25  \n",
       "11            610              59          30  \n",
       "12            703              93          43  \n",
       "13           2529              92          48  \n",
       "14            747             167          73  \n",
       "15            402              29          15  \n",
       "16            610             124          53  "
      ]
     },
     "execution_count": 130,
     "metadata": {},
     "output_type": "execute_result"
    }
   ],
   "source": [
    "all_mutations_count"
   ]
  },
  {
   "cell_type": "code",
   "execution_count": 131,
   "metadata": {
    "ExecuteTime": {
     "end_time": "2020-08-27T10:47:35.689327Z",
     "start_time": "2020-08-27T10:47:35.685613Z"
    },
    "hidden": true
   },
   "outputs": [],
   "source": [
    "all_mutations_count.to_csv(\"../results/all_mutations_count.csv\", index=False)"
   ]
  },
  {
   "cell_type": "code",
   "execution_count": 132,
   "metadata": {
    "ExecuteTime": {
     "end_time": "2020-08-27T10:47:36.015085Z",
     "start_time": "2020-08-27T10:47:36.012490Z"
    },
    "hidden": true
   },
   "outputs": [
    {
     "data": {
      "text/plain": [
       "array(['JFCF_6_P_pLKO_5', 'JFCF_6_T_1_D', 'JFCF_6_T_1_L', 'JFCF_6_T_1_M',\n",
       "       'JFCF_6_T_1_P_ALT', 'JFCF_6_T_1_Q', 'JFCF_6_T_1_R',\n",
       "       'JFCF_6_T_1J_1_3C', 'JFCF_6_T_1J_11E', 'JFCF_6_T_5K'], dtype=object)"
      ]
     },
     "execution_count": 132,
     "metadata": {},
     "output_type": "execute_result"
    }
   ],
   "source": [
    "jfcf_alt"
   ]
  },
  {
   "cell_type": "code",
   "execution_count": 133,
   "metadata": {
    "ExecuteTime": {
     "end_time": "2020-08-27T10:47:36.263762Z",
     "start_time": "2020-08-27T10:47:36.239763Z"
    },
    "hidden": true
   },
   "outputs": [
    {
     "data": {
      "text/plain": [
       "array(['JFCF_6_T_1J_11C', 'JFCF_6_T_1J_11E', 'JFCF_6_T_1_C',\n",
       "       'JFCF_6_T_1_D', 'JFCF_6_T_1_F', 'JFCF_6_T_1_G', 'JFCF_6_T_1_H',\n",
       "       'JFCF_6_T_1_L', 'JFCF_6_T_1_P_TEL', 'JFCF_6_T_1_P_ALT',\n",
       "       'JFCF_6_T_1_R', 'JFCF_6_T_2H', 'JFCF_6_T_5K', 'JFCF_6_T_1J_1_3C',\n",
       "       'JFCF_6_T_1J_6B', 'JFCF_6_T_1_M', 'JFCF_6_T_1_Q'], dtype=object)"
      ]
     },
     "execution_count": 133,
     "metadata": {},
     "output_type": "execute_result"
    }
   ],
   "source": [
    "annovar_df['sample'].unique()"
   ]
  },
  {
   "cell_type": "code",
   "execution_count": 134,
   "metadata": {
    "ExecuteTime": {
     "end_time": "2020-08-27T10:47:37.150549Z",
     "start_time": "2020-08-27T10:47:36.661957Z"
    },
    "hidden": true
   },
   "outputs": [],
   "source": [
    "alt_mutations = annovar_df[annovar_df['sample'].isin(jfcf_alt)]['Key'].unique()\n",
    "tel_mutations = annovar_df[annovar_df['sample'].isin(jfcf_tel)]['Key'].unique()\n",
    "\n",
    "alt_genes = annovar_df[annovar_df['sample'].isin(jfcf_alt)]['Gene.refGene'].unique()\n",
    "tel_genes = annovar_df[annovar_df['sample'].isin(jfcf_tel)]['Gene.refGene'].unique()"
   ]
  },
  {
   "cell_type": "code",
   "execution_count": 135,
   "metadata": {
    "ExecuteTime": {
     "end_time": "2020-08-27T10:47:38.176550Z",
     "start_time": "2020-08-27T10:47:38.002613Z"
    },
    "hidden": true
   },
   "outputs": [
    {
     "data": {
      "image/png": "[encoded data removed]",
      "text/plain": [
       "<Figure size 432x288 with 1 Axes>"
      ]
     },
     "metadata": {},
     "output_type": "display_data"
    }
   ],
   "source": [
    "venn2([set(alt_mutations), set(tel_mutations)],\n",
    "      set_labels=('ALT', 'TEL'),\n",
    "      set_colors=('#92222249', '#00788249'),\n",
    "      alpha=.5)\n",
    "venn2_circles([set(alt_mutations), set(tel_mutations)],\n",
    "              linewidth=1,\n",
    "              color=\"black\")\n",
    "plt.title(\"All mutations ALT vs TEL\")\n",
    "plt.savefig(\"../plots/all_mutation.pdf\", dpi=500)"
   ]
  },
  {
   "cell_type": "code",
   "execution_count": 136,
   "metadata": {
    "ExecuteTime": {
     "end_time": "2020-08-27T10:47:39.147480Z",
     "start_time": "2020-08-27T10:47:39.050730Z"
    },
    "hidden": true
   },
   "outputs": [
    {
     "data": {
      "image/png": "[encoded data removed]",
      "text/plain": [
       "<Figure size 432x288 with 1 Axes>"
      ]
     },
     "metadata": {},
     "output_type": "display_data"
    }
   ],
   "source": [
    "venn2([set(alt_genes), set(tel_genes)],\n",
    "      set_labels=('ALT', 'TEL'),\n",
    "      set_colors=('#92222249', '#00788249'),\n",
    "      alpha=.5)\n",
    "venn2_circles([set(alt_genes), set(tel_genes)], linewidth=1, color=\"black\")\n",
    "plt.title(\"All mutated genes ALT vs TEL\")\n",
    "plt.savefig(\"../plots/all_mutated_genes.pdf\", dpi=500)"
   ]
  },
  {
   "cell_type": "markdown",
   "metadata": {},
   "source": [
    "# non-silient"
   ]
  },
  {
   "cell_type": "code",
   "execution_count": 137,
   "metadata": {
    "ExecuteTime": {
     "end_time": "2020-08-27T10:47:41.255335Z",
     "start_time": "2020-08-27T10:47:41.033173Z"
    }
   },
   "outputs": [],
   "source": [
    "df = pd.read_csv(\"../data/annovar/annovar_mutect_gridss_coding_split.tsv\",sep='\\t', low_memory=False)\n",
    "\n",
    "df = df[df['ExonicFunc.refGene'] != 'synonymous SNV'].reset_index(drop=True)\n",
    "\n",
    "df = df[~((df['Source']=='GRIDSS')&(~df['Key'].str.contains(\"Somatic\")))]\n",
    "\n",
    "df = df[~df['Type'].isin(['downstream', 'UTR5', 'upstream', 'UTR3', 'upstream;downstream'])]"
   ]
  },
  {
   "cell_type": "code",
   "execution_count": 141,
   "metadata": {
    "ExecuteTime": {
     "end_time": "2020-08-27T10:47:43.130776Z",
     "start_time": "2020-08-27T10:47:43.094165Z"
    }
   },
   "outputs": [],
   "source": [
    "df['category'] = df.apply(lambda row: 'SV'\n",
    "                          if row['Source'] == 'GRIDSS' else \"SNP\"\n",
    "                          if len(row['Ref1']) == len(row['Alt1']) else 'INDEL',\n",
    "                          axis=1)"
   ]
  },
  {
   "cell_type": "code",
   "execution_count": 142,
   "metadata": {
    "ExecuteTime": {
     "end_time": "2020-08-27T10:47:44.148800Z",
     "start_time": "2020-08-27T10:47:43.957476Z"
    }
   },
   "outputs": [],
   "source": [
    "res_df = pd.merge(\n",
    "    annovar_df_snp.groupby(['sample'\n",
    "                            ]).size().reset_index(name='SNP_by_mutation'),\n",
    "    annovar_df_snp.drop_duplicates(['Gene.refGene', 'sample']).groupby(\n",
    "        ['sample']).size().reset_index(name='SNP_by_gene'))"
   ]
  },
  {
   "cell_type": "code",
   "execution_count": 146,
   "metadata": {
    "ExecuteTime": {
     "end_time": "2020-08-27T10:48:02.363011Z",
     "start_time": "2020-08-27T10:48:02.342399Z"
    }
   },
   "outputs": [],
   "source": [
    "res_nonsilient = pd.merge(\n",
    "    pd.pivot(df.groupby(['Name', 'category']).size().reset_index(name='count'),\n",
    "             index='Name',\n",
    "             columns='category',\n",
    "             values='count').reset_index(),\n",
    "    pd.pivot(df.drop_duplicates(['Gene', 'Name']).groupby(\n",
    "        ['Name', 'category']).size().reset_index(name='count'),\n",
    "             index='Name',\n",
    "             columns='category',\n",
    "             values='count').reset_index(),\n",
    "    on='Name',\n",
    "    suffixes=[\"_by_mutation\", '_by_gene']).fillna(0)"
   ]
  },
  {
   "cell_type": "code",
   "execution_count": 147,
   "metadata": {
    "ExecuteTime": {
     "end_time": "2020-08-27T10:48:02.913727Z",
     "start_time": "2020-08-27T10:48:02.902533Z"
    }
   },
   "outputs": [
    {
     "data": {
      "text/html": [
       "<div>\n",
       "<style scoped>\n",
       "    .dataframe tbody tr th:only-of-type {\n",
       "        vertical-align: middle;\n",
       "    }\n",
       "\n",
       "    .dataframe tbody tr th {\n",
       "        vertical-align: top;\n",
       "    }\n",
       "\n",
       "    .dataframe thead th {\n",
       "        text-align: right;\n",
       "    }\n",
       "</style>\n",
       "<table border=\"1\" class=\"dataframe\">\n",
       "  <thead>\n",
       "    <tr style=\"text-align: right;\">\n",
       "      <th>category</th>\n",
       "      <th>Name</th>\n",
       "      <th>INDEL_by_mutation</th>\n",
       "      <th>SNP_by_mutation</th>\n",
       "      <th>SV_by_mutation</th>\n",
       "      <th>INDEL_by_gene</th>\n",
       "      <th>SNP_by_gene</th>\n",
       "      <th>SV_by_gene</th>\n",
       "    </tr>\n",
       "  </thead>\n",
       "  <tbody>\n",
       "    <tr>\n",
       "      <th>0</th>\n",
       "      <td>JFCF_6_T_1J_11C</td>\n",
       "      <td>4.0</td>\n",
       "      <td>89.0</td>\n",
       "      <td>42.0</td>\n",
       "      <td>3.0</td>\n",
       "      <td>84.0</td>\n",
       "      <td>29.0</td>\n",
       "    </tr>\n",
       "    <tr>\n",
       "      <th>1</th>\n",
       "      <td>JFCF_6_T_1J_11E</td>\n",
       "      <td>2.0</td>\n",
       "      <td>80.0</td>\n",
       "      <td>44.0</td>\n",
       "      <td>1.0</td>\n",
       "      <td>77.0</td>\n",
       "      <td>37.0</td>\n",
       "    </tr>\n",
       "    <tr>\n",
       "      <th>2</th>\n",
       "      <td>JFCF_6_T_1J_1_3C</td>\n",
       "      <td>14.0</td>\n",
       "      <td>131.0</td>\n",
       "      <td>35.0</td>\n",
       "      <td>13.0</td>\n",
       "      <td>112.0</td>\n",
       "      <td>25.0</td>\n",
       "    </tr>\n",
       "    <tr>\n",
       "      <th>3</th>\n",
       "      <td>JFCF_6_T_1J_6B</td>\n",
       "      <td>17.0</td>\n",
       "      <td>146.0</td>\n",
       "      <td>29.0</td>\n",
       "      <td>16.0</td>\n",
       "      <td>126.0</td>\n",
       "      <td>26.0</td>\n",
       "    </tr>\n",
       "    <tr>\n",
       "      <th>4</th>\n",
       "      <td>JFCF_6_T_1_C</td>\n",
       "      <td>1.0</td>\n",
       "      <td>72.0</td>\n",
       "      <td>35.0</td>\n",
       "      <td>1.0</td>\n",
       "      <td>67.0</td>\n",
       "      <td>29.0</td>\n",
       "    </tr>\n",
       "    <tr>\n",
       "      <th>5</th>\n",
       "      <td>JFCF_6_T_1_D</td>\n",
       "      <td>2.0</td>\n",
       "      <td>48.0</td>\n",
       "      <td>36.0</td>\n",
       "      <td>2.0</td>\n",
       "      <td>46.0</td>\n",
       "      <td>32.0</td>\n",
       "    </tr>\n",
       "    <tr>\n",
       "      <th>6</th>\n",
       "      <td>JFCF_6_T_1_F</td>\n",
       "      <td>2.0</td>\n",
       "      <td>46.0</td>\n",
       "      <td>148.0</td>\n",
       "      <td>2.0</td>\n",
       "      <td>44.0</td>\n",
       "      <td>61.0</td>\n",
       "    </tr>\n",
       "    <tr>\n",
       "      <th>7</th>\n",
       "      <td>JFCF_6_T_1_G</td>\n",
       "      <td>0.0</td>\n",
       "      <td>50.0</td>\n",
       "      <td>126.0</td>\n",
       "      <td>0.0</td>\n",
       "      <td>46.0</td>\n",
       "      <td>76.0</td>\n",
       "    </tr>\n",
       "    <tr>\n",
       "      <th>8</th>\n",
       "      <td>JFCF_6_T_1_H</td>\n",
       "      <td>5.0</td>\n",
       "      <td>74.0</td>\n",
       "      <td>73.0</td>\n",
       "      <td>4.0</td>\n",
       "      <td>70.0</td>\n",
       "      <td>46.0</td>\n",
       "    </tr>\n",
       "    <tr>\n",
       "      <th>9</th>\n",
       "      <td>JFCF_6_T_1_L</td>\n",
       "      <td>3.0</td>\n",
       "      <td>68.0</td>\n",
       "      <td>31.0</td>\n",
       "      <td>3.0</td>\n",
       "      <td>59.0</td>\n",
       "      <td>24.0</td>\n",
       "    </tr>\n",
       "    <tr>\n",
       "      <th>10</th>\n",
       "      <td>JFCF_6_T_1_M</td>\n",
       "      <td>1.0</td>\n",
       "      <td>65.0</td>\n",
       "      <td>24.0</td>\n",
       "      <td>1.0</td>\n",
       "      <td>62.0</td>\n",
       "      <td>18.0</td>\n",
       "    </tr>\n",
       "    <tr>\n",
       "      <th>11</th>\n",
       "      <td>JFCF_6_T_1_P_ALT</td>\n",
       "      <td>3.0</td>\n",
       "      <td>49.0</td>\n",
       "      <td>20.0</td>\n",
       "      <td>3.0</td>\n",
       "      <td>47.0</td>\n",
       "      <td>15.0</td>\n",
       "    </tr>\n",
       "    <tr>\n",
       "      <th>12</th>\n",
       "      <td>JFCF_6_T_1_P_TEL</td>\n",
       "      <td>4.0</td>\n",
       "      <td>73.0</td>\n",
       "      <td>46.0</td>\n",
       "      <td>4.0</td>\n",
       "      <td>66.0</td>\n",
       "      <td>25.0</td>\n",
       "    </tr>\n",
       "    <tr>\n",
       "      <th>13</th>\n",
       "      <td>JFCF_6_T_1_Q</td>\n",
       "      <td>8.0</td>\n",
       "      <td>87.0</td>\n",
       "      <td>45.0</td>\n",
       "      <td>6.0</td>\n",
       "      <td>75.0</td>\n",
       "      <td>36.0</td>\n",
       "    </tr>\n",
       "    <tr>\n",
       "      <th>14</th>\n",
       "      <td>JFCF_6_T_1_R</td>\n",
       "      <td>2.0</td>\n",
       "      <td>74.0</td>\n",
       "      <td>106.0</td>\n",
       "      <td>2.0</td>\n",
       "      <td>68.0</td>\n",
       "      <td>61.0</td>\n",
       "    </tr>\n",
       "    <tr>\n",
       "      <th>15</th>\n",
       "      <td>JFCF_6_T_2H</td>\n",
       "      <td>0.0</td>\n",
       "      <td>49.0</td>\n",
       "      <td>10.0</td>\n",
       "      <td>0.0</td>\n",
       "      <td>47.0</td>\n",
       "      <td>10.0</td>\n",
       "    </tr>\n",
       "    <tr>\n",
       "      <th>16</th>\n",
       "      <td>JFCF_6_T_5K</td>\n",
       "      <td>3.0</td>\n",
       "      <td>74.0</td>\n",
       "      <td>88.0</td>\n",
       "      <td>3.0</td>\n",
       "      <td>71.0</td>\n",
       "      <td>38.0</td>\n",
       "    </tr>\n",
       "  </tbody>\n",
       "</table>\n",
       "</div>"
      ],
      "text/plain": [
       "category              Name  INDEL_by_mutation  SNP_by_mutation  \\\n",
       "0          JFCF_6_T_1J_11C                4.0             89.0   \n",
       "1          JFCF_6_T_1J_11E                2.0             80.0   \n",
       "2         JFCF_6_T_1J_1_3C               14.0            131.0   \n",
       "3           JFCF_6_T_1J_6B               17.0            146.0   \n",
       "4             JFCF_6_T_1_C                1.0             72.0   \n",
       "5             JFCF_6_T_1_D                2.0             48.0   \n",
       "6             JFCF_6_T_1_F                2.0             46.0   \n",
       "7             JFCF_6_T_1_G                0.0             50.0   \n",
       "8             JFCF_6_T_1_H                5.0             74.0   \n",
       "9             JFCF_6_T_1_L                3.0             68.0   \n",
       "10            JFCF_6_T_1_M                1.0             65.0   \n",
       "11        JFCF_6_T_1_P_ALT                3.0             49.0   \n",
       "12        JFCF_6_T_1_P_TEL                4.0             73.0   \n",
       "13            JFCF_6_T_1_Q                8.0             87.0   \n",
       "14            JFCF_6_T_1_R                2.0             74.0   \n",
       "15             JFCF_6_T_2H                0.0             49.0   \n",
       "16             JFCF_6_T_5K                3.0             74.0   \n",
       "\n",
       "category  SV_by_mutation  INDEL_by_gene  SNP_by_gene  SV_by_gene  \n",
       "0                   42.0            3.0         84.0        29.0  \n",
       "1                   44.0            1.0         77.0        37.0  \n",
       "2                   35.0           13.0        112.0        25.0  \n",
       "3                   29.0           16.0        126.0        26.0  \n",
       "4                   35.0            1.0         67.0        29.0  \n",
       "5                   36.0            2.0         46.0        32.0  \n",
       "6                  148.0            2.0         44.0        61.0  \n",
       "7                  126.0            0.0         46.0        76.0  \n",
       "8                   73.0            4.0         70.0        46.0  \n",
       "9                   31.0            3.0         59.0        24.0  \n",
       "10                  24.0            1.0         62.0        18.0  \n",
       "11                  20.0            3.0         47.0        15.0  \n",
       "12                  46.0            4.0         66.0        25.0  \n",
       "13                  45.0            6.0         75.0        36.0  \n",
       "14                 106.0            2.0         68.0        61.0  \n",
       "15                  10.0            0.0         47.0        10.0  \n",
       "16                  88.0            3.0         71.0        38.0  "
      ]
     },
     "execution_count": 147,
     "metadata": {},
     "output_type": "execute_result"
    }
   ],
   "source": [
    "res_nonsilient"
   ]
  },
  {
   "cell_type": "code",
   "execution_count": 148,
   "metadata": {
    "ExecuteTime": {
     "end_time": "2020-08-27T10:48:04.213314Z",
     "start_time": "2020-08-27T10:48:04.209427Z"
    }
   },
   "outputs": [],
   "source": [
    "res_nonsilient.to_csv(\"../results/nonsilient_mutations_count.csv\", index=False)"
   ]
  },
  {
   "cell_type": "code",
   "execution_count": null,
   "metadata": {},
   "outputs": [],
   "source": []
  },
  {
   "cell_type": "markdown",
   "metadata": {},
   "source": [
    "## venn"
   ]
  },
  {
   "cell_type": "code",
   "execution_count": 149,
   "metadata": {
    "ExecuteTime": {
     "end_time": "2020-08-27T10:48:05.387055Z",
     "start_time": "2020-08-27T10:48:05.375954Z"
    }
   },
   "outputs": [],
   "source": [
    "alt_mutations = df[df['Name'].isin(jfcf_alt)]['Key'].unique()\n",
    "tel_mutations = df[df['Name'].isin(jfcf_tel)]['Key'].unique()\n",
    "\n",
    "alt_genes = df[df['Name'].isin(jfcf_alt)]['Gene'].unique()\n",
    "tel_genes = df[df['Name'].isin(jfcf_tel)]['Gene'].unique()"
   ]
  },
  {
   "cell_type": "code",
   "execution_count": 150,
   "metadata": {
    "ExecuteTime": {
     "end_time": "2020-08-27T10:48:05.747212Z",
     "start_time": "2020-08-27T10:48:05.655575Z"
    }
   },
   "outputs": [
    {
     "data": {
      "image/png": "[encoded data removed]",
      "text/plain": [
       "<Figure size 432x288 with 1 Axes>"
      ]
     },
     "metadata": {},
     "output_type": "display_data"
    }
   ],
   "source": [
    "venn2([set(alt_mutations), set(tel_mutations)],\n",
    "      set_labels=('ALT', 'TEL'),\n",
    "      set_colors=('#92222249', '#00788249'),\n",
    "      alpha=.5)\n",
    "venn2_circles([set(alt_mutations), set(tel_mutations)],\n",
    "              linewidth=1,\n",
    "              color=\"black\")\n",
    "plt.title(\"Non-silent mutations ALT vs TEL\")\n",
    "plt.savefig(\"../plots/non_silient_mutation.pdf\", dpi=500)"
   ]
  },
  {
   "cell_type": "code",
   "execution_count": 151,
   "metadata": {
    "ExecuteTime": {
     "end_time": "2020-08-27T10:48:06.747757Z",
     "start_time": "2020-08-27T10:48:06.663556Z"
    }
   },
   "outputs": [
    {
     "data": {
      "image/png": "[encoded data removed]",
      "text/plain": [
       "<Figure size 432x288 with 1 Axes>"
      ]
     },
     "metadata": {},
     "output_type": "display_data"
    }
   ],
   "source": [
    "venn2([set(alt_genes), set(tel_genes)], set_labels = ('ALT', 'TEL'), set_colors=('#92222249', '#00788249'), alpha=.5)\n",
    "venn2_circles([set(alt_genes), set(tel_genes)], linewidth=1, color=\"black\")\n",
    "plt.title(\"Non-silent mutated genes ALT vs TEL\")\n",
    "plt.savefig(\"../plots/non_silient_mutated_genes.pdf\", dpi=500)"
   ]
  },
  {
   "cell_type": "markdown",
   "metadata": {},
   "source": [
    "# 7q venn"
   ]
  },
  {
   "cell_type": "code",
   "execution_count": 156,
   "metadata": {
    "ExecuteTime": {
     "end_time": "2020-08-28T10:32:09.037301Z",
     "start_time": "2020-08-28T10:32:08.969955Z"
    }
   },
   "outputs": [],
   "source": [
    "df = pd.read_excel(\"../data/ForSimon_vennyPlot.xlsx\")"
   ]
  },
  {
   "cell_type": "code",
   "execution_count": 170,
   "metadata": {
    "ExecuteTime": {
     "end_time": "2020-08-28T10:40:31.777963Z",
     "start_time": "2020-08-28T10:40:31.693062Z"
    }
   },
   "outputs": [
    {
     "data": {
      "image/png": "[encoded data removed]",
      "text/plain": [
       "<Figure size 432x288 with 1 Axes>"
      ]
     },
     "metadata": {},
     "output_type": "display_data"
    }
   ],
   "source": [
    "venn3([\n",
    "    set(df['significantly differentially expressed in ALT']),\n",
    "    set(df['Chr7q gene']),\n",
    "    set(df['significantly differentially expressed in TEL'])\n",
    "],\n",
    "      set_labels=('ALT', 'Chr7q',\n",
    "                  'TEL'),\n",
    "      set_colors=('#EDB0B0', '#D089B5', '#93D1D1'),\n",
    "      alpha=1)\n",
    "venn3_circles([\n",
    "    set(df['significantly differentially expressed in ALT']),\n",
    "    set(df['Chr7q gene']),\n",
    "    set(df['significantly differentially expressed in TEL'])\n",
    "],\n",
    "              linewidth=1,\n",
    "              color=\"black\")\n",
    "plt.title(\"TEL vs 7q vs ALT\")\n",
    "plt.savefig(\"../plots/tel_7q_alt.pdf\", dpi=500)"
   ]
  },
  {
   "cell_type": "markdown",
   "metadata": {},
   "source": [
    "# cell line mutations"
   ]
  },
  {
   "cell_type": "code",
   "execution_count": 173,
   "metadata": {
    "ExecuteTime": {
     "end_time": "2020-08-29T01:00:43.090796Z",
     "start_time": "2020-08-29T01:00:40.195784Z"
    }
   },
   "outputs": [],
   "source": [
    "all_mutations = pd.read_csv(\"../data/annovar/combined_somatic_split_with_SV.tsv.gz\", low_memory=False)"
   ]
  },
  {
   "cell_type": "code",
   "execution_count": 177,
   "metadata": {
    "ExecuteTime": {
     "end_time": "2020-08-29T01:04:37.907733Z",
     "start_time": "2020-08-29T01:04:37.619440Z"
    }
   },
   "outputs": [],
   "source": [
    "df = pd.read_csv(\"../data/annovar/annovar_mutect_gridss_coding_split.tsv\",sep='\\t', low_memory=False)\n",
    "\n",
    "df = df[df['ExonicFunc.refGene'] != 'synonymous SNV'].reset_index(drop=True)\n",
    "\n",
    "df = df[~((df['Source']=='GRIDSS')&(~df['Key'].str.contains(\"Somatic\")))]\n",
    "\n",
    "df = df[~df['Type'].isin(['downstream', 'UTR5', 'upstream', 'UTR3', 'upstream;downstream'])]"
   ]
  },
  {
   "cell_type": "code",
   "execution_count": 176,
   "metadata": {
    "ExecuteTime": {
     "end_time": "2020-08-29T01:04:09.520424Z",
     "start_time": "2020-08-29T01:04:09.386186Z"
    }
   },
   "outputs": [
    {
     "data": {
      "text/plain": [
       "Name\n",
       "JFCF_6_T_1J_11C      6311\n",
       "JFCF_6_T_1J_11E      6717\n",
       "JFCF_6_T_1J_1_3C    10503\n",
       "JFCF_6_T_1J_6B      10465\n",
       "JFCF_6_T_1_C         5327\n",
       "JFCF_6_T_1_D         5019\n",
       "JFCF_6_T_1_F         4966\n",
       "JFCF_6_T_1_G         4732\n",
       "JFCF_6_T_1_H         5176\n",
       "JFCF_6_T_1_L         5301\n",
       "JFCF_6_T_1_M         6691\n",
       "JFCF_6_T_1_P_ALT     5258\n",
       "JFCF_6_T_1_P_TEL     5108\n",
       "JFCF_6_T_1_Q         8151\n",
       "JFCF_6_T_1_R         5944\n",
       "JFCF_6_T_2H          4560\n",
       "JFCF_6_T_5K          5610\n",
       "dtype: int64"
      ]
     },
     "execution_count": 176,
     "metadata": {},
     "output_type": "execute_result"
    }
   ],
   "source": [
    "all_mutations.drop_duplicates(['Name', 'Gene']).groupby(['Name']).size()"
   ]
  },
  {
   "cell_type": "code",
   "execution_count": 178,
   "metadata": {
    "ExecuteTime": {
     "end_time": "2020-08-29T01:04:44.968484Z",
     "start_time": "2020-08-29T01:04:44.937117Z"
    }
   },
   "outputs": [
    {
     "data": {
      "text/plain": [
       "Name\n",
       "JFCF_6_T_1J_11C     116\n",
       "JFCF_6_T_1J_11E     115\n",
       "JFCF_6_T_1J_1_3C    150\n",
       "JFCF_6_T_1J_6B      168\n",
       "JFCF_6_T_1_C         97\n",
       "JFCF_6_T_1_D         80\n",
       "JFCF_6_T_1_F        107\n",
       "JFCF_6_T_1_G        122\n",
       "JFCF_6_T_1_H        120\n",
       "JFCF_6_T_1_L         86\n",
       "JFCF_6_T_1_M         81\n",
       "JFCF_6_T_1_P_ALT     65\n",
       "JFCF_6_T_1_P_TEL     95\n",
       "JFCF_6_T_1_Q        117\n",
       "JFCF_6_T_1_R        131\n",
       "JFCF_6_T_2H          57\n",
       "JFCF_6_T_5K         112\n",
       "dtype: int64"
      ]
     },
     "execution_count": 178,
     "metadata": {},
     "output_type": "execute_result"
    }
   ],
   "source": [
    "df.drop_duplicates(['Name', 'Gene']).groupby(['Name']).size()"
   ]
  },
  {
   "cell_type": "code",
   "execution_count": 180,
   "metadata": {
    "ExecuteTime": {
     "end_time": "2020-08-29T01:06:18.582710Z",
     "start_time": "2020-08-29T01:06:18.449739Z"
    }
   },
   "outputs": [],
   "source": [
    "res_df = pd.DataFrame({\n",
    "    'all_mutated_genes':\n",
    "    all_mutations.drop_duplicates(['Name', 'Gene']).groupby(['Name']).size(),\n",
    "    'non_silient_mutated_genes':\n",
    "    df.drop_duplicates(['Name', 'Gene']).groupby(['Name']).size()\n",
    "})"
   ]
  },
  {
   "cell_type": "code",
   "execution_count": 182,
   "metadata": {
    "ExecuteTime": {
     "end_time": "2020-08-29T01:07:22.678166Z",
     "start_time": "2020-08-29T01:07:22.671176Z"
    }
   },
   "outputs": [],
   "source": [
    "res_df.to_csv(\"../results/mutated_genes_counts.csv\")"
   ]
  },
  {
   "cell_type": "code",
   "execution_count": null,
   "metadata": {},
   "outputs": [],
   "source": []
  }
 ],
 "metadata": {
  "kernelspec": {
   "display_name": "Python 3",
   "language": "python",
   "name": "python3"
  },
  "language_info": {
   "codemirror_mode": {
    "name": "ipython",
    "version": 3
   },
   "file_extension": ".py",
   "mimetype": "text/x-python",
   "name": "python",
   "nbconvert_exporter": "python",
   "pygments_lexer": "ipython3",
   "version": "3.8.5"
  },
  "toc": {
   "base_numbering": 1,
   "nav_menu": {},
   "number_sections": true,
   "sideBar": true,
   "skip_h1_title": false,
   "title_cell": "Table of Contents",
   "title_sidebar": "Contents",
   "toc_cell": false,
   "toc_position": {},
   "toc_section_display": true,
   "toc_window_display": true
  }
 },
 "nbformat": 4,
 "nbformat_minor": 4
}
