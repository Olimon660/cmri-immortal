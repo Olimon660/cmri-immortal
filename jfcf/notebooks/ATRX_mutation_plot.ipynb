{
 "cells": [
  {
   "cell_type": "code",
   "execution_count": 18,
   "metadata": {
    "ExecuteTime": {
     "end_time": "2020-07-25T08:13:53.075645Z",
     "start_time": "2020-07-25T08:13:53.073221Z"
    }
   },
   "outputs": [],
   "source": [
    "import pandas as pd\n",
    "import matplotlib.pyplot as plt\n",
    "import matplotlib.patches as patches\n"
   ]
  },
  {
   "cell_type": "code",
   "execution_count": 84,
   "metadata": {
    "ExecuteTime": {
     "end_time": "2020-07-25T08:55:46.855402Z",
     "start_time": "2020-07-25T08:55:46.852107Z"
    }
   },
   "outputs": [],
   "source": [
    "plt.rcParams['font.family'] = 'Helvetica'\n",
    "plt.rcParams['font.size'] = 10\n",
    "plt.rcParams['axes.linewidth'] = 2\n",
    "plt.rcParams['figure.figsize'] = (10.0, 7.0)\n",
    "plt.rcParams['pdf.fonttype'] = 42\n",
    "plt.rcParams['ps.fonttype'] = 42\n"
   ]
  },
  {
   "cell_type": "code",
   "execution_count": 2,
   "metadata": {
    "ExecuteTime": {
     "end_time": "2020-07-25T07:51:50.389451Z",
     "start_time": "2020-07-25T07:51:50.387072Z"
    }
   },
   "outputs": [],
   "source": [
    "start = 76760355\n",
    "end = 77041702"
   ]
  },
  {
   "cell_type": "code",
   "execution_count": 5,
   "metadata": {
    "ExecuteTime": {
     "end_time": "2020-07-25T07:53:19.456825Z",
     "start_time": "2020-07-25T07:53:19.451778Z"
    }
   },
   "outputs": [],
   "source": [
    "exons = pd.read_csv(\"../data/ref_seq_ATRX.bed\",\n",
    "                    sep='\\t',\n",
    "                    names=['chr', 'start', 'end', 'exon', 'NA', 'strand'])"
   ]
  },
  {
   "cell_type": "code",
   "execution_count": 103,
   "metadata": {
    "ExecuteTime": {
     "end_time": "2020-07-26T00:03:55.689608Z",
     "start_time": "2020-07-26T00:03:55.340173Z"
    }
   },
   "outputs": [
    {
     "data": {
      "image/png": "[encoded data removed]",
      "text/plain": [
       "<Figure size 1080x216 with 1 Axes>"
      ]
     },
     "metadata": {
      "needs_background": "light"
     },
     "output_type": "display_data"
    }
   ],
   "source": [
    "fig, ax = plt.subplots(1, 1, figsize=(15, 3))\n",
    "ax.plot((start, end), (0, 0), c='blue')\n",
    "ax.plot((start, start), (-1, 1), c='blue')\n",
    "ax.plot((end, end), (-1, 1), c='blue')\n",
    "\n",
    "for index, row in exons.iterrows():\n",
    "    rect = patches.Rectangle((row['start'], -1), (row['end'] - row['start']),\n",
    "                             2,\n",
    "                             edgecolor='blue',\n",
    "                             facecolor='blue',\n",
    "                             lw=0.5)\n",
    "    ax.add_patch(rect)\n",
    "\n",
    "ax.plot((76885052, 76885052, 76923999, 76923999), (2, 3, 3, 2), c='red')\n",
    "ax.text((76885052 + 76923999) / 2,\n",
    "        3.2,\n",
    "        \"JFCF_6_T_1_M\",\n",
    "        va='bottom',\n",
    "        ha='center')\n",
    "\n",
    "ax.plot((76808603, 76808603, 76875533, 76875533), (2, 3, 3, 2), c='green')\n",
    "ax.text((76808603 + 76875533) / 2,\n",
    "        3.2,\n",
    "        \"JFCF_6_T_1_Q\",\n",
    "        va='bottom',\n",
    "        ha='center')\n",
    "\n",
    "ax.plot((76862268, 76862268, 77034579, 77034579), (-2, -3, -3, -2), c='green')\n",
    "ax.text((76862268 + 77034579) / 2, -3.2, \"JFCF_6_T_1_D\", va='top', ha='center')\n",
    "\n",
    "ax.plot((76853017, 76853017, 77014863, 77014863), (4, 5, 5, 4), c='green')\n",
    "ax.text((76853017 + 77014863) / 2,\n",
    "        5.2,\n",
    "        \"JFCF_6_T_1J_11E/1_3C\",\n",
    "        va='bottom',\n",
    "        ha='center')\n",
    "\n",
    "ax.plot((76795540, 76795540, 76940486, 76940486), (-4, -5, -5, -4), c='green')\n",
    "ax.text((76795540 + 76940486) / 2, -5.2, \"JFCF_6_T_1_L\", va='top', ha='center')\n",
    "\n",
    "ax.plot((76788737, 76788737, 76876903, 76876903), (6, 7, 7, 6), c='green')\n",
    "ax.text((76788737 + 76876903) / 2,\n",
    "        7.2,\n",
    "        \"JFCF_6_T_1_R\",\n",
    "        va='bottom',\n",
    "        ha='center')\n",
    "\n",
    "ax.plot((76783771, 76783771, 76840055, 76840055), (-6, -7, -7, -6), c='red')\n",
    "ax.text((76783771 + 76840055) / 2, -7.2, \"JFCF_6_T_5K\", va='top', ha='center')\n",
    "\n",
    "ax.plot((76938581, 76938581), (-1.2, -7), c='orange')\n",
    "ax.arrow(76938581, -7, 5000, 0, color='orange', head_length=2000, head_width=2)\n",
    "ax.text(76938581+10000, -7, \"JFCF_6_T_1_P_ALT: C->A stop gain\", va='center')\n",
    "\n",
    "ax.plot((76783762, 76783762), (-1.2, -3), c='black')\n",
    "ax.arrow(76783762, -3, 5000, 0, color='black', head_length=2000, head_width=2)\n",
    "ax.text(76783762+8000, -3, \"JFCF_6_T_5K: translocation-> chr7q-SSPOP\", va='center')\n",
    "\n",
    "\n",
    "rect = patches.Rectangle((7.703e7, 8), 5000,\n",
    "                             1.5,\n",
    "                             edgecolor='black',\n",
    "                             facecolor='red',\n",
    "                             lw=0.5)\n",
    "ax.add_patch(rect)\n",
    "ax.text(7.703e7+6000, 8.3, \"Duplication\")\n",
    "rect = patches.Rectangle((7.703e7, 6), 5000,\n",
    "                             1.5,\n",
    "                             edgecolor='black',\n",
    "                             facecolor='green',\n",
    "                             lw=0.5)\n",
    "ax.add_patch(rect)\n",
    "ax.text(7.703e7+6000, 6.3, \"Deletion\")\n",
    "rect = patches.Rectangle((7.703e7, 4), 5000,\n",
    "                             1.5,\n",
    "                             edgecolor='black',\n",
    "                             facecolor='orange',\n",
    "                             lw=0.5)\n",
    "ax.add_patch(rect)\n",
    "ax.text(7.703e7+6000, 4.3, \"SNP\")\n",
    "rect = patches.Rectangle((7.703e7, 2), 5000,\n",
    "                             1.5,\n",
    "                             edgecolor='black',\n",
    "                             facecolor='black',\n",
    "                             lw=0.5)\n",
    "ax.add_patch(rect)\n",
    "ax.text(7.703e7+6000, 2.3, \"Translocation\")\n",
    "\n",
    "ax.set_ylim(-10, 10)\n",
    "\n",
    "ax.set_yticks([])\n",
    "ax.set_xlabel(\"Chromosome X\")\n",
    "ax.set_title(\"ATRX mutation summary\", size=14)\n",
    "plt.tight_layout()\n",
    "plt.savefig(\"../results/ATRX_mutations.pdf\", dpi=500)"
   ]
  },
  {
   "cell_type": "code",
   "execution_count": null,
   "metadata": {},
   "outputs": [],
   "source": []
  }
 ],
 "metadata": {
  "kernelspec": {
   "display_name": "Python 3",
   "language": "python",
   "name": "python3"
  },
  "language_info": {
   "codemirror_mode": {
    "name": "ipython",
    "version": 3
   },
   "file_extension": ".py",
   "mimetype": "text/x-python",
   "name": "python",
   "nbconvert_exporter": "python",
   "pygments_lexer": "ipython3",
   "version": "3.8.2"
  },
  "toc": {
   "base_numbering": 1,
   "nav_menu": {},
   "number_sections": true,
   "sideBar": true,
   "skip_h1_title": false,
   "title_cell": "Table of Contents",
   "title_sidebar": "Contents",
   "toc_cell": false,
   "toc_position": {},
   "toc_section_display": true,
   "toc_window_display": false
  }
 },
 "nbformat": 4,
 "nbformat_minor": 4
}
