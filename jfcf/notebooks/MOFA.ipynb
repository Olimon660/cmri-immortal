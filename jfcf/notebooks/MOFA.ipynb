{
 "cells": [
  {
   "cell_type": "code",
   "execution_count": 1,
   "metadata": {
    "ExecuteTime": {
     "end_time": "2020-08-27T14:22:58.678640Z",
     "start_time": "2020-08-27T14:22:49.340150Z"
    }
   },
   "outputs": [],
   "source": [
    "from mofapy2.run.entry_point import entry_point\n",
    "import pandas as pd\n",
    "import numpy as np\n",
    "import seaborn as sns\n",
    "import matplotlib.pyplot as plt"
   ]
  },
  {
   "cell_type": "markdown",
   "metadata": {},
   "source": [
    "# preprocessing"
   ]
  },
  {
   "cell_type": "code",
   "execution_count": 2,
   "metadata": {
    "ExecuteTime": {
     "end_time": "2020-08-27T14:23:11.260468Z",
     "start_time": "2020-08-27T14:23:11.250010Z"
    }
   },
   "outputs": [],
   "source": [
    "samples = pd.read_csv(\"../data/samples/SAMPLES_Excel.tsv\", sep=\"\\t\")\n",
    "samples['label'] = samples.apply(lambda x: 0 if x['TMM'] == 'TEL' else 1\n",
    "                                 if (x['WestATRX'] == \"Neg\" or x['WestDAXX'] == \"Neg\") else \"AP\",\n",
    "                                 axis=1)\n",
    "mapping = dict(zip(samples['Immortal'].values, samples['label'].values))"
   ]
  },
  {
   "cell_type": "code",
   "execution_count": 22,
   "metadata": {
    "ExecuteTime": {
     "end_time": "2020-08-27T14:41:41.735736Z",
     "start_time": "2020-08-27T14:41:41.727835Z"
    }
   },
   "outputs": [],
   "source": [
    "tmp = samples[samples['Immortal'].str.contains(\"JF\")\n",
    "              & (samples['Immortal'] != \"JFCF_6_P_pLKO_5\")][[\n",
    "                  'Immortal', 'TMM'\n",
    "              ]].rename(columns={'Immortal': 'sample'})\n",
    "tmp['isALT'] = tmp['TMM'].map(lambda x: 1 if x == \"ALT\" else 0)\n",
    "tmp[['sample','isALT']].to_csv(\"../data/multiomic/sample_TMM.csv\", index=False)"
   ]
  },
  {
   "cell_type": "code",
   "execution_count": 108,
   "metadata": {
    "ExecuteTime": {
     "end_time": "2020-07-30T11:01:03.738344Z",
     "start_time": "2020-07-30T11:01:03.696028Z"
    }
   },
   "outputs": [],
   "source": [
    "cnv = pd.read_csv(\"../data/multiomic/CNV_JFCF-6_20200730.csv\")"
   ]
  },
  {
   "cell_type": "code",
   "execution_count": 3,
   "metadata": {
    "ExecuteTime": {
     "end_time": "2020-08-27T14:23:12.865356Z",
     "start_time": "2020-08-27T14:23:12.739085Z"
    }
   },
   "outputs": [],
   "source": [
    "protein_sample = pd.read_csv(\n",
    "    \"../data/multiomic/Protein_JFCF-6_20200730.csv\").set_index(['Gene']).T\n",
    "rna_sample = pd.read_csv(\n",
    "    \"../data/multiomic/RNA_JFCF-6_20200730.csv\").set_index(['gene']).T\n",
    "cnv_sample = pd.read_csv(\"../data/multiomic/CNV_JFCF-6_20200730.csv\").drop(\n",
    "    ['Gene ID', 'Cytoband'], axis=1).set_index(['Gene Symbol']).T"
   ]
  },
  {
   "cell_type": "code",
   "execution_count": 6,
   "metadata": {
    "ExecuteTime": {
     "end_time": "2020-08-27T14:24:19.770574Z",
     "start_time": "2020-08-27T14:24:19.766554Z"
    }
   },
   "outputs": [],
   "source": [
    "rna_sample.index.name = 'sample'\n",
    "rna_sample = rna_sample.reset_index()"
   ]
  },
  {
   "cell_type": "code",
   "execution_count": 8,
   "metadata": {
    "ExecuteTime": {
     "end_time": "2020-08-27T14:24:32.113203Z",
     "start_time": "2020-08-27T14:24:32.108185Z"
    }
   },
   "outputs": [],
   "source": [
    "rna_sample['sample'] = rna_sample['sample'].map(\n",
    "    lambda x: x.replace('-', '_').replace('.', '_').replace('/', '_'))\n",
    "rna_sample['sample'] = rna_sample['sample'].map(\n",
    "    lambda x: x.replace('JFCF_6_T_1_P(ALT)', 'JFCF_6_T_1_P_ALT').replace(\n",
    "        'JFCF_6_T_1_P(TEL)', '_JFCF_6_T_1_P_TEL'))\n",
    "rna_sample.loc[rna_sample['sample'] == 'JFCF_6_T_1_P',\n",
    "                  'sample'] = 'JFCF_6_T_1_P_TEL'"
   ]
  },
  {
   "cell_type": "code",
   "execution_count": 10,
   "metadata": {
    "ExecuteTime": {
     "end_time": "2020-08-27T14:25:01.874376Z",
     "start_time": "2020-08-27T14:25:01.502555Z"
    }
   },
   "outputs": [],
   "source": [
    "rna_sample.to_csv(\"../data/multiomic/RNA_JFCF-6_20200730_processed.csv\",index=False)"
   ]
  },
  {
   "cell_type": "code",
   "execution_count": 24,
   "metadata": {
    "ExecuteTime": {
     "end_time": "2020-08-28T00:53:42.423850Z",
     "start_time": "2020-08-28T00:53:42.412661Z"
    }
   },
   "outputs": [],
   "source": [
    "protein_sample.index.name = 'sample'\n",
    "protein_sample = protein_sample.reset_index()"
   ]
  },
  {
   "cell_type": "code",
   "execution_count": 25,
   "metadata": {
    "ExecuteTime": {
     "end_time": "2020-08-28T00:53:49.139214Z",
     "start_time": "2020-08-28T00:53:49.127109Z"
    }
   },
   "outputs": [],
   "source": [
    "protein_sample['sample'] = protein_sample['sample'].map(\n",
    "    lambda x: x.replace('-', '_').replace('.', '_').replace('/', '_'))\n",
    "protein_sample['sample'] = protein_sample['sample'].map(\n",
    "    lambda x: x.replace('JFCF_6_T_1_P(ALT)', 'JFCF_6_T_1_P_ALT').replace(\n",
    "        'JFCF_6_T_1_P(TEL)', '_JFCF_6_T_1_P_TEL'))\n",
    "protein_sample.loc[protein_sample['sample'] == 'JFCF_6_T_1_P',\n",
    "                  'sample'] = 'JFCF_6_T_1_P_TEL'"
   ]
  },
  {
   "cell_type": "code",
   "execution_count": 27,
   "metadata": {
    "ExecuteTime": {
     "end_time": "2020-08-28T00:54:06.151620Z",
     "start_time": "2020-08-28T00:54:05.995752Z"
    }
   },
   "outputs": [],
   "source": [
    "protein_sample.to_csv(\"../data/multiomic/Protein_JFCF-6_20200730_processed.csv\",index=False)"
   ]
  },
  {
   "cell_type": "code",
   "execution_count": 110,
   "metadata": {
    "ExecuteTime": {
     "end_time": "2020-07-30T11:01:04.014553Z",
     "start_time": "2020-07-30T11:01:04.011830Z"
    }
   },
   "outputs": [],
   "source": [
    "protein_sample.index.name='sample'\n",
    "rna_sample.index.name='sample'\n",
    "\n",
    "cnv_sample.index.name='sample'"
   ]
  },
  {
   "cell_type": "code",
   "execution_count": 111,
   "metadata": {
    "ExecuteTime": {
     "end_time": "2020-07-30T11:01:04.739565Z",
     "start_time": "2020-07-30T11:01:04.186142Z"
    }
   },
   "outputs": [],
   "source": [
    "protein_mofa = pd.melt(protein_sample.reset_index(), id_vars='sample', var_name='feature')\n",
    "protein_mofa['view'] = 'protein'\n",
    "protein_mofa['feature'] = protein_mofa['feature'].map(lambda x:f\"{x}_protein\")\n",
    "protein_mofa['value'] = protein_mofa['value'].map(np.log1p)\n",
    "\n",
    "rna_mofa = pd.melt(rna_sample.reset_index(), id_vars='sample', var_name='feature')\n",
    "rna_mofa['view'] = 'RNA'\n",
    "rna_mofa['feature'] = rna_mofa['feature'].map(lambda x:f\"{x}_rna\")\n",
    "rna_mofa['value'] = rna_mofa['value'].map(np.log1p)\n",
    "\n",
    "cnv_mofa = pd.melt(cnv_sample.reset_index(), id_vars='sample', var_name='feature')\n",
    "cnv_mofa['view'] = 'CNV'\n",
    "cnv_mofa['feature'] = cnv_mofa['feature'].map(lambda x:x.replace(\"|\", \"_\"))\n",
    "cnv_mofa['feature'] = cnv_mofa['feature'].map(lambda x:f\"{x}_cnv\")\n"
   ]
  },
  {
   "cell_type": "code",
   "execution_count": 112,
   "metadata": {
    "ExecuteTime": {
     "end_time": "2020-07-30T11:01:04.748104Z",
     "start_time": "2020-07-30T11:01:04.741531Z"
    }
   },
   "outputs": [],
   "source": [
    "tmm_mofa = pd.DataFrame({'sample':protein_mofa['sample'].unique()})\n",
    "tmm_mofa['view'] = 'TMM'\n",
    "tmm_mofa['feature'] = 'isALT'\n",
    "tmm_mofa['value'] = 0"
   ]
  },
  {
   "cell_type": "code",
   "execution_count": 113,
   "metadata": {
    "ExecuteTime": {
     "end_time": "2020-07-30T11:01:05.626479Z",
     "start_time": "2020-07-30T11:01:05.060954Z"
    }
   },
   "outputs": [],
   "source": [
    "combined_mofa = pd.concat([cnv_mofa, rna_mofa, protein_mofa, tmm_mofa])\n",
    "combined_mofa['sample'] = combined_mofa['sample'].map(\n",
    "    lambda x: x.replace('-', '_').replace('.', '_').replace('/', '_'))\n",
    "combined_mofa['sample'] = combined_mofa['sample'].map(\n",
    "    lambda x: x.replace('JFCF_6_T_1_P(ALT)', 'JFCF_6_T_1_P_ALT').replace(\n",
    "        'JFCF_6_T_1_P(TEL)', '_JFCF_6_T_1_P_TEL'))\n",
    "combined_mofa.loc[combined_mofa['sample'] == 'JFCF_6_T_1_P',\n",
    "                  'sample'] = 'JFCF_6_T_1_P_TEL'"
   ]
  },
  {
   "cell_type": "code",
   "execution_count": 114,
   "metadata": {
    "ExecuteTime": {
     "end_time": "2020-07-30T11:01:05.724301Z",
     "start_time": "2020-07-30T11:01:05.628203Z"
    }
   },
   "outputs": [],
   "source": [
    "combined_mofa = combined_mofa[combined_mofa['sample'] != 'JFCF_6'].reset_index(\n",
    "    drop=True)"
   ]
  },
  {
   "cell_type": "code",
   "execution_count": 115,
   "metadata": {
    "ExecuteTime": {
     "end_time": "2020-07-30T11:01:05.833812Z",
     "start_time": "2020-07-30T11:01:05.726494Z"
    }
   },
   "outputs": [],
   "source": [
    "combined_mofa.loc[combined_mofa['view'] == 'TMM',\n",
    "                  'value'] = combined_mofa.loc[combined_mofa['view'] == 'TMM',\n",
    "                                               'sample'].map(mapping)"
   ]
  },
  {
   "cell_type": "code",
   "execution_count": 116,
   "metadata": {
    "ExecuteTime": {
     "end_time": "2020-07-30T11:01:05.860468Z",
     "start_time": "2020-07-30T11:01:05.837203Z"
    }
   },
   "outputs": [],
   "source": [
    "combined_mofa['value'] = combined_mofa['value'].astype(float)"
   ]
  },
  {
   "cell_type": "code",
   "execution_count": 117,
   "metadata": {
    "ExecuteTime": {
     "end_time": "2020-07-30T11:01:06.048933Z",
     "start_time": "2020-07-30T11:01:06.043637Z"
    }
   },
   "outputs": [],
   "source": [
    "combined_mofa['group'] = 'group0'"
   ]
  },
  {
   "cell_type": "code",
   "execution_count": 118,
   "metadata": {
    "ExecuteTime": {
     "end_time": "2020-07-30T11:01:06.511513Z",
     "start_time": "2020-07-30T11:01:06.221173Z"
    }
   },
   "outputs": [],
   "source": [
    "combined_mofa = combined_mofa.drop_duplicates([\"group\",\"view\",\"feature\",\"sample\"])"
   ]
  },
  {
   "cell_type": "markdown",
   "metadata": {},
   "source": [
    "# train MOFA"
   ]
  },
  {
   "cell_type": "code",
   "execution_count": 119,
   "metadata": {
    "ExecuteTime": {
     "end_time": "2020-07-30T11:01:07.487114Z",
     "start_time": "2020-07-30T11:01:07.483827Z"
    }
   },
   "outputs": [
    {
     "name": "stdout",
     "output_type": "stream",
     "text": [
      "\n",
      "        #########################################################\n",
      "        ###           __  __  ____  ______                    ### \n",
      "        ###          |  \\/  |/ __ \\|  ____/\\    _             ### \n",
      "        ###          | \\  / | |  | | |__ /  \\ _| |_           ### \n",
      "        ###          | |\\/| | |  | |  __/ /\\ \\_   _|          ###\n",
      "        ###          | |  | | |__| | | / ____ \\|_|            ###\n",
      "        ###          |_|  |_|\\____/|_|/_/    \\_\\              ###\n",
      "        ###                                                   ### \n",
      "        ######################################################### \n",
      "       \n",
      " \n",
      "        \n",
      "Scaling views to unit variance...\n",
      "\n"
     ]
    }
   ],
   "source": [
    "ent = entry_point()\n",
    "ent.set_data_options(\n",
    "    scale_groups = False, \n",
    "    scale_views = True\n",
    ")"
   ]
  },
  {
   "cell_type": "code",
   "execution_count": 120,
   "metadata": {
    "ExecuteTime": {
     "end_time": "2020-07-30T11:01:09.197281Z",
     "start_time": "2020-07-30T11:01:07.661152Z"
    }
   },
   "outputs": [
    {
     "name": "stdout",
     "output_type": "stream",
     "text": [
      "\n",
      "\n",
      "Loaded group='group0' view='CNV' with N=17 samples and D=24324 features...\n",
      "Loaded group='group0' view='RNA' with N=17 samples and D=18836 features...\n",
      "Loaded group='group0' view='TMM' with N=17 samples and D=1 features...\n",
      "Loaded group='group0' view='protein' with N=17 samples and D=4553 features...\n",
      "\n",
      "\n",
      "Warning: 6 features(s) in view 1 have zero variance, consider removing them before training the model...\n",
      "\n"
     ]
    }
   ],
   "source": [
    "ent.set_data_df(combined_mofa, likelihoods = [\"gaussian\",\"gaussian\", \"bernoulli\", 'gaussian'])"
   ]
  },
  {
   "cell_type": "code",
   "execution_count": 121,
   "metadata": {
    "ExecuteTime": {
     "end_time": "2020-07-30T11:01:09.960150Z",
     "start_time": "2020-07-30T11:01:09.957355Z"
    }
   },
   "outputs": [
    {
     "name": "stdout",
     "output_type": "stream",
     "text": [
      "Model options:\n",
      "- Automatic Relevance Determination prior on the factors: True\n",
      "- Automatic Relevance Determination prior on the weights: True\n",
      "- Spike-and-slab prior on the factors: False\n",
      "- Spike-and-slab prior on the weights: True \n",
      "\n",
      "Likelihoods:\n",
      "- View 0 (CNV): gaussian\n",
      "- View 1 (RNA): gaussian\n",
      "- View 2 (TMM): bernoulli\n",
      "- View 3 (protein): gaussian\n"
     ]
    }
   ],
   "source": [
    "ent.set_model_options(\n",
    "    factors = 10, \n",
    "    spikeslab_weights = True, \n",
    "    ard_factors = True,\n",
    "    ard_weights = True\n",
    ")"
   ]
  },
  {
   "cell_type": "code",
   "execution_count": 122,
   "metadata": {
    "ExecuteTime": {
     "end_time": "2020-07-30T11:01:10.196680Z",
     "start_time": "2020-07-30T11:01:10.194212Z"
    }
   },
   "outputs": [],
   "source": [
    "ent.set_train_options(\n",
    "    iter = 1000, \n",
    "    convergence_mode = \"fast\", \n",
    "    startELBO = 1, \n",
    "    freqELBO = 1, \n",
    "    dropR2 = 0.001, \n",
    "    gpu_mode = False, \n",
    "    verbose = False, \n",
    "    seed = 1\n",
    ")"
   ]
  },
  {
   "cell_type": "code",
   "execution_count": 123,
   "metadata": {
    "ExecuteTime": {
     "end_time": "2020-07-30T11:01:25.615126Z",
     "start_time": "2020-07-30T11:01:11.120517Z"
    }
   },
   "outputs": [
    {
     "name": "stdout",
     "output_type": "stream",
     "text": [
      "\n",
      "Warning: some view(s) have less than 15 features, MOFA won't be able to learn meaningful factors for these view(s)...\n",
      "\n",
      "\n",
      "\n",
      "######################################\n",
      "## Training the model with seed 1 ##\n",
      "######################################\n",
      "\n",
      "\n",
      "ELBO before training: -7518583.29 \n",
      "\n",
      "Iteration 1: time=0.18, ELBO=-1593420.00, deltaELBO=5925163.291 (78.80691162%), Factors=9\n",
      "Iteration 2: time=0.14, ELBO=-1464550.73, deltaELBO=128869.273 (1.71401004%), Factors=9\n",
      "Iteration 3: time=0.13, ELBO=-1400614.50, deltaELBO=63936.233 (0.85037607%), Factors=9\n",
      "Iteration 4: time=0.13, ELBO=-1359388.88, deltaELBO=41225.612 (0.54831622%), Factors=9\n",
      "Iteration 5: time=0.13, ELBO=-1333892.16, deltaELBO=25496.727 (0.33911610%), Factors=9\n",
      "Iteration 6: time=0.13, ELBO=-1317105.73, deltaELBO=16786.432 (0.22326589%), Factors=9\n",
      "Iteration 7: time=0.13, ELBO=-1304534.81, deltaELBO=12570.914 (0.16719791%), Factors=9\n",
      "Iteration 8: time=0.14, ELBO=-1294844.06, deltaELBO=9690.751 (0.12889065%), Factors=9\n",
      "Iteration 9: time=0.12, ELBO=-1286936.44, deltaELBO=7907.624 (0.10517439%), Factors=9\n",
      "Iteration 10: time=0.12, ELBO=-1279906.23, deltaELBO=7030.207 (0.09350441%), Factors=9\n",
      "Iteration 11: time=0.12, ELBO=-1273563.25, deltaELBO=6342.983 (0.08436407%), Factors=9\n",
      "Iteration 12: time=0.13, ELBO=-1268341.00, deltaELBO=5222.244 (0.06945782%), Factors=9\n",
      "Iteration 13: time=0.13, ELBO=-1264216.18, deltaELBO=4124.818 (0.05486164%), Factors=9\n",
      "Iteration 14: time=0.12, ELBO=-1260753.29, deltaELBO=3462.890 (0.04605775%), Factors=9\n",
      "Iteration 15: time=0.12, ELBO=-1257613.35, deltaELBO=3139.944 (0.04176245%), Factors=9\n",
      "Iteration 16: time=0.13, ELBO=-1254529.75, deltaELBO=3083.597 (0.04101301%), Factors=9\n",
      "Iteration 17: time=0.13, ELBO=-1251426.47, deltaELBO=3103.281 (0.04127481%), Factors=9\n",
      "Iteration 18: time=0.13, ELBO=-1248649.33, deltaELBO=2777.140 (0.03693701%), Factors=9\n",
      "Iteration 19: time=0.12, ELBO=-1246698.87, deltaELBO=1950.466 (0.02594193%), Factors=9\n",
      "Iteration 20: time=0.12, ELBO=-1245441.91, deltaELBO=1256.951 (0.01671793%), Factors=9\n",
      "Iteration 21: time=0.13, ELBO=-1244442.43, deltaELBO=999.480 (0.01329346%), Factors=9\n",
      "Iteration 22: time=0.12, ELBO=-1243466.59, deltaELBO=975.848 (0.01297915%), Factors=9\n",
      "Iteration 23: time=0.12, ELBO=-1242460.24, deltaELBO=1006.343 (0.01338474%), Factors=9\n",
      "Iteration 24: time=0.12, ELBO=-1241479.97, deltaELBO=980.278 (0.01303807%), Factors=9\n",
      "Iteration 25: time=0.13, ELBO=-1240503.15, deltaELBO=976.818 (0.01299205%), Factors=9\n",
      "Iteration 26: time=0.13, ELBO=-1239493.35, deltaELBO=1009.797 (0.01343069%), Factors=9\n",
      "Iteration 27: time=0.12, ELBO=-1238413.83, deltaELBO=1079.519 (0.01435801%), Factors=9\n",
      "Iteration 28: time=0.12, ELBO=-1237219.46, deltaELBO=1194.372 (0.01588560%), Factors=9\n",
      "Iteration 29: time=0.12, ELBO=-1235880.68, deltaELBO=1338.781 (0.01780629%), Factors=9\n",
      "Iteration 30: time=0.12, ELBO=-1234458.13, deltaELBO=1422.548 (0.01892042%), Factors=9\n",
      "Iteration 31: time=0.13, ELBO=-1233295.19, deltaELBO=1162.942 (0.01546757%), Factors=9\n",
      "Iteration 32: time=0.12, ELBO=-1232688.73, deltaELBO=606.463 (0.00806619%), Factors=9\n",
      "Iteration 33: time=0.13, ELBO=-1232387.79, deltaELBO=300.935 (0.00400255%), Factors=9\n",
      "Iteration 34: time=0.12, ELBO=-1232168.67, deltaELBO=219.123 (0.00291442%), Factors=9\n",
      "Iteration 35: time=0.12, ELBO=-1231978.56, deltaELBO=190.109 (0.00252853%), Factors=9\n",
      "Iteration 36: time=0.12, ELBO=-1231811.26, deltaELBO=167.301 (0.00222517%), Factors=9\n",
      "Iteration 37: time=0.12, ELBO=-1231661.70, deltaELBO=149.559 (0.00198919%), Factors=9\n",
      "Iteration 38: time=0.12, ELBO=-1231524.38, deltaELBO=137.322 (0.00182643%), Factors=9\n",
      "Iteration 39: time=0.15, ELBO=-1231395.72, deltaELBO=128.656 (0.00171117%), Factors=9\n",
      "Iteration 40: time=0.13, ELBO=-1231273.79, deltaELBO=121.934 (0.00162177%), Factors=9\n",
      "Iteration 41: time=0.12, ELBO=-1231157.53, deltaELBO=116.254 (0.00154622%), Factors=9\n",
      "Iteration 42: time=0.12, ELBO=-1231046.39, deltaELBO=111.142 (0.00147823%), Factors=9\n",
      "Iteration 43: time=0.13, ELBO=-1230940.05, deltaELBO=106.339 (0.00141435%), Factors=9\n",
      "Iteration 44: time=0.13, ELBO=-1230838.33, deltaELBO=101.725 (0.00135298%), Factors=9\n",
      "Iteration 45: time=0.13, ELBO=-1230741.04, deltaELBO=97.282 (0.00129388%), Factors=9\n",
      "Iteration 46: time=0.13, ELBO=-1230647.99, deltaELBO=93.053 (0.00123764%), Factors=9\n",
      "Iteration 47: time=0.14, ELBO=-1230558.87, deltaELBO=89.117 (0.00118530%), Factors=9\n",
      "Iteration 48: time=0.12, ELBO=-1230473.32, deltaELBO=85.554 (0.00113790%), Factors=9\n",
      "Iteration 49: time=0.13, ELBO=-1230390.92, deltaELBO=82.404 (0.00109600%), Factors=9\n",
      "Iteration 50: time=0.12, ELBO=-1230311.26, deltaELBO=79.654 (0.00105943%), Factors=9\n",
      "Iteration 51: time=0.12, ELBO=-1230234.01, deltaELBO=77.250 (0.00102746%), Factors=9\n",
      "Iteration 52: time=0.12, ELBO=-1230158.88, deltaELBO=75.134 (0.00099931%), Factors=9\n",
      "Iteration 53: time=0.12, ELBO=-1230085.57, deltaELBO=73.312 (0.00097508%), Factors=9\n",
      "Iteration 54: time=0.12, ELBO=-1230013.64, deltaELBO=71.925 (0.00095664%), Factors=9\n",
      "Iteration 55: time=0.13, ELBO=-1229942.44, deltaELBO=71.205 (0.00094705%), Factors=9\n",
      "Iteration 56: time=0.13, ELBO=-1229871.25, deltaELBO=71.187 (0.00094682%), Factors=9\n",
      "Iteration 57: time=0.13, ELBO=-1229799.96, deltaELBO=71.285 (0.00094812%), Factors=9\n",
      "Iteration 58: time=0.13, ELBO=-1229729.62, deltaELBO=70.339 (0.00093554%), Factors=9\n",
      "Iteration 59: time=0.12, ELBO=-1229661.91, deltaELBO=67.719 (0.00090069%), Factors=9\n",
      "Iteration 60: time=0.12, ELBO=-1229597.83, deltaELBO=64.079 (0.00085228%), Factors=9\n",
      "Iteration 61: time=0.13, ELBO=-1229537.39, deltaELBO=60.439 (0.00080386%), Factors=9\n",
      "Iteration 62: time=0.13, ELBO=-1229480.09, deltaELBO=57.294 (0.00076203%), Factors=9\n",
      "Iteration 63: time=0.14, ELBO=-1229425.35, deltaELBO=54.739 (0.00072805%), Factors=9\n",
      "Iteration 64: time=0.13, ELBO=-1229372.60, deltaELBO=52.752 (0.00070162%), Factors=9\n",
      "Iteration 65: time=0.13, ELBO=-1229321.29, deltaELBO=51.311 (0.00068246%), Factors=9\n",
      "Iteration 66: time=0.13, ELBO=-1229270.87, deltaELBO=50.418 (0.00067057%), Factors=9\n",
      "Iteration 67: time=0.12, ELBO=-1229220.87, deltaELBO=50.001 (0.00066503%), Factors=9\n",
      "Iteration 68: time=0.13, ELBO=-1229171.01, deltaELBO=49.860 (0.00066316%), Factors=9\n",
      "Iteration 69: time=0.14, ELBO=-1229121.28, deltaELBO=49.735 (0.00066149%), Factors=9\n",
      "Iteration 70: time=0.14, ELBO=-1229071.95, deltaELBO=49.328 (0.00065607%), Factors=9\n",
      "Iteration 71: time=0.14, ELBO=-1229023.63, deltaELBO=48.324 (0.00064272%), Factors=9\n",
      "Iteration 72: time=0.14, ELBO=-1228977.12, deltaELBO=46.510 (0.00061861%), Factors=9\n",
      "Iteration 73: time=0.13, ELBO=-1228933.21, deltaELBO=43.908 (0.00058400%), Factors=9\n",
      "Iteration 74: time=0.13, ELBO=-1228892.40, deltaELBO=40.804 (0.00054270%), Factors=9\n",
      "Iteration 75: time=0.13, ELBO=-1228854.77, deltaELBO=37.634 (0.00050055%), Factors=9\n",
      "Iteration 76: time=0.14, ELBO=-1228819.98, deltaELBO=34.792 (0.00046275%), Factors=9\n",
      "Iteration 77: time=0.12, ELBO=-1228787.50, deltaELBO=32.482 (0.00043202%), Factors=9\n",
      "Iteration 78: time=0.13, ELBO=-1228756.79, deltaELBO=30.706 (0.00040841%), Factors=9\n",
      "Iteration 79: time=0.13, ELBO=-1228727.43, deltaELBO=29.358 (0.00039047%), Factors=9\n",
      "Iteration 80: time=0.13, ELBO=-1228699.13, deltaELBO=28.306 (0.00037647%), Factors=9\n",
      "Iteration 81: time=0.13, ELBO=-1228671.68, deltaELBO=27.443 (0.00036500%), Factors=9\n",
      "Iteration 82: time=0.13, ELBO=-1228644.98, deltaELBO=26.701 (0.00035513%), Factors=9\n",
      "Iteration 83: time=0.14, ELBO=-1228618.95, deltaELBO=26.036 (0.00034629%), Factors=9\n",
      "Iteration 84: time=0.13, ELBO=-1228593.52, deltaELBO=25.426 (0.00033818%), Factors=9\n",
      "Iteration 85: time=0.12, ELBO=-1228568.66, deltaELBO=24.857 (0.00033060%), Factors=9\n",
      "Iteration 86: time=0.13, ELBO=-1228544.34, deltaELBO=24.320 (0.00032347%), Factors=9\n",
      "Iteration 87: time=0.12, ELBO=-1228520.53, deltaELBO=23.811 (0.00031669%), Factors=9\n",
      "Iteration 88: time=0.12, ELBO=-1228497.21, deltaELBO=23.325 (0.00031024%), Factors=9\n",
      "Iteration 89: time=0.13, ELBO=-1228474.35, deltaELBO=22.861 (0.00030406%), Factors=9\n",
      "Iteration 90: time=0.13, ELBO=-1228451.93, deltaELBO=22.416 (0.00029814%), Factors=9\n",
      "Iteration 91: time=0.12, ELBO=-1228429.94, deltaELBO=21.989 (0.00029247%), Factors=9\n",
      "Iteration 92: time=0.12, ELBO=-1228408.36, deltaELBO=21.579 (0.00028701%), Factors=9\n",
      "Iteration 93: time=0.13, ELBO=-1228387.18, deltaELBO=21.186 (0.00028178%), Factors=9\n"
     ]
    },
    {
     "name": "stdout",
     "output_type": "stream",
     "text": [
      "Iteration 94: time=0.14, ELBO=-1228366.37, deltaELBO=20.809 (0.00027677%), Factors=9\n",
      "Iteration 95: time=0.14, ELBO=-1228345.92, deltaELBO=20.448 (0.00027197%), Factors=9\n",
      "Iteration 96: time=0.12, ELBO=-1228325.82, deltaELBO=20.102 (0.00026737%), Factors=9\n",
      "Iteration 97: time=0.12, ELBO=-1228306.05, deltaELBO=19.766 (0.00026290%), Factors=9\n",
      "Iteration 98: time=0.12, ELBO=-1228286.61, deltaELBO=19.436 (0.00025850%), Factors=9\n",
      "Iteration 99: time=0.13, ELBO=-1228267.50, deltaELBO=19.110 (0.00025417%), Factors=9\n",
      "Iteration 100: time=0.13, ELBO=-1095674.49, deltaELBO=132593.016 (1.76353723%), Factors=9\n",
      "Iteration 101: time=0.13, ELBO=-1094167.55, deltaELBO=1506.941 (0.02004289%), Factors=9\n",
      "Iteration 102: time=0.14, ELBO=-1093391.36, deltaELBO=776.189 (0.01032361%), Factors=9\n",
      "Iteration 103: time=0.13, ELBO=-1092979.51, deltaELBO=411.845 (0.00547769%), Factors=9\n",
      "Iteration 104: time=0.13, ELBO=-1092759.51, deltaELBO=220.000 (0.00292608%), Factors=9\n",
      "Iteration 105: time=0.12, ELBO=-1092643.50, deltaELBO=116.012 (0.00154300%), Factors=9\n",
      "Iteration 106: time=0.13, ELBO=-1092584.49, deltaELBO=59.012 (0.00078489%), Factors=9\n",
      "Iteration 107: time=0.13, ELBO=-1092556.07, deltaELBO=28.423 (0.00037804%), Factors=9\n",
      "Iteration 108: time=0.13, ELBO=-1092543.24, deltaELBO=12.826 (0.00017060%), Factors=9\n",
      "Iteration 109: time=0.13, ELBO=-1092537.55, deltaELBO=5.693 (0.00007572%), Factors=9\n",
      "Iteration 110: time=0.13, ELBO=-1092534.30, deltaELBO=3.246 (0.00004318%), Factors=9\n",
      "Iteration 111: time=0.12, ELBO=-1092531.22, deltaELBO=3.077 (0.00004093%), Factors=9\n",
      "\n",
      "Converged!\n",
      "\n",
      "\n",
      "\n",
      "#######################\n",
      "## Training finished ##\n",
      "#######################\n",
      "\n",
      "\n"
     ]
    }
   ],
   "source": [
    "ent.build()\n",
    "\n",
    "ent.run()"
   ]
  },
  {
   "cell_type": "code",
   "execution_count": 124,
   "metadata": {
    "ExecuteTime": {
     "end_time": "2020-07-30T11:01:49.344762Z",
     "start_time": "2020-07-30T11:01:49.164209Z"
    }
   },
   "outputs": [
    {
     "name": "stdout",
     "output_type": "stream",
     "text": [
      "Saving model in ../results/MOFA_3omic.hdf5...\n",
      "\n"
     ]
    }
   ],
   "source": [
    "ent.save(\"../results/MOFA_3omic.hdf5\")\n"
   ]
  },
  {
   "cell_type": "markdown",
   "metadata": {},
   "source": [
    "# MOFA analysis"
   ]
  },
  {
   "cell_type": "code",
   "execution_count": 85,
   "metadata": {
    "ExecuteTime": {
     "end_time": "2020-07-30T10:54:54.264775Z",
     "start_time": "2020-07-30T10:54:54.123907Z"
    }
   },
   "outputs": [],
   "source": [
    "cnv = pd.read_csv(\"../data/multiomic/CNV_JFCF-6_20200730.csv\")\n",
    "chr_map = cnv.set_index('Gene Symbol').to_dict()['Cytoband']"
   ]
  },
  {
   "cell_type": "code",
   "execution_count": 125,
   "metadata": {
    "ExecuteTime": {
     "end_time": "2020-07-30T11:02:18.981439Z",
     "start_time": "2020-07-30T11:02:18.966590Z"
    }
   },
   "outputs": [],
   "source": [
    "df_cnv = pd.read_csv(\"../data/MOFA/CNV_factor1.csv\")\n",
    "# df_cnv['gene'] = df_cnv['gene'].map(lambda x:x.replace(\"_CNV\", \"\"))"
   ]
  },
  {
   "cell_type": "code",
   "execution_count": 126,
   "metadata": {
    "ExecuteTime": {
     "end_time": "2020-07-30T11:02:19.296298Z",
     "start_time": "2020-07-30T11:02:19.283165Z"
    }
   },
   "outputs": [],
   "source": [
    "df_rna = pd.read_csv(\"../data/MOFA/RNA_factor1.csv\")\n",
    "# df_rna['gene'] = df_rna['gene'].map(lambda x:x.replace(\"_RNA\", \"\"))"
   ]
  },
  {
   "cell_type": "code",
   "execution_count": 127,
   "metadata": {
    "ExecuteTime": {
     "end_time": "2020-07-30T11:02:19.810192Z",
     "start_time": "2020-07-30T11:02:19.803007Z"
    }
   },
   "outputs": [],
   "source": [
    "df_protein = pd.read_csv(\"../data/MOFA/protein_factor1.csv\")\n",
    "# df_protein['gene'] = df_protein['gene'].map(lambda x:x.replace(\"_protein\", \"\"))"
   ]
  },
  {
   "cell_type": "code",
   "execution_count": 129,
   "metadata": {
    "ExecuteTime": {
     "end_time": "2020-07-30T11:03:01.875312Z",
     "start_time": "2020-07-30T11:03:01.819344Z"
    }
   },
   "outputs": [],
   "source": [
    "df_combined = pd.concat([df_cnv, df_rna, df_protein])\n",
    "\n",
    "df_combined['gene'] = df_combined['symbol'].map(lambda x: x.replace(\n",
    "    \"_rna\", \"\").replace(\"_cnv\", \"\").replace(\"_protein\", \"\"))\n",
    "\n",
    "df_combined['location'] = df_combined['gene'].map(chr_map)\n",
    "\n",
    "df_combined = df_combined.dropna()\n",
    "\n",
    "df_combined['Factor1_abs'] = df_combined['Factor1'].abs()\n",
    "\n",
    "\n",
    "df_combined = df_combined.sort_values(\n",
    "    by='Factor1_abs',\n",
    "    ascending=False).reset_index(drop=True).drop(['Factor1_abs'], axis=1)"
   ]
  },
  {
   "cell_type": "code",
   "execution_count": 132,
   "metadata": {
    "ExecuteTime": {
     "end_time": "2020-07-30T11:08:06.175658Z",
     "start_time": "2020-07-30T11:08:06.164580Z"
    }
   },
   "outputs": [],
   "source": [
    "df_combined['source'] = df_combined['symbol'].map(\n",
    "    lambda x: 'RNA' if 'rna' in x else 'CNV' if '_cnv' in x else 'protein')"
   ]
  },
  {
   "cell_type": "code",
   "execution_count": 140,
   "metadata": {
    "ExecuteTime": {
     "end_time": "2020-07-30T11:10:00.425669Z",
     "start_time": "2020-07-30T11:10:00.421824Z"
    }
   },
   "outputs": [],
   "source": [
    "df_combined = df_combined[['gene', 'source', 'location', 'Factor1']]"
   ]
  },
  {
   "cell_type": "code",
   "execution_count": 142,
   "metadata": {
    "ExecuteTime": {
     "end_time": "2020-07-30T11:10:13.863402Z",
     "start_time": "2020-07-30T11:10:13.751377Z"
    }
   },
   "outputs": [],
   "source": [
    "df_combined.to_csv(\"../results/MOFA_factor1_combined.csv\", index=False)"
   ]
  },
  {
   "cell_type": "code",
   "execution_count": 133,
   "metadata": {
    "ExecuteTime": {
     "end_time": "2020-07-30T11:08:08.864144Z",
     "start_time": "2020-07-30T11:08:08.829175Z"
    }
   },
   "outputs": [
    {
     "data": {
      "text/html": [
       "<div>\n",
       "<style scoped>\n",
       "    .dataframe tbody tr th:only-of-type {\n",
       "        vertical-align: middle;\n",
       "    }\n",
       "\n",
       "    .dataframe tbody tr th {\n",
       "        vertical-align: top;\n",
       "    }\n",
       "\n",
       "    .dataframe thead th {\n",
       "        text-align: right;\n",
       "    }\n",
       "</style>\n",
       "<table border=\"1\" class=\"dataframe\">\n",
       "  <thead>\n",
       "    <tr style=\"text-align: right;\">\n",
       "      <th></th>\n",
       "      <th>Factor1</th>\n",
       "      <th>symbol</th>\n",
       "      <th>gene</th>\n",
       "      <th>location</th>\n",
       "      <th>source</th>\n",
       "    </tr>\n",
       "  </thead>\n",
       "  <tbody>\n",
       "    <tr>\n",
       "      <th>865</th>\n",
       "      <td>-0.857216</td>\n",
       "      <td>ATP5J2_rna</td>\n",
       "      <td>ATP5J2</td>\n",
       "      <td>7q22.1</td>\n",
       "      <td>RNA</td>\n",
       "    </tr>\n",
       "    <tr>\n",
       "      <th>918</th>\n",
       "      <td>-0.854196</td>\n",
       "      <td>ZNHIT1_rna</td>\n",
       "      <td>ZNHIT1</td>\n",
       "      <td>7q22.1</td>\n",
       "      <td>RNA</td>\n",
       "    </tr>\n",
       "    <tr>\n",
       "      <th>926</th>\n",
       "      <td>-0.845275</td>\n",
       "      <td>BCL7B_rna</td>\n",
       "      <td>BCL7B</td>\n",
       "      <td>7q11.23</td>\n",
       "      <td>RNA</td>\n",
       "    </tr>\n",
       "    <tr>\n",
       "      <th>1040</th>\n",
       "      <td>-0.806087</td>\n",
       "      <td>PLOD3_rna</td>\n",
       "      <td>PLOD3</td>\n",
       "      <td>7q22.1</td>\n",
       "      <td>RNA</td>\n",
       "    </tr>\n",
       "    <tr>\n",
       "      <th>1043</th>\n",
       "      <td>-0.785293</td>\n",
       "      <td>FIS1_rna</td>\n",
       "      <td>FIS1</td>\n",
       "      <td>7q22.1</td>\n",
       "      <td>RNA</td>\n",
       "    </tr>\n",
       "    <tr>\n",
       "      <th>...</th>\n",
       "      <td>...</td>\n",
       "      <td>...</td>\n",
       "      <td>...</td>\n",
       "      <td>...</td>\n",
       "      <td>...</td>\n",
       "    </tr>\n",
       "    <tr>\n",
       "      <th>43653</th>\n",
       "      <td>0.000013</td>\n",
       "      <td>ADAM17_rna</td>\n",
       "      <td>ADAM17</td>\n",
       "      <td>2p25.1</td>\n",
       "      <td>RNA</td>\n",
       "    </tr>\n",
       "    <tr>\n",
       "      <th>43759</th>\n",
       "      <td>0.000009</td>\n",
       "      <td>LRR1_rna</td>\n",
       "      <td>LRR1</td>\n",
       "      <td>14q21.3</td>\n",
       "      <td>RNA</td>\n",
       "    </tr>\n",
       "    <tr>\n",
       "      <th>44158</th>\n",
       "      <td>0.000000</td>\n",
       "      <td>MTRNR2L10_rna</td>\n",
       "      <td>MTRNR2L10</td>\n",
       "      <td>Xp11.21</td>\n",
       "      <td>RNA</td>\n",
       "    </tr>\n",
       "    <tr>\n",
       "      <th>44160</th>\n",
       "      <td>0.000000</td>\n",
       "      <td>DIRAS2_rna</td>\n",
       "      <td>DIRAS2</td>\n",
       "      <td>9q22.2</td>\n",
       "      <td>RNA</td>\n",
       "    </tr>\n",
       "    <tr>\n",
       "      <th>44161</th>\n",
       "      <td>0.000000</td>\n",
       "      <td>PTGDR_rna</td>\n",
       "      <td>PTGDR</td>\n",
       "      <td>14q22.1</td>\n",
       "      <td>RNA</td>\n",
       "    </tr>\n",
       "  </tbody>\n",
       "</table>\n",
       "<p>15716 rows × 5 columns</p>\n",
       "</div>"
      ],
      "text/plain": [
       "        Factor1         symbol       gene location source\n",
       "865   -0.857216     ATP5J2_rna     ATP5J2   7q22.1    RNA\n",
       "918   -0.854196     ZNHIT1_rna     ZNHIT1   7q22.1    RNA\n",
       "926   -0.845275      BCL7B_rna      BCL7B  7q11.23    RNA\n",
       "1040  -0.806087      PLOD3_rna      PLOD3   7q22.1    RNA\n",
       "1043  -0.785293       FIS1_rna       FIS1   7q22.1    RNA\n",
       "...         ...            ...        ...      ...    ...\n",
       "43653  0.000013     ADAM17_rna     ADAM17   2p25.1    RNA\n",
       "43759  0.000009       LRR1_rna       LRR1  14q21.3    RNA\n",
       "44158  0.000000  MTRNR2L10_rna  MTRNR2L10  Xp11.21    RNA\n",
       "44160  0.000000     DIRAS2_rna     DIRAS2   9q22.2    RNA\n",
       "44161  0.000000      PTGDR_rna      PTGDR  14q22.1    RNA\n",
       "\n",
       "[15716 rows x 5 columns]"
      ]
     },
     "execution_count": 133,
     "metadata": {},
     "output_type": "execute_result"
    }
   ],
   "source": [
    "df_combined[df_combined['symbol'].str.contains(\"_rna\")]"
   ]
  },
  {
   "cell_type": "code",
   "execution_count": 145,
   "metadata": {
    "ExecuteTime": {
     "end_time": "2020-07-30T11:14:12.703239Z",
     "start_time": "2020-07-30T11:14:12.692541Z"
    }
   },
   "outputs": [
    {
     "data": {
      "text/html": [
       "<div>\n",
       "<style scoped>\n",
       "    .dataframe tbody tr th:only-of-type {\n",
       "        vertical-align: middle;\n",
       "    }\n",
       "\n",
       "    .dataframe tbody tr th {\n",
       "        vertical-align: top;\n",
       "    }\n",
       "\n",
       "    .dataframe thead th {\n",
       "        text-align: right;\n",
       "    }\n",
       "</style>\n",
       "<table border=\"1\" class=\"dataframe\">\n",
       "  <thead>\n",
       "    <tr style=\"text-align: right;\">\n",
       "      <th></th>\n",
       "      <th>gene</th>\n",
       "      <th>source</th>\n",
       "      <th>location</th>\n",
       "      <th>Factor1</th>\n",
       "    </tr>\n",
       "  </thead>\n",
       "  <tbody>\n",
       "    <tr>\n",
       "      <th>582</th>\n",
       "      <td>IMPDH1</td>\n",
       "      <td>CNV</td>\n",
       "      <td>7q32.1</td>\n",
       "      <td>-1.097114</td>\n",
       "    </tr>\n",
       "    <tr>\n",
       "      <th>1246</th>\n",
       "      <td>IMPDH1</td>\n",
       "      <td>RNA</td>\n",
       "      <td>7q32.1</td>\n",
       "      <td>-0.609056</td>\n",
       "    </tr>\n",
       "    <tr>\n",
       "      <th>1368</th>\n",
       "      <td>IMPDH1</td>\n",
       "      <td>protein</td>\n",
       "      <td>7q32.1</td>\n",
       "      <td>-0.557443</td>\n",
       "    </tr>\n",
       "  </tbody>\n",
       "</table>\n",
       "</div>"
      ],
      "text/plain": [
       "        gene   source location   Factor1\n",
       "582   IMPDH1      CNV   7q32.1 -1.097114\n",
       "1246  IMPDH1      RNA   7q32.1 -0.609056\n",
       "1368  IMPDH1  protein   7q32.1 -0.557443"
      ]
     },
     "execution_count": 145,
     "metadata": {},
     "output_type": "execute_result"
    }
   ],
   "source": [
    "df_combined[df_combined['gene']=='IMPDH1']"
   ]
  }
 ],
 "metadata": {
  "kernelspec": {
   "display_name": "Python 3",
   "language": "python",
   "name": "python3"
  },
  "language_info": {
   "codemirror_mode": {
    "name": "ipython",
    "version": 3
   },
   "file_extension": ".py",
   "mimetype": "text/x-python",
   "name": "python",
   "nbconvert_exporter": "python",
   "pygments_lexer": "ipython3",
   "version": "3.8.5"
  },
  "toc": {
   "base_numbering": 1,
   "nav_menu": {},
   "number_sections": true,
   "sideBar": true,
   "skip_h1_title": false,
   "title_cell": "Table of Contents",
   "title_sidebar": "Contents",
   "toc_cell": false,
   "toc_position": {},
   "toc_section_display": true,
   "toc_window_display": true
  }
 },
 "nbformat": 4,
 "nbformat_minor": 4
}
