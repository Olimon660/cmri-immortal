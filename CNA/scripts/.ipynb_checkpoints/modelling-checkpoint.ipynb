{
 "cells": [
  {
   "cell_type": "markdown",
   "metadata": {
    "ExecuteTime": {
     "end_time": "2019-02-14T00:16:50.639530Z",
     "start_time": "2019-02-14T00:16:50.636920Z"
    }
   },
   "source": [
    "# Preprocessing"
   ]
  },
  {
   "cell_type": "code",
   "execution_count": 4,
   "metadata": {
    "ExecuteTime": {
     "end_time": "2019-02-14T00:03:38.878727Z",
     "start_time": "2019-02-14T00:03:36.083871Z"
    }
   },
   "outputs": [],
   "source": [
    "data = pd.read_csv('/Users/scai/CMRI/immortal/results/ready_for_model/test_3samples.csv')"
   ]
  },
  {
   "cell_type": "code",
   "execution_count": 5,
   "metadata": {
    "ExecuteTime": {
     "end_time": "2019-02-14T00:03:39.490746Z",
     "start_time": "2019-02-14T00:03:39.459815Z"
    }
   },
   "outputs": [
    {
     "data": {
      "text/html": [
       "<div>\n",
       "<style scoped>\n",
       "    .dataframe tbody tr th:only-of-type {\n",
       "        vertical-align: middle;\n",
       "    }\n",
       "\n",
       "    .dataframe tbody tr th {\n",
       "        vertical-align: top;\n",
       "    }\n",
       "\n",
       "    .dataframe thead th {\n",
       "        text-align: right;\n",
       "    }\n",
       "</style>\n",
       "<table border=\"1\" class=\"dataframe\">\n",
       "  <thead>\n",
       "    <tr style=\"text-align: right;\">\n",
       "      <th></th>\n",
       "      <th>sample</th>\n",
       "      <th>RP11-54O7.16</th>\n",
       "      <th>RP11-54O7.1</th>\n",
       "      <th>RP11-54O7.2</th>\n",
       "      <th>RP11-54O7.3</th>\n",
       "      <th>SAMD11</th>\n",
       "      <th>AL645608.1</th>\n",
       "      <th>NOC2L</th>\n",
       "      <th>KLHL17</th>\n",
       "      <th>PLEKHN1</th>\n",
       "      <th>...</th>\n",
       "      <th>LINC00960</th>\n",
       "      <th>MIR4273</th>\n",
       "      <th>Y_RNA.585</th>\n",
       "      <th>RP13-644M16.4</th>\n",
       "      <th>RP11-618I10.3</th>\n",
       "      <th>RP11-790I12.1</th>\n",
       "      <th>RP11-790I12.6</th>\n",
       "      <th>RP11-790I12.2</th>\n",
       "      <th>RNU6-973P</th>\n",
       "      <th>y</th>\n",
       "    </tr>\n",
       "  </thead>\n",
       "  <tbody>\n",
       "    <tr>\n",
       "      <th>0</th>\n",
       "      <td>tumor_sample_e6_a1</td>\n",
       "      <td>AMP</td>\n",
       "      <td>AMP</td>\n",
       "      <td>AMP</td>\n",
       "      <td>AMP</td>\n",
       "      <td>AMP</td>\n",
       "      <td>AMP</td>\n",
       "      <td>AMP</td>\n",
       "      <td>AMP</td>\n",
       "      <td>AMP</td>\n",
       "      <td>...</td>\n",
       "      <td>NO_CHANGE</td>\n",
       "      <td>NO_CHANGE</td>\n",
       "      <td>NO_CHANGE</td>\n",
       "      <td>NO_CHANGE</td>\n",
       "      <td>NO_CHANGE</td>\n",
       "      <td>NO_CHANGE</td>\n",
       "      <td>NO_CHANGE</td>\n",
       "      <td>NO_CHANGE</td>\n",
       "      <td>NO_CHANGE</td>\n",
       "      <td>0</td>\n",
       "    </tr>\n",
       "    <tr>\n",
       "      <th>1</th>\n",
       "      <td>tumor_sample_402DE</td>\n",
       "      <td>AMP</td>\n",
       "      <td>AMP</td>\n",
       "      <td>AMP</td>\n",
       "      <td>AMP</td>\n",
       "      <td>AMP</td>\n",
       "      <td>AMP</td>\n",
       "      <td>AMP</td>\n",
       "      <td>AMP</td>\n",
       "      <td>AMP</td>\n",
       "      <td>...</td>\n",
       "      <td>NO_CHANGE</td>\n",
       "      <td>NO_CHANGE</td>\n",
       "      <td>NO_CHANGE</td>\n",
       "      <td>NO_CHANGE</td>\n",
       "      <td>NO_CHANGE</td>\n",
       "      <td>NO_CHANGE</td>\n",
       "      <td>NO_CHANGE</td>\n",
       "      <td>NO_CHANGE</td>\n",
       "      <td>NO_CHANGE</td>\n",
       "      <td>0</td>\n",
       "    </tr>\n",
       "    <tr>\n",
       "      <th>2</th>\n",
       "      <td>tumor_sample_d2</td>\n",
       "      <td>AMP</td>\n",
       "      <td>AMP</td>\n",
       "      <td>AMP</td>\n",
       "      <td>AMP</td>\n",
       "      <td>AMP</td>\n",
       "      <td>AMP</td>\n",
       "      <td>AMP</td>\n",
       "      <td>AMP</td>\n",
       "      <td>AMP</td>\n",
       "      <td>...</td>\n",
       "      <td>AMP</td>\n",
       "      <td>AMP</td>\n",
       "      <td>AMP</td>\n",
       "      <td>AMP</td>\n",
       "      <td>AMP</td>\n",
       "      <td>AMP</td>\n",
       "      <td>AMP</td>\n",
       "      <td>AMP</td>\n",
       "      <td>AMP</td>\n",
       "      <td>0</td>\n",
       "    </tr>\n",
       "  </tbody>\n",
       "</table>\n",
       "<p>3 rows × 53812 columns</p>\n",
       "</div>"
      ],
      "text/plain": [
       "               sample RP11-54O7.16 RP11-54O7.1 RP11-54O7.2 RP11-54O7.3 SAMD11  \\\n",
       "0  tumor_sample_e6_a1          AMP         AMP         AMP         AMP    AMP   \n",
       "1  tumor_sample_402DE          AMP         AMP         AMP         AMP    AMP   \n",
       "2     tumor_sample_d2          AMP         AMP         AMP         AMP    AMP   \n",
       "\n",
       "  AL645608.1 NOC2L KLHL17 PLEKHN1 ...  LINC00960    MIR4273  Y_RNA.585  \\\n",
       "0        AMP   AMP    AMP     AMP ...  NO_CHANGE  NO_CHANGE  NO_CHANGE   \n",
       "1        AMP   AMP    AMP     AMP ...  NO_CHANGE  NO_CHANGE  NO_CHANGE   \n",
       "2        AMP   AMP    AMP     AMP ...        AMP        AMP        AMP   \n",
       "\n",
       "  RP13-644M16.4 RP11-618I10.3 RP11-790I12.1 RP11-790I12.6 RP11-790I12.2  \\\n",
       "0     NO_CHANGE     NO_CHANGE     NO_CHANGE     NO_CHANGE     NO_CHANGE   \n",
       "1     NO_CHANGE     NO_CHANGE     NO_CHANGE     NO_CHANGE     NO_CHANGE   \n",
       "2           AMP           AMP           AMP           AMP           AMP   \n",
       "\n",
       "   RNU6-973P  y  \n",
       "0  NO_CHANGE  0  \n",
       "1  NO_CHANGE  0  \n",
       "2        AMP  0  \n",
       "\n",
       "[3 rows x 53812 columns]"
      ]
     },
     "execution_count": 5,
     "metadata": {},
     "output_type": "execute_result"
    }
   ],
   "source": [
    "data"
   ]
  },
  {
   "cell_type": "code",
   "execution_count": 6,
   "metadata": {
    "ExecuteTime": {
     "end_time": "2019-02-14T00:03:54.959741Z",
     "start_time": "2019-02-14T00:03:54.955369Z"
    }
   },
   "outputs": [],
   "source": [
    "# set 1 positive label for test purpose\n",
    "data.iloc[0,-1]=1"
   ]
  },
  {
   "cell_type": "code",
   "execution_count": 7,
   "metadata": {
    "ExecuteTime": {
     "end_time": "2019-02-14T00:04:19.272976Z",
     "start_time": "2019-02-14T00:04:19.256396Z"
    }
   },
   "outputs": [],
   "source": [
    "X = data.drop(['sample','y'], axis=1)"
   ]
  },
  {
   "cell_type": "code",
   "execution_count": 8,
   "metadata": {
    "ExecuteTime": {
     "end_time": "2019-02-14T00:05:34.197810Z",
     "start_time": "2019-02-14T00:04:19.903979Z"
    }
   },
   "outputs": [],
   "source": [
    "X_encode = pd.get_dummies(X)"
   ]
  },
  {
   "cell_type": "code",
   "execution_count": 29,
   "metadata": {
    "ExecuteTime": {
     "end_time": "2019-02-14T04:59:22.587235Z",
     "start_time": "2019-02-14T04:59:22.553928Z"
    }
   },
   "outputs": [
    {
     "data": {
      "text/html": [
       "<div>\n",
       "<style scoped>\n",
       "    .dataframe tbody tr th:only-of-type {\n",
       "        vertical-align: middle;\n",
       "    }\n",
       "\n",
       "    .dataframe tbody tr th {\n",
       "        vertical-align: top;\n",
       "    }\n",
       "\n",
       "    .dataframe thead th {\n",
       "        text-align: right;\n",
       "    }\n",
       "</style>\n",
       "<table border=\"1\" class=\"dataframe\">\n",
       "  <thead>\n",
       "    <tr style=\"text-align: right;\">\n",
       "      <th></th>\n",
       "      <th>RP11-54O7.16_AMP</th>\n",
       "      <th>RP11-54O7.1_AMP</th>\n",
       "      <th>RP11-54O7.2_AMP</th>\n",
       "      <th>RP11-54O7.3_AMP</th>\n",
       "      <th>SAMD11_AMP</th>\n",
       "      <th>AL645608.1_AMP</th>\n",
       "      <th>NOC2L_AMP</th>\n",
       "      <th>KLHL17_AMP</th>\n",
       "      <th>PLEKHN1_AMP</th>\n",
       "      <th>C1orf170_AMP</th>\n",
       "      <th>...</th>\n",
       "      <th>RP11-618I10.3_AMP</th>\n",
       "      <th>RP11-618I10.3_NO_CHANGE</th>\n",
       "      <th>RP11-790I12.1_AMP</th>\n",
       "      <th>RP11-790I12.1_NO_CHANGE</th>\n",
       "      <th>RP11-790I12.6_AMP</th>\n",
       "      <th>RP11-790I12.6_NO_CHANGE</th>\n",
       "      <th>RP11-790I12.2_AMP</th>\n",
       "      <th>RP11-790I12.2_NO_CHANGE</th>\n",
       "      <th>RNU6-973P_AMP</th>\n",
       "      <th>RNU6-973P_NO_CHANGE</th>\n",
       "    </tr>\n",
       "  </thead>\n",
       "  <tbody>\n",
       "    <tr>\n",
       "      <th>0</th>\n",
       "      <td>1</td>\n",
       "      <td>1</td>\n",
       "      <td>1</td>\n",
       "      <td>1</td>\n",
       "      <td>1</td>\n",
       "      <td>1</td>\n",
       "      <td>1</td>\n",
       "      <td>1</td>\n",
       "      <td>1</td>\n",
       "      <td>1</td>\n",
       "      <td>...</td>\n",
       "      <td>0</td>\n",
       "      <td>1</td>\n",
       "      <td>0</td>\n",
       "      <td>1</td>\n",
       "      <td>0</td>\n",
       "      <td>1</td>\n",
       "      <td>0</td>\n",
       "      <td>1</td>\n",
       "      <td>0</td>\n",
       "      <td>1</td>\n",
       "    </tr>\n",
       "    <tr>\n",
       "      <th>1</th>\n",
       "      <td>1</td>\n",
       "      <td>1</td>\n",
       "      <td>1</td>\n",
       "      <td>1</td>\n",
       "      <td>1</td>\n",
       "      <td>1</td>\n",
       "      <td>1</td>\n",
       "      <td>1</td>\n",
       "      <td>1</td>\n",
       "      <td>1</td>\n",
       "      <td>...</td>\n",
       "      <td>0</td>\n",
       "      <td>1</td>\n",
       "      <td>0</td>\n",
       "      <td>1</td>\n",
       "      <td>0</td>\n",
       "      <td>1</td>\n",
       "      <td>0</td>\n",
       "      <td>1</td>\n",
       "      <td>0</td>\n",
       "      <td>1</td>\n",
       "    </tr>\n",
       "    <tr>\n",
       "      <th>2</th>\n",
       "      <td>1</td>\n",
       "      <td>1</td>\n",
       "      <td>1</td>\n",
       "      <td>1</td>\n",
       "      <td>1</td>\n",
       "      <td>1</td>\n",
       "      <td>1</td>\n",
       "      <td>1</td>\n",
       "      <td>1</td>\n",
       "      <td>1</td>\n",
       "      <td>...</td>\n",
       "      <td>1</td>\n",
       "      <td>0</td>\n",
       "      <td>1</td>\n",
       "      <td>0</td>\n",
       "      <td>1</td>\n",
       "      <td>0</td>\n",
       "      <td>1</td>\n",
       "      <td>0</td>\n",
       "      <td>1</td>\n",
       "      <td>0</td>\n",
       "    </tr>\n",
       "  </tbody>\n",
       "</table>\n",
       "<p>3 rows × 96204 columns</p>\n",
       "</div>"
      ],
      "text/plain": [
       "   RP11-54O7.16_AMP  RP11-54O7.1_AMP  RP11-54O7.2_AMP  RP11-54O7.3_AMP  \\\n",
       "0                 1                1                1                1   \n",
       "1                 1                1                1                1   \n",
       "2                 1                1                1                1   \n",
       "\n",
       "   SAMD11_AMP  AL645608.1_AMP  NOC2L_AMP  KLHL17_AMP  PLEKHN1_AMP  \\\n",
       "0           1               1          1           1            1   \n",
       "1           1               1          1           1            1   \n",
       "2           1               1          1           1            1   \n",
       "\n",
       "   C1orf170_AMP         ...           RP11-618I10.3_AMP  \\\n",
       "0             1         ...                           0   \n",
       "1             1         ...                           0   \n",
       "2             1         ...                           1   \n",
       "\n",
       "   RP11-618I10.3_NO_CHANGE  RP11-790I12.1_AMP  RP11-790I12.1_NO_CHANGE  \\\n",
       "0                        1                  0                        1   \n",
       "1                        1                  0                        1   \n",
       "2                        0                  1                        0   \n",
       "\n",
       "   RP11-790I12.6_AMP  RP11-790I12.6_NO_CHANGE  RP11-790I12.2_AMP  \\\n",
       "0                  0                        1                  0   \n",
       "1                  0                        1                  0   \n",
       "2                  1                        0                  1   \n",
       "\n",
       "   RP11-790I12.2_NO_CHANGE  RNU6-973P_AMP  RNU6-973P_NO_CHANGE  \n",
       "0                        1              0                    1  \n",
       "1                        1              0                    1  \n",
       "2                        0              1                    0  \n",
       "\n",
       "[3 rows x 96204 columns]"
      ]
     },
     "execution_count": 29,
     "metadata": {},
     "output_type": "execute_result"
    }
   ],
   "source": [
    "X_encode"
   ]
  },
  {
   "cell_type": "code",
   "execution_count": 9,
   "metadata": {
    "ExecuteTime": {
     "end_time": "2019-02-14T00:05:34.203490Z",
     "start_time": "2019-02-14T00:05:34.199410Z"
    }
   },
   "outputs": [
    {
     "data": {
      "text/plain": [
       "(3, 96204)"
      ]
     },
     "execution_count": 9,
     "metadata": {},
     "output_type": "execute_result"
    }
   ],
   "source": [
    "X_encode.shape"
   ]
  },
  {
   "cell_type": "code",
   "execution_count": 10,
   "metadata": {
    "ExecuteTime": {
     "end_time": "2019-02-14T00:07:53.386879Z",
     "start_time": "2019-02-14T00:07:53.384319Z"
    }
   },
   "outputs": [],
   "source": [
    "y = data['y']"
   ]
  },
  {
   "cell_type": "markdown",
   "metadata": {},
   "source": [
    "# RF"
   ]
  },
  {
   "cell_type": "code",
   "execution_count": 13,
   "metadata": {
    "ExecuteTime": {
     "end_time": "2019-02-14T00:09:52.565547Z",
     "start_time": "2019-02-14T00:09:52.563262Z"
    }
   },
   "outputs": [],
   "source": [
    "clf = RandomForestClassifier(oob_score = True)"
   ]
  },
  {
   "cell_type": "code",
   "execution_count": 15,
   "metadata": {
    "ExecuteTime": {
     "end_time": "2019-02-14T00:10:34.791989Z",
     "start_time": "2019-02-14T00:10:33.952260Z"
    }
   },
   "outputs": [
    {
     "data": {
      "text/plain": [
       "RandomForestClassifier(bootstrap=True, class_weight=None, criterion='gini',\n",
       "            max_depth=None, max_features='auto', max_leaf_nodes=None,\n",
       "            min_impurity_decrease=0.0, min_impurity_split=None,\n",
       "            min_samples_leaf=1, min_samples_split=2,\n",
       "            min_weight_fraction_leaf=0.0, n_estimators=10, n_jobs=None,\n",
       "            oob_score=True, random_state=None, verbose=0, warm_start=False)"
      ]
     },
     "execution_count": 15,
     "metadata": {},
     "output_type": "execute_result"
    }
   ],
   "source": [
    "clf.fit(X_encode, y)"
   ]
  },
  {
   "cell_type": "code",
   "execution_count": 16,
   "metadata": {
    "ExecuteTime": {
     "end_time": "2019-02-14T00:10:40.436147Z",
     "start_time": "2019-02-14T00:10:40.432214Z"
    }
   },
   "outputs": [
    {
     "data": {
      "text/plain": [
       "0.6666666666666666"
      ]
     },
     "execution_count": 16,
     "metadata": {},
     "output_type": "execute_result"
    }
   ],
   "source": [
    "clf.oob_score_"
   ]
  },
  {
   "cell_type": "code",
   "execution_count": 23,
   "metadata": {
    "ExecuteTime": {
     "end_time": "2019-02-14T00:14:50.560833Z",
     "start_time": "2019-02-14T00:14:50.542748Z"
    }
   },
   "outputs": [],
   "source": [
    "feature_importances = pd.DataFrame(\n",
    "    clf.feature_importances_, index=X_encode.columns,\n",
    "    columns=['importance']).sort_values(\n",
    "        'importance', ascending=False)"
   ]
  },
  {
   "cell_type": "code",
   "execution_count": 21,
   "metadata": {
    "ExecuteTime": {
     "end_time": "2019-02-14T00:14:23.214297Z",
     "start_time": "2019-02-14T00:14:23.197508Z"
    }
   },
   "outputs": [
    {
     "data": {
      "text/plain": [
       "0.1"
      ]
     },
     "execution_count": 21,
     "metadata": {},
     "output_type": "execute_result"
    }
   ],
   "source": [
    "feature_importances.iloc[0,0]"
   ]
  },
  {
   "cell_type": "markdown",
   "metadata": {
    "ExecuteTime": {
     "end_time": "2019-02-14T00:17:30.398146Z",
     "start_time": "2019-02-14T00:17:30.395930Z"
    }
   },
   "source": [
    "# XGBoost"
   ]
  },
  {
   "cell_type": "code",
   "execution_count": null,
   "metadata": {},
   "outputs": [],
   "source": [
    "xgb = XGBClassifier()"
   ]
  }
 ],
 "metadata": {
  "kernelspec": {
   "display_name": "Python 3",
   "language": "python",
   "name": "python3"
  },
  "language_info": {
   "codemirror_mode": {
    "name": "ipython",
    "version": 3
   },
   "file_extension": ".py",
   "mimetype": "text/x-python",
   "name": "python",
   "nbconvert_exporter": "python",
   "pygments_lexer": "ipython3",
   "version": "3.6.8"
  },
  "toc": {
   "base_numbering": 1,
   "nav_menu": {},
   "number_sections": true,
   "sideBar": true,
   "skip_h1_title": false,
   "title_cell": "Table of Contents",
   "title_sidebar": "Contents",
   "toc_cell": false,
   "toc_position": {},
   "toc_section_display": true,
   "toc_window_display": true
  }
 },
 "nbformat": 4,
 "nbformat_minor": 1
}
