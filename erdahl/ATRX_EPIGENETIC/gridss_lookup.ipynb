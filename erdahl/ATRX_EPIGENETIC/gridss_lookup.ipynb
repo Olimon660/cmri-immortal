{
 "cells": [
  {
   "cell_type": "code",
   "execution_count": 1,
   "metadata": {
    "ExecuteTime": {
     "end_time": "2019-03-01T00:33:58.108952Z",
     "start_time": "2019-03-01T00:33:57.480803Z"
    }
   },
   "outputs": [],
   "source": [
    "import pandas as pd"
   ]
  },
  {
   "cell_type": "code",
   "execution_count": 2,
   "metadata": {
    "ExecuteTime": {
     "end_time": "2019-03-01T00:34:01.305891Z",
     "start_time": "2019-03-01T00:33:58.111049Z"
    }
   },
   "outputs": [],
   "source": [
    "data = pd.read_csv('./Raw_SV_ALL.csv', sep='\\t')"
   ]
  },
  {
   "cell_type": "code",
   "execution_count": 3,
   "metadata": {
    "ExecuteTime": {
     "end_time": "2019-03-01T00:34:01.316407Z",
     "start_time": "2019-03-01T00:34:01.307716Z"
    }
   },
   "outputs": [
    {
     "data": {
      "text/plain": [
       "Index(['Key', 'Name', 'Source', 'dbSNP', 'Type', 'Chr1', 'Pos1', 'Chr2',\n",
       "       'Pos2', 'Qual1', 'Qual2', 'AF1', 'AF2', 'Read1', 'Read2', 'Gene',\n",
       "       'Consequence', 'Impact', 'Ref1', 'Alt1', 'Ref2', 'Alt2'],\n",
       "      dtype='object')"
      ]
     },
     "execution_count": 3,
     "metadata": {},
     "output_type": "execute_result"
    }
   ],
   "source": [
    "data.columns"
   ]
  },
  {
   "cell_type": "markdown",
   "metadata": {},
   "source": [
    "# ATRX Analysis"
   ]
  },
  {
   "cell_type": "markdown",
   "metadata": {},
   "source": [
    "## Promoter Region"
   ]
  },
  {
   "cell_type": "code",
   "execution_count": 9,
   "metadata": {
    "ExecuteTime": {
     "end_time": "2019-03-01T00:35:45.017386Z",
     "start_time": "2019-03-01T00:35:45.015190Z"
    }
   },
   "outputs": [],
   "source": [
    "chromosome = 'chrX'\n",
    "start = 77039702\n",
    "# start = 3606226 # for testing\n",
    "end = 77043702"
   ]
  },
  {
   "cell_type": "code",
   "execution_count": 10,
   "metadata": {
    "ExecuteTime": {
     "end_time": "2019-03-01T00:35:45.295065Z",
     "start_time": "2019-03-01T00:35:45.214970Z"
    }
   },
   "outputs": [],
   "source": [
    "data1 = data[(data['Chr1']==chromosome)]\n",
    "data2 = data[(data['Chr2']==chromosome)]"
   ]
  },
  {
   "cell_type": "code",
   "execution_count": 11,
   "metadata": {
    "ExecuteTime": {
     "end_time": "2019-03-01T00:35:45.384091Z",
     "start_time": "2019-03-01T00:35:45.380422Z"
    }
   },
   "outputs": [
    {
     "name": "stdout",
     "output_type": "stream",
     "text": [
      "(11559, 22)\n",
      "(16417, 22)\n"
     ]
    }
   ],
   "source": [
    "print(data1.shape)\n",
    "print(data2.shape)"
   ]
  },
  {
   "cell_type": "markdown",
   "metadata": {},
   "source": [
    "No mutation from GRIDSS for the promoter region"
   ]
  },
  {
   "cell_type": "code",
   "execution_count": 12,
   "metadata": {
    "ExecuteTime": {
     "end_time": "2019-03-01T00:35:46.067389Z",
     "start_time": "2019-03-01T00:35:45.981934Z"
    }
   },
   "outputs": [
    {
     "data": {
      "text/html": [
       "<div>\n",
       "<style scoped>\n",
       "    .dataframe tbody tr th:only-of-type {\n",
       "        vertical-align: middle;\n",
       "    }\n",
       "\n",
       "    .dataframe tbody tr th {\n",
       "        vertical-align: top;\n",
       "    }\n",
       "\n",
       "    .dataframe thead th {\n",
       "        text-align: right;\n",
       "    }\n",
       "</style>\n",
       "<table border=\"1\" class=\"dataframe\">\n",
       "  <thead>\n",
       "    <tr style=\"text-align: right;\">\n",
       "      <th></th>\n",
       "      <th>Key</th>\n",
       "      <th>Name</th>\n",
       "      <th>Source</th>\n",
       "      <th>dbSNP</th>\n",
       "      <th>Type</th>\n",
       "      <th>Chr1</th>\n",
       "      <th>Pos1</th>\n",
       "      <th>Chr2</th>\n",
       "      <th>Pos2</th>\n",
       "      <th>Qual1</th>\n",
       "      <th>...</th>\n",
       "      <th>AF2</th>\n",
       "      <th>Read1</th>\n",
       "      <th>Read2</th>\n",
       "      <th>Gene</th>\n",
       "      <th>Consequence</th>\n",
       "      <th>Impact</th>\n",
       "      <th>Ref1</th>\n",
       "      <th>Alt1</th>\n",
       "      <th>Ref2</th>\n",
       "      <th>Alt2</th>\n",
       "    </tr>\n",
       "  </thead>\n",
       "  <tbody>\n",
       "  </tbody>\n",
       "</table>\n",
       "<p>0 rows × 22 columns</p>\n",
       "</div>"
      ],
      "text/plain": [
       "Empty DataFrame\n",
       "Columns: [Key, Name, Source, dbSNP, Type, Chr1, Pos1, Chr2, Pos2, Qual1, Qual2, AF1, AF2, Read1, Read2, Gene, Consequence, Impact, Ref1, Alt1, Ref2, Alt2]\n",
       "Index: []\n",
       "\n",
       "[0 rows x 22 columns]"
      ]
     },
     "execution_count": 12,
     "metadata": {},
     "output_type": "execute_result"
    }
   ],
   "source": [
    "# we check if there is any overlap at all\n",
    "data1[(data1['Pos1'].str.split('-').map(lambda x: float(x[0])) <= start)\n",
    "      &\n",
    "      (start <= (data1['Pos1'].str.split('-').map(lambda x: float(x[1]))))\n",
    "     |\n",
    "     (data1['Pos1'].str.split('-').map(lambda x: float(x[0])) <= end)\n",
    "      &\n",
    "      (end <= (data1['Pos1'].str.split('-').map(lambda x: float(x[1]))))\n",
    "     ]"
   ]
  },
  {
   "cell_type": "code",
   "execution_count": 13,
   "metadata": {
    "ExecuteTime": {
     "end_time": "2019-03-01T00:35:46.762011Z",
     "start_time": "2019-03-01T00:35:46.654941Z"
    }
   },
   "outputs": [
    {
     "data": {
      "text/html": [
       "<div>\n",
       "<style scoped>\n",
       "    .dataframe tbody tr th:only-of-type {\n",
       "        vertical-align: middle;\n",
       "    }\n",
       "\n",
       "    .dataframe tbody tr th {\n",
       "        vertical-align: top;\n",
       "    }\n",
       "\n",
       "    .dataframe thead th {\n",
       "        text-align: right;\n",
       "    }\n",
       "</style>\n",
       "<table border=\"1\" class=\"dataframe\">\n",
       "  <thead>\n",
       "    <tr style=\"text-align: right;\">\n",
       "      <th></th>\n",
       "      <th>Key</th>\n",
       "      <th>Name</th>\n",
       "      <th>Source</th>\n",
       "      <th>dbSNP</th>\n",
       "      <th>Type</th>\n",
       "      <th>Chr1</th>\n",
       "      <th>Pos1</th>\n",
       "      <th>Chr2</th>\n",
       "      <th>Pos2</th>\n",
       "      <th>Qual1</th>\n",
       "      <th>...</th>\n",
       "      <th>AF2</th>\n",
       "      <th>Read1</th>\n",
       "      <th>Read2</th>\n",
       "      <th>Gene</th>\n",
       "      <th>Consequence</th>\n",
       "      <th>Impact</th>\n",
       "      <th>Ref1</th>\n",
       "      <th>Alt1</th>\n",
       "      <th>Ref2</th>\n",
       "      <th>Alt2</th>\n",
       "    </tr>\n",
       "  </thead>\n",
       "  <tbody>\n",
       "  </tbody>\n",
       "</table>\n",
       "<p>0 rows × 22 columns</p>\n",
       "</div>"
      ],
      "text/plain": [
       "Empty DataFrame\n",
       "Columns: [Key, Name, Source, dbSNP, Type, Chr1, Pos1, Chr2, Pos2, Qual1, Qual2, AF1, AF2, Read1, Read2, Gene, Consequence, Impact, Ref1, Alt1, Ref2, Alt2]\n",
       "Index: []\n",
       "\n",
       "[0 rows x 22 columns]"
      ]
     },
     "execution_count": 13,
     "metadata": {},
     "output_type": "execute_result"
    }
   ],
   "source": [
    "# we check if there is any overlap at all\n",
    "data2[(data2['Pos2'].str.split('-').map(lambda x: float(x[0])) <= start)\n",
    "      &\n",
    "      (start <= (data2['Pos2'].str.split('-').map(lambda x: float(x[1]))))\n",
    "     |\n",
    "     (data2['Pos2'].str.split('-').map(lambda x: float(x[0])) <= end)\n",
    "      &\n",
    "      (end <= (data2['Pos2'].str.split('-').map(lambda x: float(x[1]))))]"
   ]
  },
  {
   "cell_type": "markdown",
   "metadata": {
    "ExecuteTime": {
     "end_time": "2019-02-28T00:31:35.049390Z",
     "start_time": "2019-02-28T00:31:35.047310Z"
    }
   },
   "source": [
    "## TF<sub>ATRX</sub> analysis"
   ]
  },
  {
   "cell_type": "markdown",
   "metadata": {
    "ExecuteTime": {
     "end_time": "2019-02-28T00:32:31.940912Z",
     "start_time": "2019-02-28T00:32:31.938217Z"
    }
   },
   "source": [
    "### EGR1"
   ]
  },
  {
   "cell_type": "code",
   "execution_count": 14,
   "metadata": {
    "ExecuteTime": {
     "end_time": "2019-03-01T00:35:47.746637Z",
     "start_time": "2019-03-01T00:35:47.743976Z"
    }
   },
   "outputs": [],
   "source": [
    "chromosome = 'chr5'\n",
    "start = 137799181.\n",
    "end = 137807004."
   ]
  },
  {
   "cell_type": "code",
   "execution_count": 15,
   "metadata": {
    "ExecuteTime": {
     "end_time": "2019-03-01T00:35:48.054859Z",
     "start_time": "2019-03-01T00:35:47.970118Z"
    }
   },
   "outputs": [],
   "source": [
    "data1 = data[(data['Chr1']==chromosome)]\n",
    "data2 = data[(data['Chr2']==chromosome)]"
   ]
  },
  {
   "cell_type": "code",
   "execution_count": 16,
   "metadata": {
    "ExecuteTime": {
     "end_time": "2019-03-01T00:35:48.347326Z",
     "start_time": "2019-03-01T00:35:48.343996Z"
    }
   },
   "outputs": [
    {
     "name": "stdout",
     "output_type": "stream",
     "text": [
      "(33747, 22)\n",
      "(31497, 22)\n"
     ]
    }
   ],
   "source": [
    "print(data1.shape)\n",
    "print(data2.shape)"
   ]
  },
  {
   "cell_type": "markdown",
   "metadata": {},
   "source": [
    "No mutation from GRIDSS for the EGR1"
   ]
  },
  {
   "cell_type": "code",
   "execution_count": 17,
   "metadata": {
    "ExecuteTime": {
     "end_time": "2019-03-01T00:35:49.244659Z",
     "start_time": "2019-03-01T00:35:49.060473Z"
    }
   },
   "outputs": [
    {
     "data": {
      "text/html": [
       "<div>\n",
       "<style scoped>\n",
       "    .dataframe tbody tr th:only-of-type {\n",
       "        vertical-align: middle;\n",
       "    }\n",
       "\n",
       "    .dataframe tbody tr th {\n",
       "        vertical-align: top;\n",
       "    }\n",
       "\n",
       "    .dataframe thead th {\n",
       "        text-align: right;\n",
       "    }\n",
       "</style>\n",
       "<table border=\"1\" class=\"dataframe\">\n",
       "  <thead>\n",
       "    <tr style=\"text-align: right;\">\n",
       "      <th></th>\n",
       "      <th>Key</th>\n",
       "      <th>Name</th>\n",
       "      <th>Source</th>\n",
       "      <th>dbSNP</th>\n",
       "      <th>Type</th>\n",
       "      <th>Chr1</th>\n",
       "      <th>Pos1</th>\n",
       "      <th>Chr2</th>\n",
       "      <th>Pos2</th>\n",
       "      <th>Qual1</th>\n",
       "      <th>...</th>\n",
       "      <th>AF2</th>\n",
       "      <th>Read1</th>\n",
       "      <th>Read2</th>\n",
       "      <th>Gene</th>\n",
       "      <th>Consequence</th>\n",
       "      <th>Impact</th>\n",
       "      <th>Ref1</th>\n",
       "      <th>Alt1</th>\n",
       "      <th>Ref2</th>\n",
       "      <th>Alt2</th>\n",
       "    </tr>\n",
       "  </thead>\n",
       "  <tbody>\n",
       "  </tbody>\n",
       "</table>\n",
       "<p>0 rows × 22 columns</p>\n",
       "</div>"
      ],
      "text/plain": [
       "Empty DataFrame\n",
       "Columns: [Key, Name, Source, dbSNP, Type, Chr1, Pos1, Chr2, Pos2, Qual1, Qual2, AF1, AF2, Read1, Read2, Gene, Consequence, Impact, Ref1, Alt1, Ref2, Alt2]\n",
       "Index: []\n",
       "\n",
       "[0 rows x 22 columns]"
      ]
     },
     "execution_count": 17,
     "metadata": {},
     "output_type": "execute_result"
    }
   ],
   "source": [
    "# we check if there is any overlap at all\n",
    "data1[(data1['Pos1'].str.split('-').map(lambda x: float(x[0])) <= start)\n",
    "      &\n",
    "      (start <= (data1['Pos1'].str.split('-').map(lambda x: float(x[1]))))\n",
    "     |\n",
    "     (data1['Pos1'].str.split('-').map(lambda x: float(x[0])) <= end)\n",
    "      &\n",
    "      (end <= (data1['Pos1'].str.split('-').map(lambda x: float(x[1]))))\n",
    "     ]"
   ]
  },
  {
   "cell_type": "code",
   "execution_count": 18,
   "metadata": {
    "ExecuteTime": {
     "end_time": "2019-03-01T00:35:49.855930Z",
     "start_time": "2019-03-01T00:35:49.690764Z"
    }
   },
   "outputs": [
    {
     "data": {
      "text/html": [
       "<div>\n",
       "<style scoped>\n",
       "    .dataframe tbody tr th:only-of-type {\n",
       "        vertical-align: middle;\n",
       "    }\n",
       "\n",
       "    .dataframe tbody tr th {\n",
       "        vertical-align: top;\n",
       "    }\n",
       "\n",
       "    .dataframe thead th {\n",
       "        text-align: right;\n",
       "    }\n",
       "</style>\n",
       "<table border=\"1\" class=\"dataframe\">\n",
       "  <thead>\n",
       "    <tr style=\"text-align: right;\">\n",
       "      <th></th>\n",
       "      <th>Key</th>\n",
       "      <th>Name</th>\n",
       "      <th>Source</th>\n",
       "      <th>dbSNP</th>\n",
       "      <th>Type</th>\n",
       "      <th>Chr1</th>\n",
       "      <th>Pos1</th>\n",
       "      <th>Chr2</th>\n",
       "      <th>Pos2</th>\n",
       "      <th>Qual1</th>\n",
       "      <th>...</th>\n",
       "      <th>AF2</th>\n",
       "      <th>Read1</th>\n",
       "      <th>Read2</th>\n",
       "      <th>Gene</th>\n",
       "      <th>Consequence</th>\n",
       "      <th>Impact</th>\n",
       "      <th>Ref1</th>\n",
       "      <th>Alt1</th>\n",
       "      <th>Ref2</th>\n",
       "      <th>Alt2</th>\n",
       "    </tr>\n",
       "  </thead>\n",
       "  <tbody>\n",
       "  </tbody>\n",
       "</table>\n",
       "<p>0 rows × 22 columns</p>\n",
       "</div>"
      ],
      "text/plain": [
       "Empty DataFrame\n",
       "Columns: [Key, Name, Source, dbSNP, Type, Chr1, Pos1, Chr2, Pos2, Qual1, Qual2, AF1, AF2, Read1, Read2, Gene, Consequence, Impact, Ref1, Alt1, Ref2, Alt2]\n",
       "Index: []\n",
       "\n",
       "[0 rows x 22 columns]"
      ]
     },
     "execution_count": 18,
     "metadata": {},
     "output_type": "execute_result"
    }
   ],
   "source": [
    "# we check if there is any overlap at all\n",
    "data2[(data2['Pos2'].str.split('-').map(lambda x: float(x[0])) <= start)\n",
    "      &\n",
    "      (start <= (data2['Pos2'].str.split('-').map(lambda x: float(x[1]))))\n",
    "     |\n",
    "     (data2['Pos2'].str.split('-').map(lambda x: float(x[0])) <= end)\n",
    "      &\n",
    "      (end <= (data2['Pos2'].str.split('-').map(lambda x: float(x[1]))))]"
   ]
  },
  {
   "cell_type": "markdown",
   "metadata": {},
   "source": [
    "### HOXA9"
   ]
  },
  {
   "cell_type": "code",
   "execution_count": 19,
   "metadata": {
    "ExecuteTime": {
     "end_time": "2019-03-01T00:35:50.624272Z",
     "start_time": "2019-03-01T00:35:50.621896Z"
    }
   },
   "outputs": [],
   "source": [
    "chromosome = 'chr7'\n",
    "start = 27200057.\n",
    "end = 27207149."
   ]
  },
  {
   "cell_type": "code",
   "execution_count": 20,
   "metadata": {
    "ExecuteTime": {
     "end_time": "2019-03-01T00:35:50.987592Z",
     "start_time": "2019-03-01T00:35:50.902871Z"
    }
   },
   "outputs": [],
   "source": [
    "data1 = data[(data['Chr1']==chromosome)]\n",
    "data2 = data[(data['Chr2']==chromosome)]"
   ]
  },
  {
   "cell_type": "code",
   "execution_count": 21,
   "metadata": {
    "ExecuteTime": {
     "end_time": "2019-03-01T00:35:51.128326Z",
     "start_time": "2019-03-01T00:35:51.125662Z"
    }
   },
   "outputs": [
    {
     "name": "stdout",
     "output_type": "stream",
     "text": [
      "(31821, 22)\n",
      "(29843, 22)\n"
     ]
    }
   ],
   "source": [
    "print(data1.shape)\n",
    "print(data2.shape)"
   ]
  },
  {
   "cell_type": "markdown",
   "metadata": {},
   "source": [
    "No mutation from GRIDSS for HOXA9"
   ]
  },
  {
   "cell_type": "code",
   "execution_count": 22,
   "metadata": {
    "ExecuteTime": {
     "end_time": "2019-03-01T00:35:52.152384Z",
     "start_time": "2019-03-01T00:35:51.964593Z"
    }
   },
   "outputs": [
    {
     "data": {
      "text/html": [
       "<div>\n",
       "<style scoped>\n",
       "    .dataframe tbody tr th:only-of-type {\n",
       "        vertical-align: middle;\n",
       "    }\n",
       "\n",
       "    .dataframe tbody tr th {\n",
       "        vertical-align: top;\n",
       "    }\n",
       "\n",
       "    .dataframe thead th {\n",
       "        text-align: right;\n",
       "    }\n",
       "</style>\n",
       "<table border=\"1\" class=\"dataframe\">\n",
       "  <thead>\n",
       "    <tr style=\"text-align: right;\">\n",
       "      <th></th>\n",
       "      <th>Key</th>\n",
       "      <th>Name</th>\n",
       "      <th>Source</th>\n",
       "      <th>dbSNP</th>\n",
       "      <th>Type</th>\n",
       "      <th>Chr1</th>\n",
       "      <th>Pos1</th>\n",
       "      <th>Chr2</th>\n",
       "      <th>Pos2</th>\n",
       "      <th>Qual1</th>\n",
       "      <th>...</th>\n",
       "      <th>AF2</th>\n",
       "      <th>Read1</th>\n",
       "      <th>Read2</th>\n",
       "      <th>Gene</th>\n",
       "      <th>Consequence</th>\n",
       "      <th>Impact</th>\n",
       "      <th>Ref1</th>\n",
       "      <th>Alt1</th>\n",
       "      <th>Ref2</th>\n",
       "      <th>Alt2</th>\n",
       "    </tr>\n",
       "  </thead>\n",
       "  <tbody>\n",
       "  </tbody>\n",
       "</table>\n",
       "<p>0 rows × 22 columns</p>\n",
       "</div>"
      ],
      "text/plain": [
       "Empty DataFrame\n",
       "Columns: [Key, Name, Source, dbSNP, Type, Chr1, Pos1, Chr2, Pos2, Qual1, Qual2, AF1, AF2, Read1, Read2, Gene, Consequence, Impact, Ref1, Alt1, Ref2, Alt2]\n",
       "Index: []\n",
       "\n",
       "[0 rows x 22 columns]"
      ]
     },
     "execution_count": 22,
     "metadata": {},
     "output_type": "execute_result"
    }
   ],
   "source": [
    "# we check if there is any overlap at all\n",
    "data1[(data1['Pos1'].str.split('-').map(lambda x: float(x[0])) <= start)\n",
    "      &\n",
    "      (start <= (data1['Pos1'].str.split('-').map(lambda x: float(x[1]))))\n",
    "     |\n",
    "     (data1['Pos1'].str.split('-').map(lambda x: float(x[0])) <= end)\n",
    "      &\n",
    "      (end <= (data1['Pos1'].str.split('-').map(lambda x: float(x[1]))))\n",
    "     ]"
   ]
  },
  {
   "cell_type": "code",
   "execution_count": 23,
   "metadata": {
    "ExecuteTime": {
     "end_time": "2019-03-01T00:35:52.768654Z",
     "start_time": "2019-03-01T00:35:52.612458Z"
    }
   },
   "outputs": [
    {
     "data": {
      "text/html": [
       "<div>\n",
       "<style scoped>\n",
       "    .dataframe tbody tr th:only-of-type {\n",
       "        vertical-align: middle;\n",
       "    }\n",
       "\n",
       "    .dataframe tbody tr th {\n",
       "        vertical-align: top;\n",
       "    }\n",
       "\n",
       "    .dataframe thead th {\n",
       "        text-align: right;\n",
       "    }\n",
       "</style>\n",
       "<table border=\"1\" class=\"dataframe\">\n",
       "  <thead>\n",
       "    <tr style=\"text-align: right;\">\n",
       "      <th></th>\n",
       "      <th>Key</th>\n",
       "      <th>Name</th>\n",
       "      <th>Source</th>\n",
       "      <th>dbSNP</th>\n",
       "      <th>Type</th>\n",
       "      <th>Chr1</th>\n",
       "      <th>Pos1</th>\n",
       "      <th>Chr2</th>\n",
       "      <th>Pos2</th>\n",
       "      <th>Qual1</th>\n",
       "      <th>...</th>\n",
       "      <th>AF2</th>\n",
       "      <th>Read1</th>\n",
       "      <th>Read2</th>\n",
       "      <th>Gene</th>\n",
       "      <th>Consequence</th>\n",
       "      <th>Impact</th>\n",
       "      <th>Ref1</th>\n",
       "      <th>Alt1</th>\n",
       "      <th>Ref2</th>\n",
       "      <th>Alt2</th>\n",
       "    </tr>\n",
       "  </thead>\n",
       "  <tbody>\n",
       "  </tbody>\n",
       "</table>\n",
       "<p>0 rows × 22 columns</p>\n",
       "</div>"
      ],
      "text/plain": [
       "Empty DataFrame\n",
       "Columns: [Key, Name, Source, dbSNP, Type, Chr1, Pos1, Chr2, Pos2, Qual1, Qual2, AF1, AF2, Read1, Read2, Gene, Consequence, Impact, Ref1, Alt1, Ref2, Alt2]\n",
       "Index: []\n",
       "\n",
       "[0 rows x 22 columns]"
      ]
     },
     "execution_count": 23,
     "metadata": {},
     "output_type": "execute_result"
    }
   ],
   "source": [
    "# we check if there is any overlap at all\n",
    "data2[(data2['Pos2'].str.split('-').map(lambda x: float(x[0])) <= start)\n",
    "      &\n",
    "      (start <= (data2['Pos2'].str.split('-').map(lambda x: float(x[1]))))\n",
    "     |\n",
    "     (data2['Pos2'].str.split('-').map(lambda x: float(x[0])) <= end)\n",
    "      &\n",
    "      (end <= (data2['Pos2'].str.split('-').map(lambda x: float(x[1]))))]"
   ]
  },
  {
   "cell_type": "markdown",
   "metadata": {},
   "source": [
    "### p = 0.00005"
   ]
  },
  {
   "cell_type": "code",
   "execution_count": 24,
   "metadata": {
    "ExecuteTime": {
     "end_time": "2019-03-01T00:35:53.556457Z",
     "start_time": "2019-03-01T00:35:53.450459Z"
    }
   },
   "outputs": [],
   "source": [
    "gene_list = [\n",
    "    'ASCL1', 'ATF6', 'EGR1', 'ESRRA', 'FOXS1', 'GLI1', 'HAND1', 'HESX1',\n",
    "    'HOXA2', 'HOXA9', 'HOXD8', 'HSFX1', 'KLF8', 'MYBL1', 'MYOD1', 'SOX7',\n",
    "    'TBX19', 'TCF7L1', 'THRB', 'ZBTB6', 'ZNF213', 'ZNF280A', 'ZNF287',\n",
    "    'ZNF561', 'ZNF562', 'ZNF582'\n",
    "]\n",
    "gene_set = pd.read_csv(\n",
    "    '../../bitbucket/CNA/data/ref_data/EnsemblGRCh37Genes.tsv', sep='\\t')"
   ]
  },
  {
   "cell_type": "code",
   "execution_count": 25,
   "metadata": {
    "ExecuteTime": {
     "end_time": "2019-03-01T00:35:53.950402Z",
     "start_time": "2019-03-01T00:35:53.942838Z"
    }
   },
   "outputs": [],
   "source": [
    "p5 = gene_set[gene_set['GeneName'].isin(gene_list)].reset_index(drop=True)"
   ]
  },
  {
   "cell_type": "code",
   "execution_count": 26,
   "metadata": {
    "ExecuteTime": {
     "end_time": "2019-03-01T00:36:02.397140Z",
     "start_time": "2019-03-01T00:35:54.180848Z"
    }
   },
   "outputs": [
    {
     "name": "stdout",
     "output_type": "stream",
     "text": [
      "checking: ZNF213 chr16,  3179778.0 3192806.0\n",
      "checking: ZNF561 chr19,  9715356.0 9732075.0\n",
      "checking: ZNF562 chr19,  9759330.0 9785776.0\n",
      "checking: SOX7 chr8,  10581278.0 10697357.0\n",
      "checking: ZNF287 chr17,  16454701.0 16472520.0\n",
      "checking: MYOD1 chr11,  17741115.0 17743678.0\n",
      "checking: ZNF280A chr22,  22868060.0 22874613.0\n",
      "checking: THRB chr3,  24158651.0 24536773.0\n",
      "checking: HOXA2 chr7,  27139721.0 27142430.0\n",
      "checking: HOXA9 chr7,  27202054.0 27210117.0\n",
      "checking: FOXS1 chr20,  30432103.0 30433420.0\n",
      "checking: KLF8 chrX,  56258854.0 56314322.0\n",
      "checking: ZNF582 chr19,  56887413.0 56904914.0\n",
      "checking: HESX1 chr3,  57231944.0 57260549.0\n",
      "checking: GLI1 chr12,  57853918.0 57866045.0\n",
      "checking: ESRRA chr11,  64073044.0 64084215.0\n",
      "checking: MYBL1 chr8,  67474410.0 67526482.0\n",
      "checking: TCF7L1 chr2,  85360533.0 85537511.0\n",
      "checking: ASCL1 chr12,  103351464.0 103354294.0\n",
      "checking: ZBTB6 chr9,  125670335.0 125675609.0\n",
      "checking: EGR1 chr5,  137801179.0 137805004.0\n",
      "checking: HSFX1 chrX,  148855726.0 148858525.0\n",
      "checking: HAND1 chr5,  153854532.0 153857824.0\n",
      "checking: ATF6 chr1,  161736084.0 161933860.0\n",
      "checking: TBX19 chr1,  168250278.0 168283664.0\n",
      "checking: HOXD8 chr2,  176994422.0 176997423.0\n"
     ]
    }
   ],
   "source": [
    "df_list = []\n",
    "for i in range(p5.shape[0]):\n",
    "    start = float(p5.iloc[i, 3])\n",
    "    end = float(p5.iloc[i, 4])\n",
    "    chromosome = 'chr' + str(p5.iloc[i, 2])\n",
    "    data1 = data[(data['Chr1'] == chromosome)]\n",
    "    data2 = data[(data['Chr2'] == chromosome)]\n",
    "    print('checking:', p5.iloc[i, 1], chromosome + ', ', start, end)\n",
    "\n",
    "    df_list.append(\n",
    "        data1[(data1['Pos1'].str.split('-').map(lambda x: float(x[0])) <= start)\n",
    "              & (start <=\n",
    "                 (data1['Pos1'].str.split('-').map(lambda x: float(x[1]))))\n",
    "              | (data1['Pos1'].str.split('-').map(lambda x: float(x[0])) <= end)\n",
    "              & (end <=\n",
    "                 (data1['Pos1'].str.split('-').map(lambda x: float(x[1]))))])\n",
    "    df_list.append(\n",
    "        data2[(data2['Pos2'].str.split('-').map(lambda x: float(x[0])) <= start)\n",
    "              & (start <=\n",
    "                 (data2['Pos2'].str.split('-').map(lambda x: float(x[1]))))\n",
    "              | (data2['Pos2'].str.split('-').map(lambda x: float(x[0])) <= end)\n",
    "              & (end <=\n",
    "                 (data2['Pos2'].str.split('-').map(lambda x: float(x[1]))))])"
   ]
  },
  {
   "cell_type": "code",
   "execution_count": 27,
   "metadata": {
    "ExecuteTime": {
     "end_time": "2019-03-01T00:36:02.422687Z",
     "start_time": "2019-03-01T00:36:02.398931Z"
    }
   },
   "outputs": [
    {
     "data": {
      "text/html": [
       "<div>\n",
       "<style scoped>\n",
       "    .dataframe tbody tr th:only-of-type {\n",
       "        vertical-align: middle;\n",
       "    }\n",
       "\n",
       "    .dataframe tbody tr th {\n",
       "        vertical-align: top;\n",
       "    }\n",
       "\n",
       "    .dataframe thead th {\n",
       "        text-align: right;\n",
       "    }\n",
       "</style>\n",
       "<table border=\"1\" class=\"dataframe\">\n",
       "  <thead>\n",
       "    <tr style=\"text-align: right;\">\n",
       "      <th></th>\n",
       "      <th>Key</th>\n",
       "      <th>Name</th>\n",
       "      <th>Source</th>\n",
       "      <th>dbSNP</th>\n",
       "      <th>Type</th>\n",
       "      <th>Chr1</th>\n",
       "      <th>Pos1</th>\n",
       "      <th>Chr2</th>\n",
       "      <th>Pos2</th>\n",
       "      <th>Qual1</th>\n",
       "      <th>...</th>\n",
       "      <th>AF2</th>\n",
       "      <th>Read1</th>\n",
       "      <th>Read2</th>\n",
       "      <th>Gene</th>\n",
       "      <th>Consequence</th>\n",
       "      <th>Impact</th>\n",
       "      <th>Ref1</th>\n",
       "      <th>Alt1</th>\n",
       "      <th>Ref2</th>\n",
       "      <th>Alt2</th>\n",
       "    </tr>\n",
       "  </thead>\n",
       "  <tbody>\n",
       "  </tbody>\n",
       "</table>\n",
       "<p>0 rows × 22 columns</p>\n",
       "</div>"
      ],
      "text/plain": [
       "Empty DataFrame\n",
       "Columns: [Key, Name, Source, dbSNP, Type, Chr1, Pos1, Chr2, Pos2, Qual1, Qual2, AF1, AF2, Read1, Read2, Gene, Consequence, Impact, Ref1, Alt1, Ref2, Alt2]\n",
       "Index: []\n",
       "\n",
       "[0 rows x 22 columns]"
      ]
     },
     "execution_count": 27,
     "metadata": {},
     "output_type": "execute_result"
    }
   ],
   "source": [
    "df_combined = pd.concat(df_list)\n",
    "df_combined"
   ]
  },
  {
   "cell_type": "markdown",
   "metadata": {
    "ExecuteTime": {
     "end_time": "2019-02-28T03:53:37.201292Z",
     "start_time": "2019-02-28T03:53:37.199005Z"
    }
   },
   "source": [
    "### p = 0.0001"
   ]
  },
  {
   "cell_type": "code",
   "execution_count": 28,
   "metadata": {
    "ExecuteTime": {
     "end_time": "2019-03-01T00:36:04.763668Z",
     "start_time": "2019-03-01T00:36:04.756937Z"
    }
   },
   "outputs": [],
   "source": [
    "gene_list = pd.read_csv('./ATRX_TF_0_0001.csv', header=None).iloc[:, 0]"
   ]
  },
  {
   "cell_type": "code",
   "execution_count": 29,
   "metadata": {
    "ExecuteTime": {
     "end_time": "2019-03-01T00:36:05.067284Z",
     "start_time": "2019-03-01T00:36:04.954503Z"
    }
   },
   "outputs": [],
   "source": [
    "gene_set = pd.read_csv(\n",
    "    '../../bitbucket/CNA/data/ref_data/EnsemblGRCh37Genes.tsv', sep='\\t')\n",
    "p1 = gene_set[gene_set['GeneName'].isin(gene_list)].reset_index(drop=True)"
   ]
  },
  {
   "cell_type": "code",
   "execution_count": 30,
   "metadata": {
    "ExecuteTime": {
     "end_time": "2019-03-01T00:36:21.445900Z",
     "start_time": "2019-03-01T00:36:05.419261Z"
    }
   },
   "outputs": [
    {
     "name": "stdout",
     "output_type": "stream",
     "text": [
      "checking: ZNF213 chr16,  3179778.0 3192806.0\n",
      "checking: RFX3 chr9,  3218297.0 3526004.0\n",
      "checking: ZNF561 chr19,  9715356.0 9732075.0\n",
      "checking: ZNF562 chr19,  9759330.0 9785776.0\n",
      "checking: SOX7 chr8,  10581278.0 10697357.0\n",
      "checking: CASZ1 chr1,  10696661.0 10856707.0\n",
      "checking: ZNF287 chr17,  16454701.0 16472520.0\n",
      "checking: MYOD1 chr11,  17741115.0 17743678.0\n",
      "checking: E2F3 chr6,  20402398.0 20493941.0\n",
      "checking: ZNF280A chr22,  22868060.0 22874613.0\n",
      "checking: ZNF70 chr22,  24083769.0 24093279.0\n",
      "checking: THRB chr3,  24158651.0 24536773.0\n",
      "checking: HOXA2 chr7,  27139721.0 27142430.0\n",
      "checking: HOXA9 chr7,  27202054.0 27210117.0\n",
      "checking: FOXS1 chr20,  30432103.0 30433420.0\n",
      "checking: PAX6 chr11,  31806340.0 31839509.0\n",
      "checking: ZBTB12 chrHSCHR6_MHC_QBL,  31857779.0 31860166.0\n",
      "checking: ZNF567 chr19,  37178514.0 37218603.0\n",
      "checking: CRX chr19,  48322703.0 48346587.0\n",
      "checking: GATA1 chrX,  48644962.0 48652716.0\n",
      "checking: TCF4 chr18,  52889562.0 53332018.0\n",
      "checking: KLF8 chrX,  56258854.0 56314322.0\n",
      "checking: ZNF582 chr19,  56887413.0 56904914.0\n",
      "checking: HESX1 chr3,  57231944.0 57260549.0\n",
      "checking: GLI1 chr12,  57853918.0 57866045.0\n",
      "checking: FOXB1 chr15,  60296421.0 60353929.0\n",
      "checking: ESRRA chr11,  64073044.0 64084215.0\n",
      "checking: MEIS1 chr2,  66660584.0 66801001.0\n",
      "checking: MYBL1 chr8,  67474410.0 67526482.0\n",
      "checking: MYF6 chr12,  81101277.0 81103253.0\n",
      "checking: TCF7L1 chr2,  85360533.0 85537511.0\n",
      "checking: ALX1 chr12,  85673885.0 85695562.0\n",
      "checking: NR2C1 chr12,  95414005.0 95467479.0\n",
      "checking: ZNF367 chr9,  99148223.0 99180611.0\n",
      "checking: OSR2 chr8,  99956631.0 99964332.0\n",
      "checking: ASCL1 chr12,  103351464.0 103354294.0\n",
      "checking: ZFPM2 chr8,  106330920.0 106816760.0\n",
      "checking: GLI2 chr2,  121493199.0 121750229.0\n",
      "checking: ZBTB6 chr9,  125670335.0 125675609.0\n",
      "checking: PBX3 chr9,  128509624.0 128729656.0\n",
      "checking: ZNF891 chr12,  133694740.0 133707059.0\n",
      "checking: EGR1 chr5,  137801179.0 137805004.0\n",
      "checking: EDF1 chr9,  139756571.0 139760738.0\n",
      "checking: HSFX1 chrX,  148855726.0 148858525.0\n",
      "checking: ZNF687 chr1,  151254094.0 151264656.0\n",
      "checking: HAND1 chr5,  153854532.0 153857824.0\n",
      "checking: ATF6 chr1,  161736084.0 161933860.0\n",
      "checking: TBX19 chr1,  168250278.0 168283664.0\n",
      "checking: HOXD9 chr2,  176987088.0 176989853.0\n",
      "checking: HOXD8 chr2,  176994422.0 176997423.0\n"
     ]
    }
   ],
   "source": [
    "df_list = []\n",
    "for i in range(p1.shape[0]):\n",
    "    start = float(p1.iloc[i, 3])\n",
    "    end = float(p1.iloc[i, 4])\n",
    "    chromosome = 'chr' + str(p1.iloc[i, 2])\n",
    "    data1 = data[(data['Chr1'] == chromosome)]\n",
    "    data2 = data[(data['Chr2'] == chromosome)]\n",
    "    print('checking:', p1.iloc[i, 1], chromosome + ', ', start, end)\n",
    "\n",
    "    df_list.append(\n",
    "        data1[(data1['Pos1'].str.split('-').map(lambda x: float(x[0])) <= start)\n",
    "              & (start <=\n",
    "                 (data1['Pos1'].str.split('-').map(lambda x: float(x[1]))))\n",
    "              | (data1['Pos1'].str.split('-').map(lambda x: float(x[0])) <= end)\n",
    "              & (end <=\n",
    "                 (data1['Pos1'].str.split('-').map(lambda x: float(x[1]))))])\n",
    "    df_list.append(\n",
    "        data2[(data2['Pos2'].str.split('-').map(lambda x: float(x[0])) <= start)\n",
    "              & (start <=\n",
    "                 (data2['Pos2'].str.split('-').map(lambda x: float(x[1]))))\n",
    "              | (data2['Pos2'].str.split('-').map(lambda x: float(x[0])) <= end)\n",
    "              & (end <=\n",
    "                 (data2['Pos2'].str.split('-').map(lambda x: float(x[1]))))])"
   ]
  },
  {
   "cell_type": "code",
   "execution_count": 31,
   "metadata": {
    "ExecuteTime": {
     "end_time": "2019-03-01T00:36:30.434568Z",
     "start_time": "2019-03-01T00:36:30.403419Z"
    }
   },
   "outputs": [
    {
     "data": {
      "text/html": [
       "<div>\n",
       "<style scoped>\n",
       "    .dataframe tbody tr th:only-of-type {\n",
       "        vertical-align: middle;\n",
       "    }\n",
       "\n",
       "    .dataframe tbody tr th {\n",
       "        vertical-align: top;\n",
       "    }\n",
       "\n",
       "    .dataframe thead th {\n",
       "        text-align: right;\n",
       "    }\n",
       "</style>\n",
       "<table border=\"1\" class=\"dataframe\">\n",
       "  <thead>\n",
       "    <tr style=\"text-align: right;\">\n",
       "      <th></th>\n",
       "      <th>Key</th>\n",
       "      <th>Name</th>\n",
       "      <th>Source</th>\n",
       "      <th>dbSNP</th>\n",
       "      <th>Type</th>\n",
       "      <th>Chr1</th>\n",
       "      <th>Pos1</th>\n",
       "      <th>Chr2</th>\n",
       "      <th>Pos2</th>\n",
       "      <th>Qual1</th>\n",
       "      <th>...</th>\n",
       "      <th>AF2</th>\n",
       "      <th>Read1</th>\n",
       "      <th>Read2</th>\n",
       "      <th>Gene</th>\n",
       "      <th>Consequence</th>\n",
       "      <th>Impact</th>\n",
       "      <th>Ref1</th>\n",
       "      <th>Alt1</th>\n",
       "      <th>Ref2</th>\n",
       "      <th>Alt2</th>\n",
       "    </tr>\n",
       "  </thead>\n",
       "  <tbody>\n",
       "  </tbody>\n",
       "</table>\n",
       "<p>0 rows × 22 columns</p>\n",
       "</div>"
      ],
      "text/plain": [
       "Empty DataFrame\n",
       "Columns: [Key, Name, Source, dbSNP, Type, Chr1, Pos1, Chr2, Pos2, Qual1, Qual2, AF1, AF2, Read1, Read2, Gene, Consequence, Impact, Ref1, Alt1, Ref2, Alt2]\n",
       "Index: []\n",
       "\n",
       "[0 rows x 22 columns]"
      ]
     },
     "execution_count": 31,
     "metadata": {},
     "output_type": "execute_result"
    }
   ],
   "source": [
    "df_combined = pd.concat(df_list)\n",
    "df_combined"
   ]
  },
  {
   "cell_type": "code",
   "execution_count": null,
   "metadata": {},
   "outputs": [],
   "source": []
  }
 ],
 "metadata": {
  "kernelspec": {
   "display_name": "Python 3",
   "language": "python",
   "name": "python3"
  },
  "language_info": {
   "codemirror_mode": {
    "name": "ipython",
    "version": 3
   },
   "file_extension": ".py",
   "mimetype": "text/x-python",
   "name": "python",
   "nbconvert_exporter": "python",
   "pygments_lexer": "ipython3",
   "version": "3.6.8"
  },
  "toc": {
   "base_numbering": 1,
   "nav_menu": {},
   "number_sections": true,
   "sideBar": true,
   "skip_h1_title": false,
   "title_cell": "Table of Contents",
   "title_sidebar": "Contents",
   "toc_cell": false,
   "toc_position": {
    "height": "calc(100% - 180px)",
    "left": "10px",
    "top": "150px",
    "width": "294.188px"
   },
   "toc_section_display": true,
   "toc_window_display": true
  }
 },
 "nbformat": 4,
 "nbformat_minor": 2
}
